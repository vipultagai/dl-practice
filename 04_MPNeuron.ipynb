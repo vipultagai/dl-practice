{
  "nbformat": 4,
  "nbformat_minor": 0,
  "metadata": {
    "colab": {
      "name": "04_MPNeuron.ipynb",
      "provenance": [],
      "collapsed_sections": [
        "UgTAl0CULJ1Q",
        "cLykHjbhLNcn",
        "Tq5tyuaeNocz",
        "KyoV5wnLPLMn",
        "qtoG36F6Vbhw"
      ],
      "include_colab_link": true
    },
    "kernelspec": {
      "name": "python3",
      "display_name": "Python 3"
    }
  },
  "cells": [
    {
      "cell_type": "markdown",
      "metadata": {
        "id": "view-in-github",
        "colab_type": "text"
      },
      "source": [
        "<a href=\"https://colab.research.google.com/github/satyajitghana/PadhAI-Course/blob/master/colab-notebooks/04_MPNeuron.ipynb\" target=\"_parent\"><img src=\"https://colab.research.google.com/assets/colab-badge.svg\" alt=\"Open In Colab\"/></a>"
      ]
    },
    {
      "cell_type": "code",
      "metadata": {
        "id": "ser0hOsOMi6P",
        "colab_type": "code",
        "outputId": "b880185b-1fb3-49f0-d830-6e1595e224d3",
        "colab": {
          "base_uri": "https://localhost:8080/",
          "height": 102
        }
      },
      "source": [
        "!pip install sklearn"
      ],
      "execution_count": 48,
      "outputs": [
        {
          "output_type": "stream",
          "text": [
            "Requirement already satisfied: sklearn in /usr/local/lib/python3.6/dist-packages (0.0)\n",
            "Requirement already satisfied: scikit-learn in /usr/local/lib/python3.6/dist-packages (from sklearn) (0.22.2.post1)\n",
            "Requirement already satisfied: joblib>=0.11 in /usr/local/lib/python3.6/dist-packages (from scikit-learn->sklearn) (0.14.1)\n",
            "Requirement already satisfied: numpy>=1.11.0 in /usr/local/lib/python3.6/dist-packages (from scikit-learn->sklearn) (1.18.2)\n",
            "Requirement already satisfied: scipy>=0.17.0 in /usr/local/lib/python3.6/dist-packages (from scikit-learn->sklearn) (1.4.1)\n"
          ],
          "name": "stdout"
        }
      ]
    },
    {
      "cell_type": "code",
      "metadata": {
        "id": "ELUQAoDTJFNq",
        "colab_type": "code",
        "colab": {}
      },
      "source": [
        "import sklearn.datasets\n",
        "import numpy as np\n",
        "import pandas as pd"
      ],
      "execution_count": 0,
      "outputs": []
    },
    {
      "cell_type": "markdown",
      "metadata": {
        "id": "UgTAl0CULJ1Q",
        "colab_type": "text"
      },
      "source": [
        "# Loading Dataset"
      ]
    },
    {
      "cell_type": "code",
      "metadata": {
        "id": "lnsAyc3xJV4N",
        "colab_type": "code",
        "colab": {}
      },
      "source": [
        "breast_cancer = sklearn.datasets.load_breast_cancer()"
      ],
      "execution_count": 0,
      "outputs": []
    },
    {
      "cell_type": "code",
      "metadata": {
        "id": "YUofBk2fJgRP",
        "colab_type": "code",
        "colab": {}
      },
      "source": [
        "X = breast_cancer.data\n",
        "Y = breast_cancer.target"
      ],
      "execution_count": 0,
      "outputs": []
    },
    {
      "cell_type": "code",
      "metadata": {
        "id": "eA2wp9pbJmF_",
        "colab_type": "code",
        "outputId": "56900082-7127-4d16-c172-a5186d647429",
        "colab": {
          "base_uri": "https://localhost:8080/",
          "height": 34
        }
      },
      "source": [
        "type(X), type(Y), X.shape, Y.shape"
      ],
      "execution_count": 52,
      "outputs": [
        {
          "output_type": "execute_result",
          "data": {
            "text/plain": [
              "(numpy.ndarray, numpy.ndarray, (569, 30), (569,))"
            ]
          },
          "metadata": {
            "tags": []
          },
          "execution_count": 52
        }
      ]
    },
    {
      "cell_type": "code",
      "metadata": {
        "id": "hQ9bskhcJ6Ro",
        "colab_type": "code",
        "outputId": "3f0ccca2-fe9c-47ee-bc91-e81547fd5383",
        "colab": {
          "base_uri": "https://localhost:8080/",
          "height": 921
        }
      },
      "source": [
        "breast_cancer"
      ],
      "execution_count": 53,
      "outputs": [
        {
          "output_type": "execute_result",
          "data": {
            "text/plain": [
              "{'DESCR': '.. _breast_cancer_dataset:\\n\\nBreast cancer wisconsin (diagnostic) dataset\\n--------------------------------------------\\n\\n**Data Set Characteristics:**\\n\\n    :Number of Instances: 569\\n\\n    :Number of Attributes: 30 numeric, predictive attributes and the class\\n\\n    :Attribute Information:\\n        - radius (mean of distances from center to points on the perimeter)\\n        - texture (standard deviation of gray-scale values)\\n        - perimeter\\n        - area\\n        - smoothness (local variation in radius lengths)\\n        - compactness (perimeter^2 / area - 1.0)\\n        - concavity (severity of concave portions of the contour)\\n        - concave points (number of concave portions of the contour)\\n        - symmetry \\n        - fractal dimension (\"coastline approximation\" - 1)\\n\\n        The mean, standard error, and \"worst\" or largest (mean of the three\\n        largest values) of these features were computed for each image,\\n        resulting in 30 features.  For instance, field 3 is Mean Radius, field\\n        13 is Radius SE, field 23 is Worst Radius.\\n\\n        - class:\\n                - WDBC-Malignant\\n                - WDBC-Benign\\n\\n    :Summary Statistics:\\n\\n    ===================================== ====== ======\\n                                           Min    Max\\n    ===================================== ====== ======\\n    radius (mean):                        6.981  28.11\\n    texture (mean):                       9.71   39.28\\n    perimeter (mean):                     43.79  188.5\\n    area (mean):                          143.5  2501.0\\n    smoothness (mean):                    0.053  0.163\\n    compactness (mean):                   0.019  0.345\\n    concavity (mean):                     0.0    0.427\\n    concave points (mean):                0.0    0.201\\n    symmetry (mean):                      0.106  0.304\\n    fractal dimension (mean):             0.05   0.097\\n    radius (standard error):              0.112  2.873\\n    texture (standard error):             0.36   4.885\\n    perimeter (standard error):           0.757  21.98\\n    area (standard error):                6.802  542.2\\n    smoothness (standard error):          0.002  0.031\\n    compactness (standard error):         0.002  0.135\\n    concavity (standard error):           0.0    0.396\\n    concave points (standard error):      0.0    0.053\\n    symmetry (standard error):            0.008  0.079\\n    fractal dimension (standard error):   0.001  0.03\\n    radius (worst):                       7.93   36.04\\n    texture (worst):                      12.02  49.54\\n    perimeter (worst):                    50.41  251.2\\n    area (worst):                         185.2  4254.0\\n    smoothness (worst):                   0.071  0.223\\n    compactness (worst):                  0.027  1.058\\n    concavity (worst):                    0.0    1.252\\n    concave points (worst):               0.0    0.291\\n    symmetry (worst):                     0.156  0.664\\n    fractal dimension (worst):            0.055  0.208\\n    ===================================== ====== ======\\n\\n    :Missing Attribute Values: None\\n\\n    :Class Distribution: 212 - Malignant, 357 - Benign\\n\\n    :Creator:  Dr. William H. Wolberg, W. Nick Street, Olvi L. Mangasarian\\n\\n    :Donor: Nick Street\\n\\n    :Date: November, 1995\\n\\nThis is a copy of UCI ML Breast Cancer Wisconsin (Diagnostic) datasets.\\nhttps://goo.gl/U2Uwz2\\n\\nFeatures are computed from a digitized image of a fine needle\\naspirate (FNA) of a breast mass.  They describe\\ncharacteristics of the cell nuclei present in the image.\\n\\nSeparating plane described above was obtained using\\nMultisurface Method-Tree (MSM-T) [K. P. Bennett, \"Decision Tree\\nConstruction Via Linear Programming.\" Proceedings of the 4th\\nMidwest Artificial Intelligence and Cognitive Science Society,\\npp. 97-101, 1992], a classification method which uses linear\\nprogramming to construct a decision tree.  Relevant features\\nwere selected using an exhaustive search in the space of 1-4\\nfeatures and 1-3 separating planes.\\n\\nThe actual linear program used to obtain the separating plane\\nin the 3-dimensional space is that described in:\\n[K. P. Bennett and O. L. Mangasarian: \"Robust Linear\\nProgramming Discrimination of Two Linearly Inseparable Sets\",\\nOptimization Methods and Software 1, 1992, 23-34].\\n\\nThis database is also available through the UW CS ftp server:\\n\\nftp ftp.cs.wisc.edu\\ncd math-prog/cpo-dataset/machine-learn/WDBC/\\n\\n.. topic:: References\\n\\n   - W.N. Street, W.H. Wolberg and O.L. Mangasarian. Nuclear feature extraction \\n     for breast tumor diagnosis. IS&T/SPIE 1993 International Symposium on \\n     Electronic Imaging: Science and Technology, volume 1905, pages 861-870,\\n     San Jose, CA, 1993.\\n   - O.L. Mangasarian, W.N. Street and W.H. Wolberg. Breast cancer diagnosis and \\n     prognosis via linear programming. Operations Research, 43(4), pages 570-577, \\n     July-August 1995.\\n   - W.H. Wolberg, W.N. Street, and O.L. Mangasarian. Machine learning techniques\\n     to diagnose breast cancer from fine-needle aspirates. Cancer Letters 77 (1994) \\n     163-171.',\n",
              " 'data': array([[1.799e+01, 1.038e+01, 1.228e+02, ..., 2.654e-01, 4.601e-01,\n",
              "         1.189e-01],\n",
              "        [2.057e+01, 1.777e+01, 1.329e+02, ..., 1.860e-01, 2.750e-01,\n",
              "         8.902e-02],\n",
              "        [1.969e+01, 2.125e+01, 1.300e+02, ..., 2.430e-01, 3.613e-01,\n",
              "         8.758e-02],\n",
              "        ...,\n",
              "        [1.660e+01, 2.808e+01, 1.083e+02, ..., 1.418e-01, 2.218e-01,\n",
              "         7.820e-02],\n",
              "        [2.060e+01, 2.933e+01, 1.401e+02, ..., 2.650e-01, 4.087e-01,\n",
              "         1.240e-01],\n",
              "        [7.760e+00, 2.454e+01, 4.792e+01, ..., 0.000e+00, 2.871e-01,\n",
              "         7.039e-02]]),\n",
              " 'feature_names': array(['mean radius', 'mean texture', 'mean perimeter', 'mean area',\n",
              "        'mean smoothness', 'mean compactness', 'mean concavity',\n",
              "        'mean concave points', 'mean symmetry', 'mean fractal dimension',\n",
              "        'radius error', 'texture error', 'perimeter error', 'area error',\n",
              "        'smoothness error', 'compactness error', 'concavity error',\n",
              "        'concave points error', 'symmetry error',\n",
              "        'fractal dimension error', 'worst radius', 'worst texture',\n",
              "        'worst perimeter', 'worst area', 'worst smoothness',\n",
              "        'worst compactness', 'worst concavity', 'worst concave points',\n",
              "        'worst symmetry', 'worst fractal dimension'], dtype='<U23'),\n",
              " 'filename': '/usr/local/lib/python3.6/dist-packages/sklearn/datasets/data/breast_cancer.csv',\n",
              " 'target': array([0, 0, 0, 0, 0, 0, 0, 0, 0, 0, 0, 0, 0, 0, 0, 0, 0, 0, 0, 1, 1, 1,\n",
              "        0, 0, 0, 0, 0, 0, 0, 0, 0, 0, 0, 0, 0, 0, 0, 1, 0, 0, 0, 0, 0, 0,\n",
              "        0, 0, 1, 0, 1, 1, 1, 1, 1, 0, 0, 1, 0, 0, 1, 1, 1, 1, 0, 1, 0, 0,\n",
              "        1, 1, 1, 1, 0, 1, 0, 0, 1, 0, 1, 0, 0, 1, 1, 1, 0, 0, 1, 0, 0, 0,\n",
              "        1, 1, 1, 0, 1, 1, 0, 0, 1, 1, 1, 0, 0, 1, 1, 1, 1, 0, 1, 1, 0, 1,\n",
              "        1, 1, 1, 1, 1, 1, 1, 0, 0, 0, 1, 0, 0, 1, 1, 1, 0, 0, 1, 0, 1, 0,\n",
              "        0, 1, 0, 0, 1, 1, 0, 1, 1, 0, 1, 1, 1, 1, 0, 1, 1, 1, 1, 1, 1, 1,\n",
              "        1, 1, 0, 1, 1, 1, 1, 0, 0, 1, 0, 1, 1, 0, 0, 1, 1, 0, 0, 1, 1, 1,\n",
              "        1, 0, 1, 1, 0, 0, 0, 1, 0, 1, 0, 1, 1, 1, 0, 1, 1, 0, 0, 1, 0, 0,\n",
              "        0, 0, 1, 0, 0, 0, 1, 0, 1, 0, 1, 1, 0, 1, 0, 0, 0, 0, 1, 1, 0, 0,\n",
              "        1, 1, 1, 0, 1, 1, 1, 1, 1, 0, 0, 1, 1, 0, 1, 1, 0, 0, 1, 0, 1, 1,\n",
              "        1, 1, 0, 1, 1, 1, 1, 1, 0, 1, 0, 0, 0, 0, 0, 0, 0, 0, 0, 0, 0, 0,\n",
              "        0, 0, 1, 1, 1, 1, 1, 1, 0, 1, 0, 1, 1, 0, 1, 1, 0, 1, 0, 0, 1, 1,\n",
              "        1, 1, 1, 1, 1, 1, 1, 1, 1, 1, 1, 0, 1, 1, 0, 1, 0, 1, 1, 1, 1, 1,\n",
              "        1, 1, 1, 1, 1, 1, 1, 1, 1, 0, 1, 1, 1, 0, 1, 0, 1, 1, 1, 1, 0, 0,\n",
              "        0, 1, 1, 1, 1, 0, 1, 0, 1, 0, 1, 1, 1, 0, 1, 1, 1, 1, 1, 1, 1, 0,\n",
              "        0, 0, 1, 1, 1, 1, 1, 1, 1, 1, 1, 1, 1, 0, 0, 1, 0, 0, 0, 1, 0, 0,\n",
              "        1, 1, 1, 1, 1, 0, 1, 1, 1, 1, 1, 0, 1, 1, 1, 0, 1, 1, 0, 0, 1, 1,\n",
              "        1, 1, 1, 1, 0, 1, 1, 1, 1, 1, 1, 1, 0, 1, 1, 1, 1, 1, 0, 1, 1, 0,\n",
              "        1, 1, 1, 1, 1, 1, 1, 1, 1, 1, 1, 1, 0, 1, 0, 0, 1, 0, 1, 1, 1, 1,\n",
              "        1, 0, 1, 1, 0, 1, 0, 1, 1, 0, 1, 0, 1, 1, 1, 1, 1, 1, 1, 1, 0, 0,\n",
              "        1, 1, 1, 1, 1, 1, 0, 1, 1, 1, 1, 1, 1, 1, 1, 1, 1, 0, 1, 1, 1, 1,\n",
              "        1, 1, 1, 0, 1, 0, 1, 1, 0, 1, 1, 1, 1, 1, 0, 0, 1, 0, 1, 0, 1, 1,\n",
              "        1, 1, 1, 0, 1, 1, 0, 1, 0, 1, 0, 0, 1, 1, 1, 0, 1, 1, 1, 1, 1, 1,\n",
              "        1, 1, 1, 1, 1, 0, 1, 0, 0, 1, 1, 1, 1, 1, 1, 1, 1, 1, 1, 1, 1, 1,\n",
              "        1, 1, 1, 1, 1, 1, 1, 1, 1, 1, 1, 1, 0, 0, 0, 0, 0, 0, 1]),\n",
              " 'target_names': array(['malignant', 'benign'], dtype='<U9')}"
            ]
          },
          "metadata": {
            "tags": []
          },
          "execution_count": 53
        }
      ]
    },
    {
      "cell_type": "code",
      "metadata": {
        "id": "8jMMveLtJpTN",
        "colab_type": "code",
        "colab": {}
      },
      "source": [
        "data = pd.DataFrame(breast_cancer.data, columns=breast_cancer.feature_names)"
      ],
      "execution_count": 0,
      "outputs": []
    },
    {
      "cell_type": "code",
      "metadata": {
        "id": "2UlyTzPrJ-6S",
        "colab_type": "code",
        "colab": {}
      },
      "source": [
        "data['class'] = breast_cancer.target"
      ],
      "execution_count": 0,
      "outputs": []
    },
    {
      "cell_type": "code",
      "metadata": {
        "id": "72S-APuZKBch",
        "colab_type": "code",
        "outputId": "66c0ee9f-5fee-450b-ed97-c51228ce4407",
        "colab": {
          "base_uri": "https://localhost:8080/",
          "height": 258
        }
      },
      "source": [
        "data.head()"
      ],
      "execution_count": 56,
      "outputs": [
        {
          "output_type": "execute_result",
          "data": {
            "text/html": [
              "<div>\n",
              "<style scoped>\n",
              "    .dataframe tbody tr th:only-of-type {\n",
              "        vertical-align: middle;\n",
              "    }\n",
              "\n",
              "    .dataframe tbody tr th {\n",
              "        vertical-align: top;\n",
              "    }\n",
              "\n",
              "    .dataframe thead th {\n",
              "        text-align: right;\n",
              "    }\n",
              "</style>\n",
              "<table border=\"1\" class=\"dataframe\">\n",
              "  <thead>\n",
              "    <tr style=\"text-align: right;\">\n",
              "      <th></th>\n",
              "      <th>mean radius</th>\n",
              "      <th>mean texture</th>\n",
              "      <th>mean perimeter</th>\n",
              "      <th>mean area</th>\n",
              "      <th>mean smoothness</th>\n",
              "      <th>mean compactness</th>\n",
              "      <th>mean concavity</th>\n",
              "      <th>mean concave points</th>\n",
              "      <th>mean symmetry</th>\n",
              "      <th>mean fractal dimension</th>\n",
              "      <th>radius error</th>\n",
              "      <th>texture error</th>\n",
              "      <th>perimeter error</th>\n",
              "      <th>area error</th>\n",
              "      <th>smoothness error</th>\n",
              "      <th>compactness error</th>\n",
              "      <th>concavity error</th>\n",
              "      <th>concave points error</th>\n",
              "      <th>symmetry error</th>\n",
              "      <th>fractal dimension error</th>\n",
              "      <th>worst radius</th>\n",
              "      <th>worst texture</th>\n",
              "      <th>worst perimeter</th>\n",
              "      <th>worst area</th>\n",
              "      <th>worst smoothness</th>\n",
              "      <th>worst compactness</th>\n",
              "      <th>worst concavity</th>\n",
              "      <th>worst concave points</th>\n",
              "      <th>worst symmetry</th>\n",
              "      <th>worst fractal dimension</th>\n",
              "      <th>class</th>\n",
              "    </tr>\n",
              "  </thead>\n",
              "  <tbody>\n",
              "    <tr>\n",
              "      <th>0</th>\n",
              "      <td>17.99</td>\n",
              "      <td>10.38</td>\n",
              "      <td>122.80</td>\n",
              "      <td>1001.0</td>\n",
              "      <td>0.11840</td>\n",
              "      <td>0.27760</td>\n",
              "      <td>0.3001</td>\n",
              "      <td>0.14710</td>\n",
              "      <td>0.2419</td>\n",
              "      <td>0.07871</td>\n",
              "      <td>1.0950</td>\n",
              "      <td>0.9053</td>\n",
              "      <td>8.589</td>\n",
              "      <td>153.40</td>\n",
              "      <td>0.006399</td>\n",
              "      <td>0.04904</td>\n",
              "      <td>0.05373</td>\n",
              "      <td>0.01587</td>\n",
              "      <td>0.03003</td>\n",
              "      <td>0.006193</td>\n",
              "      <td>25.38</td>\n",
              "      <td>17.33</td>\n",
              "      <td>184.60</td>\n",
              "      <td>2019.0</td>\n",
              "      <td>0.1622</td>\n",
              "      <td>0.6656</td>\n",
              "      <td>0.7119</td>\n",
              "      <td>0.2654</td>\n",
              "      <td>0.4601</td>\n",
              "      <td>0.11890</td>\n",
              "      <td>0</td>\n",
              "    </tr>\n",
              "    <tr>\n",
              "      <th>1</th>\n",
              "      <td>20.57</td>\n",
              "      <td>17.77</td>\n",
              "      <td>132.90</td>\n",
              "      <td>1326.0</td>\n",
              "      <td>0.08474</td>\n",
              "      <td>0.07864</td>\n",
              "      <td>0.0869</td>\n",
              "      <td>0.07017</td>\n",
              "      <td>0.1812</td>\n",
              "      <td>0.05667</td>\n",
              "      <td>0.5435</td>\n",
              "      <td>0.7339</td>\n",
              "      <td>3.398</td>\n",
              "      <td>74.08</td>\n",
              "      <td>0.005225</td>\n",
              "      <td>0.01308</td>\n",
              "      <td>0.01860</td>\n",
              "      <td>0.01340</td>\n",
              "      <td>0.01389</td>\n",
              "      <td>0.003532</td>\n",
              "      <td>24.99</td>\n",
              "      <td>23.41</td>\n",
              "      <td>158.80</td>\n",
              "      <td>1956.0</td>\n",
              "      <td>0.1238</td>\n",
              "      <td>0.1866</td>\n",
              "      <td>0.2416</td>\n",
              "      <td>0.1860</td>\n",
              "      <td>0.2750</td>\n",
              "      <td>0.08902</td>\n",
              "      <td>0</td>\n",
              "    </tr>\n",
              "    <tr>\n",
              "      <th>2</th>\n",
              "      <td>19.69</td>\n",
              "      <td>21.25</td>\n",
              "      <td>130.00</td>\n",
              "      <td>1203.0</td>\n",
              "      <td>0.10960</td>\n",
              "      <td>0.15990</td>\n",
              "      <td>0.1974</td>\n",
              "      <td>0.12790</td>\n",
              "      <td>0.2069</td>\n",
              "      <td>0.05999</td>\n",
              "      <td>0.7456</td>\n",
              "      <td>0.7869</td>\n",
              "      <td>4.585</td>\n",
              "      <td>94.03</td>\n",
              "      <td>0.006150</td>\n",
              "      <td>0.04006</td>\n",
              "      <td>0.03832</td>\n",
              "      <td>0.02058</td>\n",
              "      <td>0.02250</td>\n",
              "      <td>0.004571</td>\n",
              "      <td>23.57</td>\n",
              "      <td>25.53</td>\n",
              "      <td>152.50</td>\n",
              "      <td>1709.0</td>\n",
              "      <td>0.1444</td>\n",
              "      <td>0.4245</td>\n",
              "      <td>0.4504</td>\n",
              "      <td>0.2430</td>\n",
              "      <td>0.3613</td>\n",
              "      <td>0.08758</td>\n",
              "      <td>0</td>\n",
              "    </tr>\n",
              "    <tr>\n",
              "      <th>3</th>\n",
              "      <td>11.42</td>\n",
              "      <td>20.38</td>\n",
              "      <td>77.58</td>\n",
              "      <td>386.1</td>\n",
              "      <td>0.14250</td>\n",
              "      <td>0.28390</td>\n",
              "      <td>0.2414</td>\n",
              "      <td>0.10520</td>\n",
              "      <td>0.2597</td>\n",
              "      <td>0.09744</td>\n",
              "      <td>0.4956</td>\n",
              "      <td>1.1560</td>\n",
              "      <td>3.445</td>\n",
              "      <td>27.23</td>\n",
              "      <td>0.009110</td>\n",
              "      <td>0.07458</td>\n",
              "      <td>0.05661</td>\n",
              "      <td>0.01867</td>\n",
              "      <td>0.05963</td>\n",
              "      <td>0.009208</td>\n",
              "      <td>14.91</td>\n",
              "      <td>26.50</td>\n",
              "      <td>98.87</td>\n",
              "      <td>567.7</td>\n",
              "      <td>0.2098</td>\n",
              "      <td>0.8663</td>\n",
              "      <td>0.6869</td>\n",
              "      <td>0.2575</td>\n",
              "      <td>0.6638</td>\n",
              "      <td>0.17300</td>\n",
              "      <td>0</td>\n",
              "    </tr>\n",
              "    <tr>\n",
              "      <th>4</th>\n",
              "      <td>20.29</td>\n",
              "      <td>14.34</td>\n",
              "      <td>135.10</td>\n",
              "      <td>1297.0</td>\n",
              "      <td>0.10030</td>\n",
              "      <td>0.13280</td>\n",
              "      <td>0.1980</td>\n",
              "      <td>0.10430</td>\n",
              "      <td>0.1809</td>\n",
              "      <td>0.05883</td>\n",
              "      <td>0.7572</td>\n",
              "      <td>0.7813</td>\n",
              "      <td>5.438</td>\n",
              "      <td>94.44</td>\n",
              "      <td>0.011490</td>\n",
              "      <td>0.02461</td>\n",
              "      <td>0.05688</td>\n",
              "      <td>0.01885</td>\n",
              "      <td>0.01756</td>\n",
              "      <td>0.005115</td>\n",
              "      <td>22.54</td>\n",
              "      <td>16.67</td>\n",
              "      <td>152.20</td>\n",
              "      <td>1575.0</td>\n",
              "      <td>0.1374</td>\n",
              "      <td>0.2050</td>\n",
              "      <td>0.4000</td>\n",
              "      <td>0.1625</td>\n",
              "      <td>0.2364</td>\n",
              "      <td>0.07678</td>\n",
              "      <td>0</td>\n",
              "    </tr>\n",
              "  </tbody>\n",
              "</table>\n",
              "</div>"
            ],
            "text/plain": [
              "   mean radius  mean texture  ...  worst fractal dimension  class\n",
              "0        17.99         10.38  ...                  0.11890      0\n",
              "1        20.57         17.77  ...                  0.08902      0\n",
              "2        19.69         21.25  ...                  0.08758      0\n",
              "3        11.42         20.38  ...                  0.17300      0\n",
              "4        20.29         14.34  ...                  0.07678      0\n",
              "\n",
              "[5 rows x 31 columns]"
            ]
          },
          "metadata": {
            "tags": []
          },
          "execution_count": 56
        }
      ]
    },
    {
      "cell_type": "code",
      "metadata": {
        "id": "FVTYdDfVKCEt",
        "colab_type": "code",
        "outputId": "3f9e7a7e-4fd6-4c15-9c74-c81eea9d680d",
        "colab": {
          "base_uri": "https://localhost:8080/",
          "height": 351
        }
      },
      "source": [
        "data.describe()"
      ],
      "execution_count": 57,
      "outputs": [
        {
          "output_type": "execute_result",
          "data": {
            "text/html": [
              "<div>\n",
              "<style scoped>\n",
              "    .dataframe tbody tr th:only-of-type {\n",
              "        vertical-align: middle;\n",
              "    }\n",
              "\n",
              "    .dataframe tbody tr th {\n",
              "        vertical-align: top;\n",
              "    }\n",
              "\n",
              "    .dataframe thead th {\n",
              "        text-align: right;\n",
              "    }\n",
              "</style>\n",
              "<table border=\"1\" class=\"dataframe\">\n",
              "  <thead>\n",
              "    <tr style=\"text-align: right;\">\n",
              "      <th></th>\n",
              "      <th>mean radius</th>\n",
              "      <th>mean texture</th>\n",
              "      <th>mean perimeter</th>\n",
              "      <th>mean area</th>\n",
              "      <th>mean smoothness</th>\n",
              "      <th>mean compactness</th>\n",
              "      <th>mean concavity</th>\n",
              "      <th>mean concave points</th>\n",
              "      <th>mean symmetry</th>\n",
              "      <th>mean fractal dimension</th>\n",
              "      <th>radius error</th>\n",
              "      <th>texture error</th>\n",
              "      <th>perimeter error</th>\n",
              "      <th>area error</th>\n",
              "      <th>smoothness error</th>\n",
              "      <th>compactness error</th>\n",
              "      <th>concavity error</th>\n",
              "      <th>concave points error</th>\n",
              "      <th>symmetry error</th>\n",
              "      <th>fractal dimension error</th>\n",
              "      <th>worst radius</th>\n",
              "      <th>worst texture</th>\n",
              "      <th>worst perimeter</th>\n",
              "      <th>worst area</th>\n",
              "      <th>worst smoothness</th>\n",
              "      <th>worst compactness</th>\n",
              "      <th>worst concavity</th>\n",
              "      <th>worst concave points</th>\n",
              "      <th>worst symmetry</th>\n",
              "      <th>worst fractal dimension</th>\n",
              "      <th>class</th>\n",
              "    </tr>\n",
              "  </thead>\n",
              "  <tbody>\n",
              "    <tr>\n",
              "      <th>count</th>\n",
              "      <td>569.000000</td>\n",
              "      <td>569.000000</td>\n",
              "      <td>569.000000</td>\n",
              "      <td>569.000000</td>\n",
              "      <td>569.000000</td>\n",
              "      <td>569.000000</td>\n",
              "      <td>569.000000</td>\n",
              "      <td>569.000000</td>\n",
              "      <td>569.000000</td>\n",
              "      <td>569.000000</td>\n",
              "      <td>569.000000</td>\n",
              "      <td>569.000000</td>\n",
              "      <td>569.000000</td>\n",
              "      <td>569.000000</td>\n",
              "      <td>569.000000</td>\n",
              "      <td>569.000000</td>\n",
              "      <td>569.000000</td>\n",
              "      <td>569.000000</td>\n",
              "      <td>569.000000</td>\n",
              "      <td>569.000000</td>\n",
              "      <td>569.000000</td>\n",
              "      <td>569.000000</td>\n",
              "      <td>569.000000</td>\n",
              "      <td>569.000000</td>\n",
              "      <td>569.000000</td>\n",
              "      <td>569.000000</td>\n",
              "      <td>569.000000</td>\n",
              "      <td>569.000000</td>\n",
              "      <td>569.000000</td>\n",
              "      <td>569.000000</td>\n",
              "      <td>569.000000</td>\n",
              "    </tr>\n",
              "    <tr>\n",
              "      <th>mean</th>\n",
              "      <td>14.127292</td>\n",
              "      <td>19.289649</td>\n",
              "      <td>91.969033</td>\n",
              "      <td>654.889104</td>\n",
              "      <td>0.096360</td>\n",
              "      <td>0.104341</td>\n",
              "      <td>0.088799</td>\n",
              "      <td>0.048919</td>\n",
              "      <td>0.181162</td>\n",
              "      <td>0.062798</td>\n",
              "      <td>0.405172</td>\n",
              "      <td>1.216853</td>\n",
              "      <td>2.866059</td>\n",
              "      <td>40.337079</td>\n",
              "      <td>0.007041</td>\n",
              "      <td>0.025478</td>\n",
              "      <td>0.031894</td>\n",
              "      <td>0.011796</td>\n",
              "      <td>0.020542</td>\n",
              "      <td>0.003795</td>\n",
              "      <td>16.269190</td>\n",
              "      <td>25.677223</td>\n",
              "      <td>107.261213</td>\n",
              "      <td>880.583128</td>\n",
              "      <td>0.132369</td>\n",
              "      <td>0.254265</td>\n",
              "      <td>0.272188</td>\n",
              "      <td>0.114606</td>\n",
              "      <td>0.290076</td>\n",
              "      <td>0.083946</td>\n",
              "      <td>0.627417</td>\n",
              "    </tr>\n",
              "    <tr>\n",
              "      <th>std</th>\n",
              "      <td>3.524049</td>\n",
              "      <td>4.301036</td>\n",
              "      <td>24.298981</td>\n",
              "      <td>351.914129</td>\n",
              "      <td>0.014064</td>\n",
              "      <td>0.052813</td>\n",
              "      <td>0.079720</td>\n",
              "      <td>0.038803</td>\n",
              "      <td>0.027414</td>\n",
              "      <td>0.007060</td>\n",
              "      <td>0.277313</td>\n",
              "      <td>0.551648</td>\n",
              "      <td>2.021855</td>\n",
              "      <td>45.491006</td>\n",
              "      <td>0.003003</td>\n",
              "      <td>0.017908</td>\n",
              "      <td>0.030186</td>\n",
              "      <td>0.006170</td>\n",
              "      <td>0.008266</td>\n",
              "      <td>0.002646</td>\n",
              "      <td>4.833242</td>\n",
              "      <td>6.146258</td>\n",
              "      <td>33.602542</td>\n",
              "      <td>569.356993</td>\n",
              "      <td>0.022832</td>\n",
              "      <td>0.157336</td>\n",
              "      <td>0.208624</td>\n",
              "      <td>0.065732</td>\n",
              "      <td>0.061867</td>\n",
              "      <td>0.018061</td>\n",
              "      <td>0.483918</td>\n",
              "    </tr>\n",
              "    <tr>\n",
              "      <th>min</th>\n",
              "      <td>6.981000</td>\n",
              "      <td>9.710000</td>\n",
              "      <td>43.790000</td>\n",
              "      <td>143.500000</td>\n",
              "      <td>0.052630</td>\n",
              "      <td>0.019380</td>\n",
              "      <td>0.000000</td>\n",
              "      <td>0.000000</td>\n",
              "      <td>0.106000</td>\n",
              "      <td>0.049960</td>\n",
              "      <td>0.111500</td>\n",
              "      <td>0.360200</td>\n",
              "      <td>0.757000</td>\n",
              "      <td>6.802000</td>\n",
              "      <td>0.001713</td>\n",
              "      <td>0.002252</td>\n",
              "      <td>0.000000</td>\n",
              "      <td>0.000000</td>\n",
              "      <td>0.007882</td>\n",
              "      <td>0.000895</td>\n",
              "      <td>7.930000</td>\n",
              "      <td>12.020000</td>\n",
              "      <td>50.410000</td>\n",
              "      <td>185.200000</td>\n",
              "      <td>0.071170</td>\n",
              "      <td>0.027290</td>\n",
              "      <td>0.000000</td>\n",
              "      <td>0.000000</td>\n",
              "      <td>0.156500</td>\n",
              "      <td>0.055040</td>\n",
              "      <td>0.000000</td>\n",
              "    </tr>\n",
              "    <tr>\n",
              "      <th>25%</th>\n",
              "      <td>11.700000</td>\n",
              "      <td>16.170000</td>\n",
              "      <td>75.170000</td>\n",
              "      <td>420.300000</td>\n",
              "      <td>0.086370</td>\n",
              "      <td>0.064920</td>\n",
              "      <td>0.029560</td>\n",
              "      <td>0.020310</td>\n",
              "      <td>0.161900</td>\n",
              "      <td>0.057700</td>\n",
              "      <td>0.232400</td>\n",
              "      <td>0.833900</td>\n",
              "      <td>1.606000</td>\n",
              "      <td>17.850000</td>\n",
              "      <td>0.005169</td>\n",
              "      <td>0.013080</td>\n",
              "      <td>0.015090</td>\n",
              "      <td>0.007638</td>\n",
              "      <td>0.015160</td>\n",
              "      <td>0.002248</td>\n",
              "      <td>13.010000</td>\n",
              "      <td>21.080000</td>\n",
              "      <td>84.110000</td>\n",
              "      <td>515.300000</td>\n",
              "      <td>0.116600</td>\n",
              "      <td>0.147200</td>\n",
              "      <td>0.114500</td>\n",
              "      <td>0.064930</td>\n",
              "      <td>0.250400</td>\n",
              "      <td>0.071460</td>\n",
              "      <td>0.000000</td>\n",
              "    </tr>\n",
              "    <tr>\n",
              "      <th>50%</th>\n",
              "      <td>13.370000</td>\n",
              "      <td>18.840000</td>\n",
              "      <td>86.240000</td>\n",
              "      <td>551.100000</td>\n",
              "      <td>0.095870</td>\n",
              "      <td>0.092630</td>\n",
              "      <td>0.061540</td>\n",
              "      <td>0.033500</td>\n",
              "      <td>0.179200</td>\n",
              "      <td>0.061540</td>\n",
              "      <td>0.324200</td>\n",
              "      <td>1.108000</td>\n",
              "      <td>2.287000</td>\n",
              "      <td>24.530000</td>\n",
              "      <td>0.006380</td>\n",
              "      <td>0.020450</td>\n",
              "      <td>0.025890</td>\n",
              "      <td>0.010930</td>\n",
              "      <td>0.018730</td>\n",
              "      <td>0.003187</td>\n",
              "      <td>14.970000</td>\n",
              "      <td>25.410000</td>\n",
              "      <td>97.660000</td>\n",
              "      <td>686.500000</td>\n",
              "      <td>0.131300</td>\n",
              "      <td>0.211900</td>\n",
              "      <td>0.226700</td>\n",
              "      <td>0.099930</td>\n",
              "      <td>0.282200</td>\n",
              "      <td>0.080040</td>\n",
              "      <td>1.000000</td>\n",
              "    </tr>\n",
              "    <tr>\n",
              "      <th>75%</th>\n",
              "      <td>15.780000</td>\n",
              "      <td>21.800000</td>\n",
              "      <td>104.100000</td>\n",
              "      <td>782.700000</td>\n",
              "      <td>0.105300</td>\n",
              "      <td>0.130400</td>\n",
              "      <td>0.130700</td>\n",
              "      <td>0.074000</td>\n",
              "      <td>0.195700</td>\n",
              "      <td>0.066120</td>\n",
              "      <td>0.478900</td>\n",
              "      <td>1.474000</td>\n",
              "      <td>3.357000</td>\n",
              "      <td>45.190000</td>\n",
              "      <td>0.008146</td>\n",
              "      <td>0.032450</td>\n",
              "      <td>0.042050</td>\n",
              "      <td>0.014710</td>\n",
              "      <td>0.023480</td>\n",
              "      <td>0.004558</td>\n",
              "      <td>18.790000</td>\n",
              "      <td>29.720000</td>\n",
              "      <td>125.400000</td>\n",
              "      <td>1084.000000</td>\n",
              "      <td>0.146000</td>\n",
              "      <td>0.339100</td>\n",
              "      <td>0.382900</td>\n",
              "      <td>0.161400</td>\n",
              "      <td>0.317900</td>\n",
              "      <td>0.092080</td>\n",
              "      <td>1.000000</td>\n",
              "    </tr>\n",
              "    <tr>\n",
              "      <th>max</th>\n",
              "      <td>28.110000</td>\n",
              "      <td>39.280000</td>\n",
              "      <td>188.500000</td>\n",
              "      <td>2501.000000</td>\n",
              "      <td>0.163400</td>\n",
              "      <td>0.345400</td>\n",
              "      <td>0.426800</td>\n",
              "      <td>0.201200</td>\n",
              "      <td>0.304000</td>\n",
              "      <td>0.097440</td>\n",
              "      <td>2.873000</td>\n",
              "      <td>4.885000</td>\n",
              "      <td>21.980000</td>\n",
              "      <td>542.200000</td>\n",
              "      <td>0.031130</td>\n",
              "      <td>0.135400</td>\n",
              "      <td>0.396000</td>\n",
              "      <td>0.052790</td>\n",
              "      <td>0.078950</td>\n",
              "      <td>0.029840</td>\n",
              "      <td>36.040000</td>\n",
              "      <td>49.540000</td>\n",
              "      <td>251.200000</td>\n",
              "      <td>4254.000000</td>\n",
              "      <td>0.222600</td>\n",
              "      <td>1.058000</td>\n",
              "      <td>1.252000</td>\n",
              "      <td>0.291000</td>\n",
              "      <td>0.663800</td>\n",
              "      <td>0.207500</td>\n",
              "      <td>1.000000</td>\n",
              "    </tr>\n",
              "  </tbody>\n",
              "</table>\n",
              "</div>"
            ],
            "text/plain": [
              "       mean radius  mean texture  ...  worst fractal dimension       class\n",
              "count   569.000000    569.000000  ...               569.000000  569.000000\n",
              "mean     14.127292     19.289649  ...                 0.083946    0.627417\n",
              "std       3.524049      4.301036  ...                 0.018061    0.483918\n",
              "min       6.981000      9.710000  ...                 0.055040    0.000000\n",
              "25%      11.700000     16.170000  ...                 0.071460    0.000000\n",
              "50%      13.370000     18.840000  ...                 0.080040    1.000000\n",
              "75%      15.780000     21.800000  ...                 0.092080    1.000000\n",
              "max      28.110000     39.280000  ...                 0.207500    1.000000\n",
              "\n",
              "[8 rows x 31 columns]"
            ]
          },
          "metadata": {
            "tags": []
          },
          "execution_count": 57
        }
      ]
    },
    {
      "cell_type": "code",
      "metadata": {
        "id": "Ms4OsguSKKVS",
        "colab_type": "code",
        "outputId": "37c5dc77-e7e9-44c1-e379-72e34609a44b",
        "colab": {
          "base_uri": "https://localhost:8080/",
          "height": 68
        }
      },
      "source": [
        "data['class'].value_counts()"
      ],
      "execution_count": 58,
      "outputs": [
        {
          "output_type": "execute_result",
          "data": {
            "text/plain": [
              "1    357\n",
              "0    212\n",
              "Name: class, dtype: int64"
            ]
          },
          "metadata": {
            "tags": []
          },
          "execution_count": 58
        }
      ]
    },
    {
      "cell_type": "code",
      "metadata": {
        "id": "kFoYg0KmKRAL",
        "colab_type": "code",
        "outputId": "376489ee-6297-4f8a-b93b-b6bf59575375",
        "colab": {
          "base_uri": "https://localhost:8080/",
          "height": 34
        }
      },
      "source": [
        "breast_cancer.target_names"
      ],
      "execution_count": 59,
      "outputs": [
        {
          "output_type": "execute_result",
          "data": {
            "text/plain": [
              "array(['malignant', 'benign'], dtype='<U9')"
            ]
          },
          "metadata": {
            "tags": []
          },
          "execution_count": 59
        }
      ]
    },
    {
      "cell_type": "code",
      "metadata": {
        "id": "wgFdaun5KW9P",
        "colab_type": "code",
        "outputId": "fe163410-1532-40d7-c002-ee2d33c6c8c2",
        "colab": {
          "base_uri": "https://localhost:8080/",
          "height": 196
        }
      },
      "source": [
        "data.groupby('class').mean()"
      ],
      "execution_count": 60,
      "outputs": [
        {
          "output_type": "execute_result",
          "data": {
            "text/html": [
              "<div>\n",
              "<style scoped>\n",
              "    .dataframe tbody tr th:only-of-type {\n",
              "        vertical-align: middle;\n",
              "    }\n",
              "\n",
              "    .dataframe tbody tr th {\n",
              "        vertical-align: top;\n",
              "    }\n",
              "\n",
              "    .dataframe thead th {\n",
              "        text-align: right;\n",
              "    }\n",
              "</style>\n",
              "<table border=\"1\" class=\"dataframe\">\n",
              "  <thead>\n",
              "    <tr style=\"text-align: right;\">\n",
              "      <th></th>\n",
              "      <th>mean radius</th>\n",
              "      <th>mean texture</th>\n",
              "      <th>mean perimeter</th>\n",
              "      <th>mean area</th>\n",
              "      <th>mean smoothness</th>\n",
              "      <th>mean compactness</th>\n",
              "      <th>mean concavity</th>\n",
              "      <th>mean concave points</th>\n",
              "      <th>mean symmetry</th>\n",
              "      <th>mean fractal dimension</th>\n",
              "      <th>radius error</th>\n",
              "      <th>texture error</th>\n",
              "      <th>perimeter error</th>\n",
              "      <th>area error</th>\n",
              "      <th>smoothness error</th>\n",
              "      <th>compactness error</th>\n",
              "      <th>concavity error</th>\n",
              "      <th>concave points error</th>\n",
              "      <th>symmetry error</th>\n",
              "      <th>fractal dimension error</th>\n",
              "      <th>worst radius</th>\n",
              "      <th>worst texture</th>\n",
              "      <th>worst perimeter</th>\n",
              "      <th>worst area</th>\n",
              "      <th>worst smoothness</th>\n",
              "      <th>worst compactness</th>\n",
              "      <th>worst concavity</th>\n",
              "      <th>worst concave points</th>\n",
              "      <th>worst symmetry</th>\n",
              "      <th>worst fractal dimension</th>\n",
              "    </tr>\n",
              "    <tr>\n",
              "      <th>class</th>\n",
              "      <th></th>\n",
              "      <th></th>\n",
              "      <th></th>\n",
              "      <th></th>\n",
              "      <th></th>\n",
              "      <th></th>\n",
              "      <th></th>\n",
              "      <th></th>\n",
              "      <th></th>\n",
              "      <th></th>\n",
              "      <th></th>\n",
              "      <th></th>\n",
              "      <th></th>\n",
              "      <th></th>\n",
              "      <th></th>\n",
              "      <th></th>\n",
              "      <th></th>\n",
              "      <th></th>\n",
              "      <th></th>\n",
              "      <th></th>\n",
              "      <th></th>\n",
              "      <th></th>\n",
              "      <th></th>\n",
              "      <th></th>\n",
              "      <th></th>\n",
              "      <th></th>\n",
              "      <th></th>\n",
              "      <th></th>\n",
              "      <th></th>\n",
              "      <th></th>\n",
              "    </tr>\n",
              "  </thead>\n",
              "  <tbody>\n",
              "    <tr>\n",
              "      <th>0</th>\n",
              "      <td>17.462830</td>\n",
              "      <td>21.604906</td>\n",
              "      <td>115.365377</td>\n",
              "      <td>978.376415</td>\n",
              "      <td>0.102898</td>\n",
              "      <td>0.145188</td>\n",
              "      <td>0.160775</td>\n",
              "      <td>0.087990</td>\n",
              "      <td>0.192909</td>\n",
              "      <td>0.062680</td>\n",
              "      <td>0.609083</td>\n",
              "      <td>1.210915</td>\n",
              "      <td>4.323929</td>\n",
              "      <td>72.672406</td>\n",
              "      <td>0.006780</td>\n",
              "      <td>0.032281</td>\n",
              "      <td>0.041824</td>\n",
              "      <td>0.015060</td>\n",
              "      <td>0.020472</td>\n",
              "      <td>0.004062</td>\n",
              "      <td>21.134811</td>\n",
              "      <td>29.318208</td>\n",
              "      <td>141.370330</td>\n",
              "      <td>1422.286321</td>\n",
              "      <td>0.144845</td>\n",
              "      <td>0.374824</td>\n",
              "      <td>0.450606</td>\n",
              "      <td>0.182237</td>\n",
              "      <td>0.323468</td>\n",
              "      <td>0.091530</td>\n",
              "    </tr>\n",
              "    <tr>\n",
              "      <th>1</th>\n",
              "      <td>12.146524</td>\n",
              "      <td>17.914762</td>\n",
              "      <td>78.075406</td>\n",
              "      <td>462.790196</td>\n",
              "      <td>0.092478</td>\n",
              "      <td>0.080085</td>\n",
              "      <td>0.046058</td>\n",
              "      <td>0.025717</td>\n",
              "      <td>0.174186</td>\n",
              "      <td>0.062867</td>\n",
              "      <td>0.284082</td>\n",
              "      <td>1.220380</td>\n",
              "      <td>2.000321</td>\n",
              "      <td>21.135148</td>\n",
              "      <td>0.007196</td>\n",
              "      <td>0.021438</td>\n",
              "      <td>0.025997</td>\n",
              "      <td>0.009858</td>\n",
              "      <td>0.020584</td>\n",
              "      <td>0.003636</td>\n",
              "      <td>13.379801</td>\n",
              "      <td>23.515070</td>\n",
              "      <td>87.005938</td>\n",
              "      <td>558.899440</td>\n",
              "      <td>0.124959</td>\n",
              "      <td>0.182673</td>\n",
              "      <td>0.166238</td>\n",
              "      <td>0.074444</td>\n",
              "      <td>0.270246</td>\n",
              "      <td>0.079442</td>\n",
              "    </tr>\n",
              "  </tbody>\n",
              "</table>\n",
              "</div>"
            ],
            "text/plain": [
              "       mean radius  mean texture  ...  worst symmetry  worst fractal dimension\n",
              "class                             ...                                         \n",
              "0        17.462830     21.604906  ...        0.323468                 0.091530\n",
              "1        12.146524     17.914762  ...        0.270246                 0.079442\n",
              "\n",
              "[2 rows x 30 columns]"
            ]
          },
          "metadata": {
            "tags": []
          },
          "execution_count": 60
        }
      ]
    },
    {
      "cell_type": "code",
      "metadata": {
        "id": "9X_ZWLwCKdLt",
        "colab_type": "code",
        "colab": {}
      },
      "source": [
        ""
      ],
      "execution_count": 0,
      "outputs": []
    },
    {
      "cell_type": "markdown",
      "metadata": {
        "id": "cLykHjbhLNcn",
        "colab_type": "text"
      },
      "source": [
        "# Test Train Split"
      ]
    },
    {
      "cell_type": "code",
      "metadata": {
        "id": "zP-K0LcULPb3",
        "colab_type": "code",
        "colab": {}
      },
      "source": [
        "from sklearn.model_selection import train_test_split"
      ],
      "execution_count": 0,
      "outputs": []
    },
    {
      "cell_type": "code",
      "metadata": {
        "id": "lb249Zp9LWOc",
        "colab_type": "code",
        "colab": {}
      },
      "source": [
        "X = data.drop('class', axis=1)\n",
        "Y = data['class']"
      ],
      "execution_count": 0,
      "outputs": []
    },
    {
      "cell_type": "code",
      "metadata": {
        "id": "N8sd4mDuLbj-",
        "colab_type": "code",
        "colab": {}
      },
      "source": [
        "X_train, X_test, Y_train, Y_test = train_test_split(X, Y)"
      ],
      "execution_count": 0,
      "outputs": []
    },
    {
      "cell_type": "code",
      "metadata": {
        "id": "-2woUpa0LiZt",
        "colab_type": "code",
        "outputId": "b8050d15-6438-4374-ee87-2cdd82a11323",
        "colab": {
          "base_uri": "https://localhost:8080/",
          "height": 0
        }
      },
      "source": [
        "X.shape, X_train.shape, X_test.shape"
      ],
      "execution_count": 64,
      "outputs": [
        {
          "output_type": "execute_result",
          "data": {
            "text/plain": [
              "((569, 30), (426, 30), (143, 30))"
            ]
          },
          "metadata": {
            "tags": []
          },
          "execution_count": 64
        }
      ]
    },
    {
      "cell_type": "code",
      "metadata": {
        "id": "mfNI9egFLl2h",
        "colab_type": "code",
        "colab": {}
      },
      "source": [
        "X_train, X_test, Y_train, Y_test = train_test_split(X, Y, test_size=0.1)"
      ],
      "execution_count": 0,
      "outputs": []
    },
    {
      "cell_type": "code",
      "metadata": {
        "id": "PwkfyuzaLuEd",
        "colab_type": "code",
        "outputId": "831d7d96-90ea-47c9-a96e-774e7ab8ac9c",
        "colab": {
          "base_uri": "https://localhost:8080/",
          "height": 0
        }
      },
      "source": [
        "Y.mean(), Y_train.mean(), Y_test.mean()"
      ],
      "execution_count": 66,
      "outputs": [
        {
          "output_type": "execute_result",
          "data": {
            "text/plain": [
              "(0.6274165202108963, 0.619140625, 0.7017543859649122)"
            ]
          },
          "metadata": {
            "tags": []
          },
          "execution_count": 66
        }
      ]
    },
    {
      "cell_type": "code",
      "metadata": {
        "id": "qsPXfzSSL3d6",
        "colab_type": "code",
        "colab": {}
      },
      "source": [
        "X_train, X_test, Y_train, Y_test = train_test_split(X, Y, test_size=0.1, stratify = Y)"
      ],
      "execution_count": 0,
      "outputs": []
    },
    {
      "cell_type": "code",
      "metadata": {
        "id": "0-ip4ffhMJxq",
        "colab_type": "code",
        "outputId": "bc569a3a-f050-4b60-cc82-b99b3370c8a4",
        "colab": {
          "base_uri": "https://localhost:8080/",
          "height": 0
        }
      },
      "source": [
        "X.mean(), X_train.mean(), X_test.mean()"
      ],
      "execution_count": 68,
      "outputs": [
        {
          "output_type": "execute_result",
          "data": {
            "text/plain": [
              "(mean radius                 14.127292\n",
              " mean texture                19.289649\n",
              " mean perimeter              91.969033\n",
              " mean area                  654.889104\n",
              " mean smoothness              0.096360\n",
              " mean compactness             0.104341\n",
              " mean concavity               0.088799\n",
              " mean concave points          0.048919\n",
              " mean symmetry                0.181162\n",
              " mean fractal dimension       0.062798\n",
              " radius error                 0.405172\n",
              " texture error                1.216853\n",
              " perimeter error              2.866059\n",
              " area error                  40.337079\n",
              " smoothness error             0.007041\n",
              " compactness error            0.025478\n",
              " concavity error              0.031894\n",
              " concave points error         0.011796\n",
              " symmetry error               0.020542\n",
              " fractal dimension error      0.003795\n",
              " worst radius                16.269190\n",
              " worst texture               25.677223\n",
              " worst perimeter            107.261213\n",
              " worst area                 880.583128\n",
              " worst smoothness             0.132369\n",
              " worst compactness            0.254265\n",
              " worst concavity              0.272188\n",
              " worst concave points         0.114606\n",
              " worst symmetry               0.290076\n",
              " worst fractal dimension      0.083946\n",
              " dtype: float64, mean radius                 14.114576\n",
              " mean texture                19.265430\n",
              " mean perimeter              91.911504\n",
              " mean area                  653.970703\n",
              " mean smoothness              0.096504\n",
              " mean compactness             0.105124\n",
              " mean concavity               0.089436\n",
              " mean concave points          0.049089\n",
              " mean symmetry                0.182054\n",
              " mean fractal dimension       0.062922\n",
              " radius error                 0.408265\n",
              " texture error                1.216721\n",
              " perimeter error              2.891245\n",
              " area error                  40.674367\n",
              " smoothness error             0.007064\n",
              " compactness error            0.025810\n",
              " concavity error              0.032348\n",
              " concave points error         0.011861\n",
              " symmetry error               0.020714\n",
              " fractal dimension error      0.003839\n",
              " worst radius                16.255438\n",
              " worst texture               25.599727\n",
              " worst perimeter            107.189043\n",
              " worst area                 879.191406\n",
              " worst smoothness             0.132206\n",
              " worst compactness            0.254568\n",
              " worst concavity              0.271613\n",
              " worst concave points         0.114550\n",
              " worst symmetry               0.291290\n",
              " worst fractal dimension      0.084030\n",
              " dtype: float64, mean radius                 14.241509\n",
              " mean texture                19.507193\n",
              " mean perimeter              92.485789\n",
              " mean area                  663.138596\n",
              " mean smoothness              0.095066\n",
              " mean compactness             0.097307\n",
              " mean concavity               0.083082\n",
              " mean concave points          0.047392\n",
              " mean symmetry                0.173151\n",
              " mean fractal dimension       0.061684\n",
              " radius error                 0.377388\n",
              " texture error                1.218040\n",
              " perimeter error              2.639832\n",
              " area error                  37.307404\n",
              " smoothness error             0.006835\n",
              " compactness error            0.022501\n",
              " concavity error              0.027816\n",
              " concave points error         0.011214\n",
              " symmetry error               0.019001\n",
              " fractal dimension error      0.003399\n",
              " worst radius                16.392719\n",
              " worst texture               26.373333\n",
              " worst perimeter            107.909474\n",
              " worst area                 893.084211\n",
              " worst smoothness             0.133827\n",
              " worst compactness            0.251547\n",
              " worst concavity              0.277362\n",
              " worst concave points         0.115110\n",
              " worst symmetry               0.279167\n",
              " worst fractal dimension      0.083189\n",
              " dtype: float64)"
            ]
          },
          "metadata": {
            "tags": []
          },
          "execution_count": 68
        }
      ]
    },
    {
      "cell_type": "code",
      "metadata": {
        "id": "IL_fSvTqNQwD",
        "colab_type": "code",
        "colab": {}
      },
      "source": [
        ""
      ],
      "execution_count": 0,
      "outputs": []
    },
    {
      "cell_type": "markdown",
      "metadata": {
        "id": "Tq5tyuaeNocz",
        "colab_type": "text"
      },
      "source": [
        "# Binarisation of Input"
      ]
    },
    {
      "cell_type": "code",
      "metadata": {
        "id": "QYMxx4J-NqX6",
        "colab_type": "code",
        "colab": {}
      },
      "source": [
        "import matplotlib.pyplot as plt\n",
        "import seaborn as sns\n",
        "sns.set()"
      ],
      "execution_count": 0,
      "outputs": []
    },
    {
      "cell_type": "code",
      "metadata": {
        "id": "mIiJb2dlOCKr",
        "colab_type": "code",
        "outputId": "7e7cffb2-1781-48f2-b8cc-1089c957da18",
        "colab": {
          "base_uri": "https://localhost:8080/",
          "height": 0
        }
      },
      "source": [
        "plt.plot(X_train.T, '.')\n",
        "plt.xticks(rotation='vertical')\n",
        "plt.show()"
      ],
      "execution_count": 70,
      "outputs": [
        {
          "output_type": "display_data",
          "data": {
            "image/png": "[encoded data removed]",
            "text/plain": [
              "<Figure size 432x288 with 1 Axes>"
            ]
          },
          "metadata": {
            "tags": []
          }
        }
      ]
    },
    {
      "cell_type": "code",
      "metadata": {
        "id": "8_AvLy8NOGWB",
        "colab_type": "code",
        "colab": {}
      },
      "source": [
        "X_binarised_3_train = X_train['mean area'].map(lambda x: 0 if x < 1000 else 1)"
      ],
      "execution_count": 0,
      "outputs": []
    },
    {
      "cell_type": "code",
      "metadata": {
        "id": "nyWnyYAxOj0u",
        "colab_type": "code",
        "outputId": "85622c61-b757-460f-c257-6c676997e379",
        "colab": {
          "base_uri": "https://localhost:8080/",
          "height": 0
        }
      },
      "source": [
        "plt.plot(X_binarised_3_train, '.')"
      ],
      "execution_count": 72,
      "outputs": [
        {
          "output_type": "execute_result",
          "data": {
            "text/plain": [
              "[<matplotlib.lines.Line2D at 0x7f3793876ac8>]"
            ]
          },
          "metadata": {
            "tags": []
          },
          "execution_count": 72
        },
        {
          "output_type": "display_data",
          "data": {
            "image/png": "[encoded data removed]",
            "text/plain": [
              "<Figure size 432x288 with 1 Axes>"
            ]
          },
          "metadata": {
            "tags": []
          }
        }
      ]
    },
    {
      "cell_type": "code",
      "metadata": {
        "id": "6c8mIRBIOoIR",
        "colab_type": "code",
        "colab": {}
      },
      "source": [
        "X_binarised_train = X_train.apply(pd.cut, bins=2, labels=[1, 0])"
      ],
      "execution_count": 0,
      "outputs": []
    },
    {
      "cell_type": "code",
      "metadata": {
        "id": "aT1C7M_mO00s",
        "colab_type": "code",
        "outputId": "9beef01c-d100-479e-c81d-ef76cdccdff1",
        "colab": {
          "base_uri": "https://localhost:8080/",
          "height": 0
        }
      },
      "source": [
        "plt.plot(X_binarised_train.T, '.')\n",
        "plt.xticks(rotation='vertical')\n",
        "plt.show()"
      ],
      "execution_count": 74,
      "outputs": [
        {
          "output_type": "display_data",
          "data": {
            "image/png": "[encoded data removed]",
            "text/plain": [
              "<Figure size 432x288 with 1 Axes>"
            ]
          },
          "metadata": {
            "tags": []
          }
        }
      ]
    },
    {
      "cell_type": "code",
      "metadata": {
        "id": "o_SE7r6jO4vv",
        "colab_type": "code",
        "colab": {}
      },
      "source": [
        "X_binarised_test = X_test.apply(pd.cut, bins=2, labels=[1, 0])"
      ],
      "execution_count": 0,
      "outputs": []
    },
    {
      "cell_type": "code",
      "metadata": {
        "id": "W87h2OUSO-q7",
        "colab_type": "code",
        "colab": {}
      },
      "source": [
        "X_binarised_test = X_binarised_test.values\n",
        "X_binarised_train = X_binarised_train.values"
      ],
      "execution_count": 0,
      "outputs": []
    },
    {
      "cell_type": "code",
      "metadata": {
        "id": "gGXZoo8EPGcS",
        "colab_type": "code",
        "outputId": "3fe63eb8-43e3-42b6-bbc1-a90611ff1f3f",
        "colab": {
          "base_uri": "https://localhost:8080/",
          "height": 0
        }
      },
      "source": [
        "type(X_binarised_train)"
      ],
      "execution_count": 77,
      "outputs": [
        {
          "output_type": "execute_result",
          "data": {
            "text/plain": [
              "numpy.ndarray"
            ]
          },
          "metadata": {
            "tags": []
          },
          "execution_count": 77
        }
      ]
    },
    {
      "cell_type": "code",
      "metadata": {
        "id": "mO8wE-vHPI7n",
        "colab_type": "code",
        "colab": {}
      },
      "source": [
        ""
      ],
      "execution_count": 0,
      "outputs": []
    },
    {
      "cell_type": "markdown",
      "metadata": {
        "id": "KyoV5wnLPLMn",
        "colab_type": "text"
      },
      "source": [
        "# MP Neuron Model"
      ]
    },
    {
      "cell_type": "code",
      "metadata": {
        "id": "DegZuy0JPrnC",
        "colab_type": "code",
        "colab": {}
      },
      "source": [
        "from random import randint"
      ],
      "execution_count": 0,
      "outputs": []
    },
    {
      "cell_type": "code",
      "metadata": {
        "id": "7IzdGtxTPNY0",
        "colab_type": "code",
        "outputId": "1d6e613d-4dce-4be0-d8be-0570b1d3886e",
        "colab": {
          "base_uri": "https://localhost:8080/",
          "height": 0
        }
      },
      "source": [
        "b = 3\n",
        "\n",
        "i = randint(0, X_binarised_train.shape[0])\n",
        "\n",
        "print('For row', i)\n",
        "\n",
        "if (np.sum(X_binarised_train[100, :]) >= b):\n",
        "    print('MP Neuron inference is malignant')\n",
        "else:\n",
        "    print('MP Neuron inference is benign')\n",
        "\n",
        "if (Y_train[i] == 1):\n",
        "    print('Ground truth is malignant')\n",
        "else:\n",
        "    print('Ground truth is benign')"
      ],
      "execution_count": 79,
      "outputs": [
        {
          "output_type": "stream",
          "text": [
            "For row 53\n",
            "MP Neuron inference is malignant\n",
            "Ground truth is benign\n"
          ],
          "name": "stdout"
        }
      ]
    },
    {
      "cell_type": "code",
      "metadata": {
        "id": "45WGsroEP4di",
        "colab_type": "code",
        "outputId": "75a0590d-0d1e-4e52-cd53-7e78628efe26",
        "colab": {
          "base_uri": "https://localhost:8080/",
          "height": 0
        }
      },
      "source": [
        "b = 3\n",
        "\n",
        "Y_pred_train = []\n",
        "accurate_rows = 0\n",
        "\n",
        "for x, y in zip(X_binarised_train, Y_train):\n",
        "    y_pred = (np.sum(x) >= b)\n",
        "    Y_pred_train.append(y_pred)\n",
        "    accurate_rows += (y == y_pred)\n",
        "\n",
        "print(accurate_rows, accurate_rows/X_binarised_train.shape[0])"
      ],
      "execution_count": 80,
      "outputs": [
        {
          "output_type": "stream",
          "text": [
            "321 0.626953125\n"
          ],
          "name": "stdout"
        }
      ]
    },
    {
      "cell_type": "code",
      "metadata": {
        "id": "TYxLNbAAReTY",
        "colab_type": "code",
        "outputId": "019d4929-1a11-4b5d-c4a1-f34293162e48",
        "colab": {
          "base_uri": "https://localhost:8080/",
          "height": 0
        }
      },
      "source": [
        "for b in range(X_binarised_train.shape[1] + 1):\n",
        "    Y_pred_train = []\n",
        "    accurate_rows = 0\n",
        "\n",
        "    for x, y in zip(X_binarised_train, Y_train):\n",
        "        y_pred = (np.sum(x) >= b)\n",
        "        Y_pred_train.append(y_pred)\n",
        "        accurate_rows += (y == y_pred)\n",
        "\n",
        "    print(b, accurate_rows, accurate_rows/X_binarised_train.shape[0])"
      ],
      "execution_count": 81,
      "outputs": [
        {
          "output_type": "stream",
          "text": [
            "0 321 0.626953125\n",
            "1 321 0.626953125\n",
            "2 321 0.626953125\n",
            "3 321 0.626953125\n",
            "4 321 0.626953125\n",
            "5 321 0.626953125\n",
            "6 321 0.626953125\n",
            "7 321 0.626953125\n",
            "8 321 0.626953125\n",
            "9 321 0.626953125\n",
            "10 321 0.626953125\n",
            "11 321 0.626953125\n",
            "12 321 0.626953125\n",
            "13 322 0.62890625\n",
            "14 324 0.6328125\n",
            "15 326 0.63671875\n",
            "16 330 0.64453125\n",
            "17 335 0.654296875\n",
            "18 338 0.66015625\n",
            "19 341 0.666015625\n",
            "20 344 0.671875\n",
            "21 354 0.69140625\n",
            "22 363 0.708984375\n",
            "23 374 0.73046875\n",
            "24 395 0.771484375\n",
            "25 407 0.794921875\n",
            "26 422 0.82421875\n",
            "27 438 0.85546875\n",
            "28 437 0.853515625\n",
            "29 417 0.814453125\n",
            "30 384 0.75\n"
          ],
          "name": "stdout"
        }
      ]
    },
    {
      "cell_type": "code",
      "metadata": {
        "id": "9XoxC6Z4UT1S",
        "colab_type": "code",
        "colab": {}
      },
      "source": [
        "from sklearn.metrics import accuracy_score"
      ],
      "execution_count": 0,
      "outputs": []
    },
    {
      "cell_type": "code",
      "metadata": {
        "id": "JeeivBGRSlV8",
        "colab_type": "code",
        "outputId": "f85e9dd3-f22e-4271-f4f5-c7a8d290edbf",
        "colab": {
          "base_uri": "https://localhost:8080/",
          "height": 0
        }
      },
      "source": [
        "b = 28\n",
        "Y_pred_test = []\n",
        "accurate_rows = 0\n",
        "\n",
        "for x in X_binarised_test:\n",
        "    y_pred = (np.sum(x) >= b)\n",
        "    Y_pred_test.append(y_pred)\n",
        "\n",
        "accuracy = accuracy_score(Y_pred_test, Y_test)\n",
        "    \n",
        "print(b, accuracy)"
      ],
      "execution_count": 83,
      "outputs": [
        {
          "output_type": "stream",
          "text": [
            "28 0.7192982456140351\n"
          ],
          "name": "stdout"
        }
      ]
    },
    {
      "cell_type": "code",
      "metadata": {
        "id": "qoOIsqqcUlFV",
        "colab_type": "code",
        "colab": {}
      },
      "source": [
        ""
      ],
      "execution_count": 0,
      "outputs": []
    },
    {
      "cell_type": "markdown",
      "metadata": {
        "id": "qtoG36F6Vbhw",
        "colab_type": "text"
      },
      "source": [
        "# MP Neuron Class"
      ]
    },
    {
      "cell_type": "code",
      "metadata": {
        "id": "8m0o0KWLVdSx",
        "colab_type": "code",
        "colab": {}
      },
      "source": [
        "class MPNeuron:\n",
        "    \n",
        "    def __init__(self):\n",
        "        self.b = None\n",
        "        \n",
        "    def model(self, x):\n",
        "        return(sum(x) >= self.b)\n",
        "    \n",
        "    def predict(self, X):\n",
        "        Y = []\n",
        "        for x in X:\n",
        "            result = self.model(x)\n",
        "            Y.append(result)\n",
        "        return np.asarray(Y)\n",
        "    \n",
        "    def fit(self, X, Y):\n",
        "        accuracy = {}\n",
        "        \n",
        "        for b in range(X.shape[1] + 1):\n",
        "            self.b = b\n",
        "            Y_pred = self.predict(X)\n",
        "            accuracy[b] = accuracy_score(Y_pred, Y)\n",
        "            \n",
        "        best_b = max(accuracy, key = accuracy.get)\n",
        "        self.b = best_b\n",
        "        \n",
        "        print('Optimal value of b is ', best_b)\n",
        "        print('Highest accuracy is ', accuracy[best_b])"
      ],
      "execution_count": 0,
      "outputs": []
    },
    {
      "cell_type": "code",
      "metadata": {
        "id": "HK6uQLPMWZ5Z",
        "colab_type": "code",
        "outputId": "842b8cd3-448f-4b60-ec69-9f5f68d4b112",
        "colab": {
          "base_uri": "https://localhost:8080/",
          "height": 0
        }
      },
      "source": [
        "mp_neuron = MPNeuron()\n",
        "mp_neuron.fit(X_binarised_train, Y_train)"
      ],
      "execution_count": 85,
      "outputs": [
        {
          "output_type": "stream",
          "text": [
            "Optimal value of b is  27\n",
            "Highest accuracy is  0.85546875\n"
          ],
          "name": "stdout"
        }
      ]
    },
    {
      "cell_type": "code",
      "metadata": {
        "id": "Af7shHYrWf_L",
        "colab_type": "code",
        "colab": {}
      },
      "source": [
        "Y_test_pred = mp_neuron.predict(X_binarised_test)\n",
        "accuracy_test = accuracy_score(Y_test_pred, Y_test)"
      ],
      "execution_count": 0,
      "outputs": []
    },
    {
      "cell_type": "code",
      "metadata": {
        "id": "3shdqIegWsIE",
        "colab_type": "code",
        "outputId": "ba90a093-f326-4242-d8bd-f394baa48edc",
        "colab": {
          "base_uri": "https://localhost:8080/",
          "height": 0
        }
      },
      "source": [
        "accuracy_test"
      ],
      "execution_count": 87,
      "outputs": [
        {
          "output_type": "execute_result",
          "data": {
            "text/plain": [
              "0.7719298245614035"
            ]
          },
          "metadata": {
            "tags": []
          },
          "execution_count": 87
        }
      ]
    },
    {
      "cell_type": "code",
      "metadata": {
        "id": "9RWxxyP9WuoV",
        "colab_type": "code",
        "colab": {}
      },
      "source": [
        ""
      ],
      "execution_count": 0,
      "outputs": []
    },
    {
      "cell_type": "markdown",
      "metadata": {
        "id": "pTD4MkNvWzky",
        "colab_type": "text"
      },
      "source": [
        "# Perceptron Class"
      ]
    },
    {
      "cell_type": "code",
      "metadata": {
        "id": "l_nV92XUarqv",
        "colab_type": "code",
        "colab": {}
      },
      "source": [
        "X_train = X_train.values\n",
        "X_test = X_test.values"
      ],
      "execution_count": 0,
      "outputs": []
    },
    {
      "cell_type": "code",
      "metadata": {
        "id": "47HJQ6tYW1T8",
        "colab_type": "code",
        "colab": {}
      },
      "source": [
        "class Perceptron:\n",
        "    \n",
        "    def __init__(self):\n",
        "        self.w = None\n",
        "        self.b = None\n",
        "    \n",
        "    def model(self, x):\n",
        "        return 1 if (np.dot(self.w, x) >= self.b) else 0\n",
        "    \n",
        "    def predict(self, X):\n",
        "        Y = []\n",
        "        for x in X:\n",
        "            result = self.model(x)\n",
        "            Y.append(result)\n",
        "        return np.asarray(Y)\n",
        "    \"\"\"\n",
        "    lr = learning rate\n",
        "    epochs = number of time to iterate over all the data\n",
        "    \"\"\"\n",
        "    def fit(self, X, Y, epochs = 1, lr = 1):\n",
        "        \n",
        "        self.w = np.ones(X.shape[1])\n",
        "        self.b = 0\n",
        "        \n",
        "        accuracy = {}\n",
        "        max_accuracy = 0\n",
        "        \n",
        "        wt_matrix = []\n",
        "                \n",
        "        for i in range(epochs):\n",
        "            wt_matrix.append(self.w)\n",
        "            for x, y in zip(X, Y):\n",
        "                y_pred = self.model(x)\n",
        "\n",
        "                if y == 1 and y_pred == 0:\n",
        "                    self.w = self.w + lr * x\n",
        "                    self.b = self.b - lr * 1\n",
        "                elif y == 0 and y_pred == 1:\n",
        "                    self.w = self.w - lr * x\n",
        "                    self.b = self.b + lr * 1\n",
        "            \n",
        "            accuracy[i] = accuracy_score(self.predict(X), Y)\n",
        "\n",
        "            if (accuracy[i] > max_accuracy):\n",
        "                max_accuracy = accuracy[i]\n",
        "                chkptw = self.w\n",
        "                chkptb = self.b\n",
        "                \n",
        "        self.w = chkptw\n",
        "        self.b = chkptb\n",
        "                \n",
        "        print('Highest Accuracy ', max_accuracy)\n",
        "        plt.plot(list(accuracy.values()), '-.')\n",
        "        plt.ylim([0, 1])\n",
        "        plt.show()\n",
        "        \n",
        "        \n",
        "        return np.asarray(wt_matrix)"
      ],
      "execution_count": 0,
      "outputs": []
    },
    {
      "cell_type": "code",
      "metadata": {
        "id": "def82oq6ap0D",
        "colab_type": "code",
        "colab": {}
      },
      "source": [
        "perceptron = Perceptron()"
      ],
      "execution_count": 0,
      "outputs": []
    },
    {
      "cell_type": "code",
      "metadata": {
        "id": "HTzWC6_ga1QT",
        "colab_type": "code",
        "outputId": "8f012ddf-2ba3-4f8f-bd7a-de29600fd096",
        "colab": {
          "base_uri": "https://localhost:8080/",
          "height": 289
        }
      },
      "source": [
        "wt_matrix = perceptron.fit(X_train, Y_train, epochs=100, lr=1)"
      ],
      "execution_count": 91,
      "outputs": [
        {
          "output_type": "stream",
          "text": [
            "Highest Accuracy  0.92578125\n"
          ],
          "name": "stdout"
        },
        {
          "output_type": "display_data",
          "data": {
            "image/png": "[encoded data removed]",
            "text/plain": [
              "<Figure size 432x288 with 1 Axes>"
            ]
          },
          "metadata": {
            "tags": []
          }
        }
      ]
    },
    {
      "cell_type": "code",
      "metadata": {
        "id": "unLWqT2ta64C",
        "colab_type": "code",
        "outputId": "902948bf-1ce7-4df3-9db2-71a577fac634",
        "colab": {
          "base_uri": "https://localhost:8080/",
          "height": 34
        }
      },
      "source": [
        "Y_pred_train = perceptron.predict(X_train)\n",
        "accuracy_score(Y_pred_train, Y_train)"
      ],
      "execution_count": 92,
      "outputs": [
        {
          "output_type": "execute_result",
          "data": {
            "text/plain": [
              "0.92578125"
            ]
          },
          "metadata": {
            "tags": []
          },
          "execution_count": 92
        }
      ]
    },
    {
      "cell_type": "code",
      "metadata": {
        "id": "q6Z90ibQbC-j",
        "colab_type": "code",
        "outputId": "617edaea-567c-4b45-f98e-48ee279f6418",
        "colab": {
          "base_uri": "https://localhost:8080/",
          "height": 34
        }
      },
      "source": [
        "Y_pred_test = perceptron.predict(X_test)\n",
        "accuracy_score(Y_pred_test, Y_test)"
      ],
      "execution_count": 93,
      "outputs": [
        {
          "output_type": "execute_result",
          "data": {
            "text/plain": [
              "0.8421052631578947"
            ]
          },
          "metadata": {
            "tags": []
          },
          "execution_count": 93
        }
      ]
    },
    {
      "cell_type": "code",
      "metadata": {
        "id": "_VNBlzGua3SI",
        "colab_type": "code",
        "outputId": "b8f9bc49-8fbf-4daa-f810-b1a2564fa974",
        "colab": {
          "base_uri": "https://localhost:8080/",
          "height": 268
        }
      },
      "source": [
        "plt.plot(perceptron.w)\n",
        "plt.show()"
      ],
      "execution_count": 94,
      "outputs": [
        {
          "output_type": "display_data",
          "data": {
            "image/png": "[encoded data removed]",
            "text/plain": [
              "<Figure size 432x288 with 1 Axes>"
            ]
          },
          "metadata": {
            "tags": []
          }
        }
      ]
    },
    {
      "cell_type": "code",
      "metadata": {
        "id": "GjBe2XjsbH8l",
        "colab_type": "code",
        "colab": {}
      },
      "source": [
        "%matplotlib inline"
      ],
      "execution_count": 0,
      "outputs": []
    },
    {
      "cell_type": "code",
      "metadata": {
        "id": "kqnB6EXeff7K",
        "colab_type": "code",
        "colab": {}
      },
      "source": [
        "import numpy as np\n",
        "import matplotlib.pyplot as plt\n",
        "from matplotlib import animation, rc\n",
        "from IPython.display import HTML\n",
        "import seaborn as sns\n",
        "sns.set()"
      ],
      "execution_count": 0,
      "outputs": []
    },
    {
      "cell_type": "code",
      "metadata": {
        "id": "qkIKBrosfq7I",
        "colab_type": "code",
        "outputId": "429adf5f-c8f7-4d92-c363-f4cf4b1dfb7e",
        "colab": {
          "base_uri": "https://localhost:8080/",
          "height": 272
        }
      },
      "source": [
        "fig, ax = plt.subplots()\n",
        "\n",
        "ax.set_xlim((0, wt_matrix.shape[1]))\n",
        "ax.set_ylim((-15000, 25000))\n",
        "\n",
        "line, = ax.plot([], [], lw=2)"
      ],
      "execution_count": 97,
      "outputs": [
        {
          "output_type": "display_data",
          "data": {
            "image/png": "[encoded data removed]",
            "text/plain": [
              "<Figure size 432x288 with 1 Axes>"
            ]
          },
          "metadata": {
            "tags": []
          }
        }
      ]
    },
    {
      "cell_type": "code",
      "metadata": {
        "id": "LY74e_2Jf-zb",
        "colab_type": "code",
        "colab": {}
      },
      "source": [
        "# animation function. This is called sequentially\n",
        "def animate(i):\n",
        "    x = list(range(wt_matrix.shape[1]))\n",
        "    y = wt_matrix[i, :]\n",
        "    line.set_data(x, y)\n",
        "    return (line,)"
      ],
      "execution_count": 0,
      "outputs": []
    },
    {
      "cell_type": "code",
      "metadata": {
        "id": "NPRAhqVmgTQv",
        "colab_type": "code",
        "colab": {}
      },
      "source": [
        "# call the animator. blit=True means only re-draw the parts that have changed.\n",
        "anim = animation.FuncAnimation(fig, animate, frames=100, interval=200, blit=True)"
      ],
      "execution_count": 0,
      "outputs": []
    },
    {
      "cell_type": "code",
      "metadata": {
        "id": "PXZKOogagT6Q",
        "colab_type": "code",
        "outputId": "4f919cf3-535d-4082-bde7-33c873134da8",
        "colab": {
          "base_uri": "https://localhost:8080/",
          "height": 309
        }
      },
      "source": [
        "HTML(anim.to_html5_video())"
      ],
      "execution_count": 100,
      "outputs": [
        {
          "output_type": "execute_result",
          "data": {
            "text/html": [
              "<video width=\"432\" height=\"288\" controls autoplay loop>\n",
              "  <source type=\"video/mp4\" src=\"data:video/mp4;base64,AAAAHGZ0eXBNNFYgAAACAGlzb21pc28yYXZjMQAAAAhmcmVlAACGr21kYXQAAAKtBgX//6ncRem9\n",
              "5tlIt5Ys2CDZI+7veDI2NCAtIGNvcmUgMTUyIHIyODU0IGU5YTU5MDMgLSBILjI2NC9NUEVHLTQg\n",
              "QVZDIGNvZGVjIC0gQ29weWxlZnQgMjAwMy0yMDE3IC0gaHR0cDovL3d3dy52aWRlb2xhbi5vcmcv\n",
              "eDI2NC5odG1sIC0gb3B0aW9uczogY2FiYWM9MSByZWY9MyBkZWJsb2NrPTE6MDowIGFuYWx5c2U9\n",
              "MHgzOjB4MTEzIG1lPWhleCBzdWJtZT03IHBzeT0xIHBzeV9yZD0xLjAwOjAuMDAgbWl4ZWRfcmVm\n",
              "PTEgbWVfcmFuZ2U9MTYgY2hyb21hX21lPTEgdHJlbGxpcz0xIDh4OGRjdD0xIGNxbT0wIGRlYWR6\n",
              "b25lPTIxLDExIGZhc3RfcHNraXA9MSBjaHJvbWFfcXBfb2Zmc2V0PS0yIHRocmVhZHM9MyBsb29r\n",
              "YWhlYWRfdGhyZWFkcz0xIHNsaWNlZF90aHJlYWRzPTAgbnI9MCBkZWNpbWF0ZT0xIGludGVybGFj\n",
              "ZWQ9MCBibHVyYXlfY29tcGF0PTAgY29uc3RyYWluZWRfaW50cmE9MCBiZnJhbWVzPTMgYl9weXJh\n",
              "bWlkPTIgYl9hZGFwdD0xIGJfYmlhcz0wIGRpcmVjdD0xIHdlaWdodGI9MSBvcGVuX2dvcD0wIHdl\n",
              "aWdodHA9MiBrZXlpbnQ9MjUwIGtleWludF9taW49NSBzY2VuZWN1dD00MCBpbnRyYV9yZWZyZXNo\n",
              "PTAgcmNfbG9va2FoZWFkPTQwIHJjPWNyZiBtYnRyZWU9MSBjcmY9MjMuMCBxY29tcD0wLjYwIHFw\n",
              "bWluPTAgcXBtYXg9NjkgcXBzdGVwPTQgaXBfcmF0aW89MS40MCBhcT0xOjEuMDAAgAAAEadliIQA\n",
              "Ev/+963fgU3AQO1rulc4tMurlDQ9UfaUpni2SAAAAwAH+v4QTPGoI5ASI4LdT3r7p1K8pBfs1voF\n",
              "5rTmoUAS+cVr015jkMVfg3niKHskFhOkbd8RoKca/IjU9lmRQsoibOluQ81DkQ2srInF+fDhmDiF\n",
              "0OyxpLKSiZMmak5SCqAbMfGiCkBWQdApu7y7fBFPUqmmN+sivVQbiG7EXsaTAPUfz4AAAzf/2k1X\n",
              "PTfb8b9y8wCi/2odfLAy/L435IO1yRpk2meELqqAiIa2YNyBaE/RYC1OXHzrhEBp099zemQmFRSW\n",
              "nV1RlZ/u6c6ngAh5KQM4klt558zV+NeRF0UTKCRwjQUk/2Dz49SssOESvZoIqHiAwf9AtGJgnyNy\n",
              "fnzDN/Dpo1lXvLJefNAcgRPL9pdxbA6mdmDfq50WW72C8xNbDjSpP2w/PqsRyZ/GUU7Lbqb/qzQ2\n",
              "8sWYa/6iyF00IqMDlw6Gxk/oeEayQKyLrme6or6tJunA8k/rzZUNjuKRkvyudmJ6fcbuN+FjExOd\n",
              "TIfcXhYU/C+HnC/7SLOJP9KqECEp/eOQ5PohYtVsWX1X0MWhEg5QhAK6+s9l3C4mGqMhkBW1PTKu\n",
              "si/R12B7bx4s48qShSMPHJHmjOXpobFlXPYFJtx6fMm5k+Blm9RGSJKsKVgfEpXKYZ60gjOXcLdU\n",
              "m/rqnt9WUP/ultAm3xLS/DHid5+0wcx/7ahIFzfiPzm90Wn1S9Z5DbXXb1ssKXFleCRR+ujFbzq9\n",
              "HzrlExY0W6vuxQGmJMPGu46YVimiRhMXLQy6ikl/48QYISvhSiBm1ymMb3EU4ozFPFAvWMTMZmwQ\n",
              "LGjPMmdXsDqqjigNBlhDE6CKnnxrsC7YO+5nWnPsnVw6vgZOpW/x+cIFQAS0z+M9vylcgfKpuZ/8\n",
              "3FADejdjRwGH1lHtP/pW6cKe0SGcTz8w/kpbs9p2+fzPc78E4Yjv3daDK5ITuYVdWD/LqIVxL2ee\n",
              "Qr5tOMioh3GDXLkBN8rNnOPntJ2s8Ssk+Am+VmytPKGfnXj1fEx8rNnPAVkpZ2z2N991AFfZp8uY\n",
              "K21PsISXEIWcOHxBIJCxzjCEYFpjY4Pl4eccec6fjp8d9mdwAIi11sdwuEm1pCufSb+ARiknk1Ya\n",
              "Nuass7az7lPyOCmEytDJKg7DqLQC23HAskC2mqKiO8s4LQYhmm1usKzlodB4FV0fSJ6MeKsDKgUk\n",
              "CxwIOtN1GWfyKWykOLel2aGFSbl0mH25qdHeTcvLIfPnf3J/Ov7MSKvyzJvKWTbiYNYjLv56/+Sv\n",
              "rO6vvbIR6YJO6S1G3YGvRyFNffJfcoMy5ZGrntZ/DMy+R+RfvZKrpetaIOMgrrtsTQhtfknoLnlC\n",
              "AlIirmkr1D/MtHLxFBX1/esv5eUyfZgoXTOW8NbD/desbWtr8WVN5n4BLd/k8f96LEws9/ElxZhb\n",
              "B3XmZRjHcTTwgW42pJWr938NZzprgFECWNnTMZ2BouWV8vYioAdNEfMNXPKVHuhpQkQEFWPbVFuR\n",
              "lSU1D4fAMwfO3n8HP/0SP9+tdG5NHLrQPFvnJNftVIWwzXh2tGT1seh2Y23I5AaGGcgPI81J432c\n",
              "e1CBWoj6+NaHn/wV3G78efkkZG8KW0H0cgtH0MIqfoNtit+7HzovRtMbZp1Ld3woZmnrhN0ccSDZ\n",
              "pOnzLnnESNzryOH3+OUtnuX2BZNX8rJhMopKH24h92fUh517FtFglsGw2KbsZ1ghRaahe6pKGsDM\n",
              "o9iFFkh9Xyzxd9TJqKe1gmQz4NYEV5znzPSu5KdOavlnjOkqw/P+NLJTxvh7r7ini7KytsvDT+uG\n",
              "S/19b3EcurWoNvJGeMsgtTKO7DIWr/6TYzPTRH5r+DiH5INpBEe6DPsiK+3GbGzdGzv2RBlS8ExM\n",
              "B+zmlLujV5PXo0M4mIEAEof7MYAG3FGiglkD0GjKh/6eCNh5M0Hz3zHPRuyzxdtGKTCWsNJyhc6B\n",
              "7XfZwYUTUmgZlg5FpovwBdtGfjFBHN90te3g8XPxK8g9vHnBIAP081ABQ/oa6w+WLex4Z4+iCdFj\n",
              "4hKNUwjzVh0Y8SNUbTfIEO6AJ81Yt5/+ZEzalYUORCCxY0YAAASlbC3tFevLlBF4K8fK08FLsk64\n",
              "BaCU3SrR3oIUUnqjW5ITsnzR+mny2oD57b6FJ+IRSGWf30QPtaLkII7qAsjzE6Vnrlk3yCiQZMAA\n",
              "BgF58eqFXfJye3nOi0lZxRXwsZX1tqU/sF4vdIVWdtRcQZFRapnN121/3rcmG2X1xq1ZEkXvinNI\n",
              "UMqOhqxNk1IMKbW79kij9FwCY0CeFfLBF/tsapHvomhkOw379EYVxkmFI9QmamFUbD/VPmbiQRdj\n",
              "c9kWEB4fbtK0lOFvbo+Zae8+pGNeDSG2xJqroAZbwRNR/QeAIoCvy3Q+Hsl2f17fypMfrPMQ6Xz5\n",
              "5yyV249bSgvsF95uT82imVZ+ogIyuiaWSabmS7nYHIKSUMX+IgcaeOxLHYOznn/GF1AH0qUJPNdf\n",
              "9UXvTOnFZWgLOIVjW7nPzYK1ENPlPST4n6k3w5x7tx+ELxDcGn3ESTNsbbE9f/x6iYvzC4gwnrai\n",
              "FyV7zPSxoQTl8RthG/VoBZKHcYVe2uEMlH8iT1e9HS+xC3CqSxZ4AhnGsnVbXErfD80ELLoiPbi4\n",
              "6r5aZpyklGIbay3mb9DR5udEhl7kTQNc9P9Yg9t0P3G366gw2HsfiuAekVAWpcy/uGZJ/sYiAIUD\n",
              "28cF+jAUhdiapAPkJVSd17IlJk+A3CtzE2v9gw0NL7rbva6pXf68rZ9TVPO1qEJ11pTP1tOng1hy\n",
              "gM7Nbi5Xa/5JQgJRyOm4Ipg8CNW4o6ocRLkE4SaBR9jsixQzQiJ/C+o+hRgjD/im2LNtg/cQPAje\n",
              "CoXdjgGQO+b96eH4f/eyFrWthVKQI7Xvqu1l1lVx8MC3bU1jNI3dQbgQdQyt68mHtbTgYuXgjoPb\n",
              "3qVZ4mG6Rhv9XWCuZMGhRerRPGCcKtwEjjRLAq/uIDGWbaTKz+Ez7E71ejwQ/X7C/8AuP5RLnzEe\n",
              "lt4Pu8pSg76P6bP3lo3sufubMxIKzjTFM887HYp2NKmI1TCLw6ktGHd+nGq6S5Qqq66uZaOPSpDF\n",
              "ePlGaSMpLZyVkeaBC5xflGO0cWRmGWFmcR/7o4h5R9TT2IjoEfwhn0Rkl1uWWQXtKr3Qyba3WMJ6\n",
              "5UbjS+ymfHechV+AXQRQtXc1GHS0K4293nrRAJSLQxUYnY4n3UOLxi+j3G1jX58CZB5joE10Worq\n",
              "YjKL7APMaXcFWEqebBlkhi4VtAsm+tpGgCp4dXuW5Xz8CN8F/kXFNCixbHo0gQSOtwx2LauDyNvR\n",
              "/Ev/Vv4rry//W5KnmoV65aHJwOZ2H/3jewXmpNETUnybh1hQ+aVh+4RXZuY37gIciTkzZiju+vJf\n",
              "LcUGHHYHWLV7erBVU78Yogl5rZSypWv5frVY961OOpgi+pY05Z+KXIi9or/gs/FL35plO1z6ynD2\n",
              "ADPjyRp1XTmrfsc0qpYNf/dDE01kAxsPVvKUtXSapBtOicjthkAyNq35SKm24SLYvticzCDKPtCw\n",
              "nWKEtIpUBe8EadwZY/IMG+GWW5yBvAZ1fTZ08wb1DhSJfuCuZWikowyS9sAziJ1n+XmWpT8SIAd4\n",
              "yDChflaYxSOxtN6rIZK2Vc+8HcIbejBL33YQWY75t8ScQyyRbwonrcEKrhiUcrotXPthXQ3W6ITI\n",
              "HeZIkbGJ1thNGv7B2VagCil1eGxTcKJharDmKBWuUNgkpEn+OknAz6aZXSdL/wWxS7m+Aw9W5ZG/\n",
              "qRpEVAQPDUBSKHaSyuoOlbj84WEW311s/tKCz23p25yUCa+FC8iUYTxHiY+VmttcV8Udj9C7KxNR\n",
              "MPUyp9EQK6sm2TugnFGOkZanoyHOreSJVs+cSPbrZ9g3UBSf+stx6U/stdksR+hA2+SFWXjIMKp+\n",
              "GjH645vGI4wMxY73fWJezSPYUeC+h/0dkV2dx/mqADbZcG5gtIdTwbDzSYlcc5UbIpaApyFzKaj3\n",
              "QNb5iCv0FzWPB5JLx7fSNliDBPnk/+h0jAlrXOoQWf+BHeOAHOUuoR0rwCrwm80S/6a2z9r/mM9r\n",
              "6ev/pCBQ4N3PiHqogd0pfIZA0oAiiF34xSb3xZLsVHe8L/2OkTJS2yUZGhSkkb9XaAhKaUoEUzBR\n",
              "c9eSs9XCwHkAFu4sCp26mU6Qag1z7577chqmy9fxAcpbXt5/UxDRogWXXPEuHsORvGvgQfBtTPpM\n",
              "l909CU51UdKSj93qjWWgVnXuRuodR5jZARI+ZSc5mNIKzbG2GQOGDzVDdfYUNiH+aOedig3Qj7nC\n",
              "Dc6DxMiXCGH7+ew3/SCcGPwr3BdHyYzi/sXYez5H49xuWaxBvi0sNKPBSRdDGvTu95rBJf+hE9AV\n",
              "Me4llKP5tt8bzaWQ4Mov/EVMoLQoOS1a/DnkYYIiOIBpWE4P05CgVQihlkdNV4tcU1J8CotGDGiA\n",
              "i4y4co8Mve+Qpjwux5RFdrQaeONPIx/Sw9aKHjaxNSb86bbJektbCyCwq9J+udKW27lhkV1kXlEE\n",
              "qYoo5Go0U0j+NuNDxDwhAvyiH8i8obXoWfHJf+KlYaVcVIWQScMFMnmcrzeMzlL/hGvYFGYgcvpX\n",
              "v9023BHnhrD7xURlNLwZpOJkFSsaSUCcZz/+ZZg8TvKTA4sARelJw25hPqd48+I9dfvHrTLnbpmy\n",
              "lRriK19k3DbOc+BfOPFCCUlpPSANdGITyMUZij/sRxXwoI6QHfVCNA6IcDAXkzjvusiVQ1OapIKf\n",
              "+r42KuqRJ0qSSTRgyMfE0iD1SAIFFZl9+d7w9D5KC4i4Co+KGyCCYQ9F5fouspdJs0zJMyyVTJcM\n",
              "TEjAzk4b1UBLIrPajpGfoKlSHXwNaq0pb4SGJUbl9FGmMY0cJJYYS+Wj/NYO9ZL2Fa6XaUsnWLVU\n",
              "5ngJOXk0rqMXQbD+tM2z3HuoP6fF8g1Kn9U3JSugNEj02RBWSq/QOTeahMLm+DFDmnGXHFofgkKa\n",
              "68jvkVMChRnnPGAHE9lTE0SNsGLxWTbsTWf9VOF4q8AGBNGr8ghz87Q2LPALDBzN4NncJ5lRigHH\n",
              "kHA7Pr8+ma/QI8Qxlsr5Dp9y4LbKYQvxb5pX13/ImJ/YtapZcH9I4YM6AdPMzBXdjVbDHPm/cqAD\n",
              "blK2q5YMldWAmueZAF9vhE5iz3QguYaQzPsoVBg1JXo2bOsokt7HqOz5MtHmhH9ntQFF5WSMomAE\n",
              "leFgRVTJ7+rm0NC3E7/oqD0Ir1RyldxAQVYdSPt8VTeGLkVwa8I0o4Lxy+bETBlRyVtHJJgLXhDu\n",
              "i0x7vcHVUgypB7nlvfl/nd1nrd8eIpNZU+JyWOZ8aX4Z+t7ZFtf/B1v6Bw5R7X18c3g8Qg1KyEFd\n",
              "oOT/a3JDUWPu/EI5Zoo2REvjKih5CXxu8Mql2I2I9MUbEZR1bhwuLMsq18Gtq/Skqu9mleXEYN0W\n",
              "C+ALEPqmWNYOEfHbsIgvt83045m2MRsemOiKLeyrf3PTLS5vSlQsHROadsae0h4AUd44SPQ0lQHf\n",
              "ti4pZoVWz0xp69GKFqjHYlRbinbn+etg+2J6NQWkoDKUAY1ikoarYyRsu+fRv4kV0J6+N2xnLi2R\n",
              "nAn+mJ8p069UhD3fpicjaoK5x7YGSK5XXpia1xGxI3/+MQ/6PLWv/KIsliyWtC9P69xErB5cjdIZ\n",
              "fYuY0lph7VyHGiNtIHyvpjenzp6hcqzn8Yp9F/AJJwQhjdovLBUa5suTnT8hC0TqJDBALP/B/bpP\n",
              "64ZBx5gPZsQoCAhBECCfbYf+jujoPe5rP+MAaVdeJgiCz4zwpuCU1tlXng95w260kFW0TeJwItm8\n",
              "aRndZO6iZUrjXtBjAi9OHnCxPsYXHufHghXvgmK1e8SplnDz94Na8UJpBTdr90rBrF9DfeIe+vgA\n",
              "xSzQBsJalcfYCeSow+PYcOFyCoT9OY9G8oX7RJg+jA26yKVPf+u4Yv+h+ZG/hdKOKMxC52EfsILF\n",
              "Qka1mqVS7sxnnrJZAAAE6kGaIWxBL/61KoAiiTMRKb8bfa999KNuBEjNNNjOqINOul5bVWZdEqie\n",
              "6kHxH4z7Bfzk41hehMHSttmS56tAw2BODOJ/FWPjfPPBO0H/7VEgtA8ediGdV3tzZLOn0wEs3jGQ\n",
              "2TYNKxK+QN8iaM4wmipIF7Yap69YMzgScelggFYmxJGcQ+tjerUT9zFxp3o2uyj8y0z5PMyBCaGV\n",
              "5mZVv6dlQAaFQoFg33xNsR0j01DrZaxZ/a3gQaEW4oHlhiBxpfzZ1ZPBTh3fbtHDU/qZYIswH7WG\n",
              "lVvP6fkHsC10RGWyCZJ/tHRH6tdpS3g5he55btyBFo3E/l4YEgSPjJSNbauck+PnSnABgPa7zegY\n",
              "2VNSwR4mh1Ugu81s01JbEpydj+WZGJdJG8mTacZ3IJp6xTJD9f8z4YZDR+BteAq+J5/wRs9EteqS\n",
              "hAFnTVuEOhiGvvXasJYSlCLgYUs0yLq86lm5FFc1HPgiW/nj5H3F2isR0x4p4o4kHL8Sj4mNQWbI\n",
              "L6k+9Eh99at0naoEWYOZDETF3wg/jrz1iTqFQLWrXIosbHCSSPmFTXD1gXdyG9ZWN13mZtCk1r8A\n",
              "uPDaZtW081jSk2rRyiTFnYs2/2O60JTNa9loydbP5BYf16ISIsTOc/D33sPdFCfx0MQqeNof/QTx\n",
              "YKDJqq7U1zW0UuHhRsSJSIgKi6KyTY3Ij2pKCgBnLo1ZhCKjPMdP5oeNKXiPO0o/ie8puf2Wz79e\n",
              "eQJL4facjpkPoptq52yt8L0f98U4Ybm55t3Pxc3Opx2zKSXJj+HmssnOt9uQCQwCqx+TqR8/8Avz\n",
              "IaC2LqvZVzuQCGVv4KPbhuBmUCcYSBm6m2lW5jhDzJu2d6roXRjYF128U6J1WxP+C7J3y2xPw6jO\n",
              "I/RrF6AtGZQIGz27BCxEQRb31LFcES+QIxDL+BNh2F0Pl1NP36LFchLfWB8hNxtqMLCYAsU6yxg/\n",
              "QKQEBzs7+IqBD60+R5hatMwbf+MLfteoYL5eeo1wpxtKahB7b4oF+He+8F6XqFewZKE6x2yOPGdC\n",
              "ILMq7tXOgW2DVqpWa2Vl95R1trDMleLCDl3WbVG0Gq4fpKjN9HtJO2YyLaY/azQ/D9MZZIG5F8L0\n",
              "Xiq0OQijgQr4D9ZM72kQ1g8+Vfn31r+fH214cd5LZlrOfq4Jas9/QZTIBk77TsoXo763MWIH0hx5\n",
              "MuQm4CoJShdSYNj7ZiJnLVpHO0eTgm+AEQUCwFUsoynBzpvc72uQjuyqxFyYIGFxah3UJbJcxaTD\n",
              "HHru4+lExh8u/DPB0/8os1kqmF2S2D0IdpqT/WyxqngDsLHI6o5nD0cu1VEqsQr6VzXMFNTNd64l\n",
              "7SYsconnn5vEc+6SgOPXWnDLhqGvPKxMdCQpvi7Dpr7KsNT9yFhievIZP29eOrn1USqGtyHRrOps\n",
              "F+XzCSEaRZ+HOxcXpJxCmrYcY9iz577zhgbKaA2Vk6zrOj+28qplgYbUlIbxy5K+kbHC26AQ1I2s\n",
              "aiFnXKCkhbE+UUa1jltQ1JoalM3R4utfpI7KSGTMqtWj8loggWrMJd4BKlgnEN2QtkoNTijfiOOT\n",
              "1Jpr1n0UXx2l+0OnrG4fwEP+nLYyPM989KAKiLtBp17bTQtp2ngeZdu1w8V/uaazISgb5usJOQz6\n",
              "ri4F1BMj9Jd+Gf8zd91Hodq9H9AAAAOeQZpCPCGTKYQS//61KoAigcCgJLfjMCXdxTkBybn96ixy\n",
              "Gz4n/5E1jiDg1w0YVL4FScu5mf78tmU3MWfSmtI3M3GJFJPCWcC2z3wqqa59a8Fg614RSX0c2wRf\n",
              "7PlJPU70wvHl33F2B1CfbSbkglIQgVctJGuPPYtjoHyu4j8w9pDzBLRDWQDEUqHCiR32pYiiBQoH\n",
              "xARm4IGD6B1RmQ+xbtCRrKgKJnWW14pek/I0BJ9AeXiq7SRwQ47GlSkyIjZtWnNpg5MxRbVsMv0d\n",
              "nKyVkTJA/OFTZe4ktrCYsUa8HxHaWTvNuWmIckp+8rk0/0OOvRzNMcyRO1LRUEPQ/4NEnNut/A28\n",
              "crqdfqsb/8AGD2tKHLHbW8hQ1vxEj2Qet3NNqitfOAUk5+GJ/jXTmMavE5W91GWOeE1yOb8YiHAj\n",
              "8CJ1U08JqdjrhzJqJ76ourhDXpqztUfXDTq2qzT9XG/5lSfnQiJy4qWl0FJmIJjIil+rTHJ1fnQl\n",
              "JNgmcd3UmZSD/K+wUfHPg+/5KeTmwAqBgyq9Y3Lok+V1MZ/LubXgC+jS02SQODfsnGUm/61gj3yC\n",
              "wrZWHxmU+WsRFk5ZYLQobp256jc1xA6HjsoiBXhga4mG29uXf43wO8Gxe5YwsQCidX3tIbcMZB4V\n",
              "3DEXDqPM/QrSvNBEQUI/OErBG5X4Lb7I4SwkihykYEGX9xw4uOpoKyrf0UByLONQRLKeKKiEUTOW\n",
              "SQx0NxAKqx1DAhLiARJ6YrV8rHNhQt9mSHm4mk70axOvg5Nvj8u4DCO1eCkOkEnEl0jVQU5ocJKc\n",
              "PdbFs5KmPtLQbZr/jVKzLIvw5k/7/Q60sdWJ63RbjGAillyqqpj8xxwL9hulYoRiI7RLIPEXXKUV\n",
              "TQYRSM8jF422lboPbc/WJEihIv3RHaNLjlzh/IQ9a1lJ1dV4Mcv11GRf6i4G4M7/jkQFM15LySvM\n",
              "odZWj5WLqFrHpsWprUYrmr8IeH17XJanudQVM7XxAQLBmzLxawrk3eHfsooJMmIZOsMI4UOhBjXT\n",
              "f4oA/+398i35XSUj9ceqtgQkFdVXrN8HVlKNlaiGaVjzlD54i/2tc329Ym7l0oHwa6zC62CaXsJd\n",
              "0FaFxVy3G6lw9kOwk/A9cSsiQxAqbYxjoZHf/EmzOUyT2NsPeepQzQxgyXSjbTDdpyghPXCywUt3\n",
              "UT0Xnz6/g6k2Xv7sIlFEG80OA4RtEeX1Wynb8zRsz+MvKf7UJ0EAAAOuQZpjSeEPJlMCCX/+tSqA\n",
              "IoNyMRKb8ZgS7uKA8OSb/hOOmQ2ToZERdDNR6qnnCDH2dM3f6I+RiJlJYHPItzJoHHhSicEcb9n5\n",
              "w+1wz2DrxZLCEM+dhDeg5+F6OeNESpzEbCI8JnOsb59qNX4/2b75uf8BbWyjKHfJ4DMptS3opCuE\n",
              "uhDZP+S8GrW6EYN8/9RQr6zwopinIVvpgFGj0WhEPspGIbZ4R7Su9F/a3Oo7FEGu5IMdTvT7SIgw\n",
              "YOlZCm5HjFP4XODtNPm3AYPvbgo0GLmmEEoV9zmI2al747F18aaNxT3wgfbkqtFvgmhunkplYc7I\n",
              "fliU20KbbGWQwebF/dhjNiTuC3F8viR/bdukDmhS340Unn1cFnm8FfaWuJT4JoJCqn2NfgvoZSUe\n",
              "am2ju88DNdrARNVGEbN1z/RLY7JKoxxYX/lCN1Jo41LPjkSVY63jNXfbr7W0R1FUeXM6pWxFTuXX\n",
              "XUKWSpOiI5GoK2oe25L1ZxDf3r2k/rAkks4FfbJ5vAOt9u2SitGhlsnDKAL3Xic3CbAxVeO7Ft8A\n",
              "kXrpKYACP32whLD83Qs5GvuJ2+hYlMQhBlSc/lf9mMh5cwgR7GJGLW9hgS1LSRL/TLG7AkL2EBPD\n",
              "5uaPxVvCHx/r8OA/675ccBX0mMGjcfLV7feXQNS2SjZIlZRtwvG5ppvGaufXgPj7PLv701X1Hqut\n",
              "1uEGIpLifuYc0JglPEUKOOkOILHe4ZSlUNgI38Yz15ZnG7Dp+i8HaLvbIh+M4RqWTV8eLHmQPqGK\n",
              "9oYINcA1ybojtizHO5JM/WR1DDo4LyMNRpMazs3tS2qHN7ryFWTLOZ8/zrKYATqai9RhrRPbaaDA\n",
              "weR+o9+fVxx/qzQFDmV2y3lqKDxTZ3uQMY+tjsNLsB8zhZdhKD2bsPi6FaiD953uoWXXYZoWev4L\n",
              "5OUXK+QGVcTax6zgEglBNCz89ASaKlMQHgMh2zxdLM8Gk9S07Yj5IzeyH5Pa9uk/R1e1gJt2BBX6\n",
              "a5PNinQAnef78ezOIPMuFWIZG0V7/zjDKh5gIPvfckjL8wI+zs7qeXeESTjho+9HL87OXpB8XIGC\n",
              "a3Y5n45SIaNyuxfSEGWTcbooqnEDCJa3ZoSHDdypJcg35IxQVchMsUW2eRWtipNkklBhD6hYkHPt\n",
              "eGgf/H4b72TQCz9nXjtgYObVrFZtGnIwJC3ZGJk9sN6xRHjgjpYRWvgWwZbLPR/YLk/y728f8MDP\n",
              "e1ZkT8EAuC/PXvmY2CygAAADCkGahEnhDyZTAgl//rUqgACc98pEU4ONE90D0d7EN4w0LJsfXN72\n",
              "VRB/7jgG5wgc5KJgnZCKB47rKQzy3N3ZPk6hq+psiyA9Bnx7lpOV941XWdT+Mvz6T2TxDVVfXPY3\n",
              "zl5L6cxpTREiDGYmUkLrCJQfMYz1XopRR/JmJ3ay3HfwAP0qgUjjjYwVowvHSn45AiwmBN+XQW2C\n",
              "A2NpbL7NmmkcHctVZzsQnMrPVrzGx4n20hCk21wm5V1CIkWm2osk3XABrnZ3N2RTE7fGu8SLRihc\n",
              "MdXVOnQznS2d9DpiamOqKIA4TR2I3G2zJOPPRjFMPP4a4v4Q0gVRLjUIabgCGFcpW1PVfxAaFAd4\n",
              "R59FuYZTguieVwLWall5wU2RaUJzQNyWxZi9N7ASo/tiXLcq62XnGwNFwk+LCMqLjex4ftYNxFTe\n",
              "x5K8kyBPTSCoK4nbbUXkjtskW0HO6SnWRRF7Qxr4mu2P8o/tETLq9S8sXCAizomEJHYQrsF1jDcN\n",
              "n3vxsie41FmgUAfMybjsnJ9DiUbGJ5cbaztbdlocmP0RryrKQH34KjIOSZdBmb3qyFc7yB24MMTP\n",
              "X/M5G1JcU54CGKYGFJGwSjUW23wPIqKNuoL9xiW/MxqaKqj2bM9TgObE2HVb2K+BVqbBkcQvDPrD\n",
              "VfRSQRCgfbSUk02jROjhr6zVZAcMgfRdgPsENUV877etqYvAtqjOir8+GvoD8EKHhoIWt3bvm22h\n",
              "N6kz65HL3aML1vS4KXui623dOMzYyx7rHwslfZa6HAsdtZ5peNCd3PzRRPhB7UOyJhWmkqle4t0y\n",
              "2zbdyuOOQx9uXsgLlKCnEkMLK2wt0FzcYGr5v10bK8U36r24k9b4/Em/dq+ZpfWvhVMgrTB0SjvT\n",
              "/A4BYEC51XMXnsyV7Ln3mHSlKx06Fze7VFsXXKE/DRFqhV/HvCfAQyichnOIPgfiAXWP5IHSlPEp\n",
              "wYwJg22+cEphCH1uF+b7wNERsZhUcpVxJJO45KKrTB0OT223ymFqtP/b98tb/H7qwKxQK//IDpkA\n",
              "AALiQZqlSeEPJlMCCf/+tSqAAN5tbYCSBZnOL1B1JWlM4YPnatZLRk/Y0KPfS3/AG1g6bDK/9K1E\n",
              "UTUHzkU3f0IhJFeqNz0h4xxLrjPziLwdQFNXfTe2y9p/UvwfXvXTpQax44W+LsgB2ZJPtXyqL85S\n",
              "4nzd1vALTA9+91IDNBU/p0o7NdlRjM46SE66fF4Y/McV60oGRHCDKW9I9bKK9sHhuuc+ySKMvcNV\n",
              "TnS1lxd2NLXS6kcxJ3g3Wskjc9xjsMluZjCxl+RHZHiFI7XXp/jOQyLZtEexbkO7UovzmAHz0B7A\n",
              "iEcrw7zdsv8I5y08hb+k5NX3GM/ffWnXYt4KV4ySZEj+5aHakqhmGE/9oLxP6GeiQBWcgaHq2aRA\n",
              "3GHcbtIKb5skcjK/0EY4ISIXl89ktFuT+Dx9CZkt7bpbbSnUE/Zb/RYTPmhXposs7PE2PbANsAxi\n",
              "LCDIbdJbctQgixXf4hccV6TE1cVB6cYXNHsJLf/EjkeukQw/n0qdkgKa6alg73q8oCCG02XlI1K5\n",
              "jfMCLKoiOJVryEeph/bGZyclfUD7CFiV8/1jESGF/vlXuM473sibA6IvQbmNPiA7BGYnHuSsgerH\n",
              "5AiC+WhY40+G2GmiJ9VkrqfVCgZss2XRYXaDYNF+ba+tnReoge5Mh6wWxlD9fCA7BydHTWGTW3Uf\n",
              "sYpZHEFeJs5kvn3peEbk3LZZyXL9zc/lWcGaMxCQJfIiwo/WGRXH8cfEp2HjdUYLjShawpI8RuHx\n",
              "nid7xsiacHSH8lL/wEvsEIM3PibbCpFtoPXWyAMZsza912maZKDE2J5y92tArAn4wyYX3xvWRCaG\n",
              "3kE3hOPoor/v92ajbbwfMYt/OJ8+whQUcuD2z2pp+vaw9l84sXIlgqqWxDP5AfPZujQBHhIUwIwk\n",
              "ICAIzJyWF9kqOW2L9iKG+nvCi6APSNHqSG523TwvYzAXWcxi4ix8P4wtJtL8ojHnQOkJMUJWPD2B\n",
              "AAADikGax0nhDyZTBRE8E//+tSqAAN9YTgP+AAyxv+9UrjXU9bof76d27jzhV8MT4ScqMlL8w0uY\n",
              "Nodz0eoSxAKDXZHBqIzLX211wjxfwFylH1xVa2EKulleI6iFHuS9LutzPx199GsujfPfoxAhbbFp\n",
              "fM/Un4M2/DwQJtE/cw/g7z3WJ85gdmpWfM/hSb0a9vWvNA8yqhprWna1+NfOqQPXv73aUBA2ZURg\n",
              "pLJByj3jFNwr8jawQ6n8rc+XktzGrMqSNEgKOfp8J671yjMjORDoC8UZafN/Z98+1SqzR3fH4VUT\n",
              "k+znCpnTvbO0YZabz9J09Cj7yopQBk5KXJ7/u3xDn/sRRa2Bk6Q8F/6n3f/nt59hqdin2vGHAPE9\n",
              "gozHaQH7xaK3jKasLpXsnEq2nJV69iHG/vngRX1ID1dZipGXMtCMZfh90Vuz6wHxpb11WvibqTvy\n",
              "d/pOX3H0bs7hJr2WSjWN9gPw9ZMFMrfeKuuPqSk6aCSUGNakN6YqndJyHDIcoSXd4IEVOThd3nga\n",
              "Li/0LX1n+ID2pDZP9JK1iZrLboVImo3J/K56bpoqcwIwJ1H6O9pXZQ8KNf4MLZk/uEWNpo27+gqX\n",
              "0g1vLhyXCMWgT4mVBXpHPSPzCfcip+pfpR+DlG/8HFfHGrf5C0cSsyh48/q7d9TYqqshAtCN+ai6\n",
              "jnhwE3Y3yDWxn7b1VQyOs6gR1HkavLkzY3T8o3b9NLgGDRjZkpA8JEcIDnHOC2G/fJRe9steLDbt\n",
              "14dKX21ZV6nrI5Hul2i1gGRct3WwsEbZGxLvtSfJ6rPiF2ZRNFM5GumbcvljcMILSNBzN41KhujZ\n",
              "Gh0KTCHbVID1+bsNQ/IIQSqmenEYLU6Qz58giwfkPlSDS7mr6ixMUcUCe5+Wzb5OP+TYTURHJeNg\n",
              "taZMRFC7L4u0nGmn/+3Dw25OUgmigySm1meTjgEzHDklzcSy3A5sa0pVg2j37E2y0r3K+he3pRA9\n",
              "QIuhrCHfFR3drL86eXWjueMNqcqRPaLjnFRxp5/3DrzV6rBPSmOC7r6A4B65nOb/7+XHl8vOgqXH\n",
              "PCHqmy6ZE4gggQvKAgUVLWX7PJ+9xUPHStMCfFEODuI5yLaW1iYfHpYv5moYspEvR4aSiacWa+K9\n",
              "sjDRspq9z+DDkWZ6HPfCJcG8EJvVl+c0Q+4Vc//43EZXelpbYFBj6MMT72U0MW0iupai26Z78wAA\n",
              "AHwBnuZqQ/8ABQ7WcZnisAgkLWqxxjbgB4DMufdlmAFua9QFD+1V8CKiKQX3Xtt6seQ2kDbjG4PZ\n",
              "NN8m9T8gEcx5XmTLKE2wNZ2w+ds7Dwcjldf5FqsTcS8mtja7H8HkXt23RpI+W0LHyroWoCWf5m6V\n",
              "OtV0+/chvhPmRnnzAAACw0Ga6UnhDyZTBTwT//61KoADebR8AFm4bYutMN0wXKPzCR+kzBM5eUMP\n",
              "g0uZ0kT+1/bGHXNihEHD3xbGxiJGHYr9Co4FGWdz0HmjfH5lljRaCD8avz3ZkM21FYYs35hCg/5R\n",
              "aMVOKrl1nDOdmIOPa7CYEpj/ryzsKrk/Nq4lw6vPOyY5XtvtKwWK3Cl1Op5csyRP8aez/+fdWf72\n",
              "O04E1e9utbhy8np9UZe51hpRP2mf7NFuqxVPan1MNiwLZY+XVdvIu/DrRZ41CAty5AfEJqr8VFDK\n",
              "npUJxv3xH/fEVU52lzEXhsYY/gUE0Vkb7WMfyfcZBWaEfGV/43db72L/tJhm16gADv0molvOs1es\n",
              "g6agc1342fnjie2dFv0YgJz8lG7HPuRw3oSGIIqsag/Q/sJTqZjBHf1GmQVRBRXfS9KB8bMFJFCj\n",
              "7V9m4h8I1yHdTAzjoAhLIEKdmQeCDgFywLJa2Ux4DIgC7ZZ2gwgFMgmz+oPDM23v0EuBVWChsiXr\n",
              "ZMM+JTp8yTB66nUr6l6vt4TBtWxlvN7vUiJoCZEQA1XzEk9GPW8JHo5T0cQCoyiRKFI417QoG5N7\n",
              "evRKwERa7fw5KVPHVgIDg6O9IpbZo0tAVb4293V12uXE/DlNoeV1mwEHnMz+9X8cYmGOgvgqRcno\n",
              "D3vYVw6Vjf+ZwQneYN26CjcDPceTygLyPAaNlfrjDh9tvvF+RagAcxYuqIzuk/o0FIUt1VL96WED\n",
              "ip9SPS6+Fgpe1KK821lM68iW2piTCVskFBEXxh7k708ZXOdeBgP1nqkMpmO9vdnUk2Hdx1M88vgk\n",
              "OotFmY+wgmw2ZuySp9xIfLlQ4dac1wh/J+oeuqprl9mrKByQ+WPJgnl7xX64REK9Oyk8d/yObTPb\n",
              "gQP0FCLx7o1gWaETkfoW39lxJwSfVNRKrAbvg9yBQSSrEegJXShIAAAAbgGfCGpD/wAFDtaGYnYm\n",
              "EJttXbgAF0jMLkfnOhuIqv3JdM329rG2hsCYvcdn1SFfPykkd/l5l96f6frBd99j9Z6r2T8S1XkJ\n",
              "TGo4JvzxUxUMsqlmFZo9w7oFJdLJV+9vWMDKVrfivVgD/vVxw1OAAAACskGbCknhDyZTAgn//rUq\n",
              "gAN5tHwAlVT7yCtxJ6vAACz9Ivj7+c9OC0J5XNLBo/0pB05E0JHwpj6PrqCIzzI3iCfgz1k42TiN\n",
              "qgcwfygQv9hA1RJBZ81FkslGGuLe7EiQVJPpDI4ubbM0F7xlvSaG0VhOMZQ1Fq0YDLIFEE0dfGnX\n",
              "5kBR37K8IwXkaroKIErOWjZA5DxhsOxhxxD1yKjNykQ0Geew9NjcDRESuiFimPBH+PJsQAvshTpi\n",
              "QbYSV3z+ZYlz7Z/m0QICDV5kRWQ4KYX2IYc259n+x3zvRmQ31LuU5OS11hPc7TNg3RnT6lAljQWh\n",
              "+qsH9CaWoGgqC6nT3zZQysxI/ij2HaSBv1xf4TjGaqjdpl524jVQBx7eFDG2+l46Sbv6cP/VZAU0\n",
              "fuEzQue+wsuybPAvRhSuEWvbYPr7Xs2hgdg62zWc7vDq/oPToUhOug5k7Sh3Y60JFPotC7xjZr9J\n",
              "W1Rnn53eG0JOB0MdfCApAXU21x8FOrzuW4QoSNPnr4ym4PNnv7xEdkZ0C+NNiwOq8HwArqeKNc5w\n",
              "AARdtlHLD91TQjoY5UzcHXdWLZCjeBnVqvdo5wCkBv6/xt+anPbYXVxes5ggS4t69ONkC6VHGcdg\n",
              "o1O61dZtIDu7BBqehlUOJ3RPbSPk28hjeTLqK1z8csRNrZBSxIkTTUE++DI6wnLUvi8Z9NbG6nJW\n",
              "LwzPNIJfCsk1OBe+X8Dw7EkTgxaP/xs04QJfTacZ+eXNBYpu6MmkyfnpRLvu14LT1DwR2K7rQtIj\n",
              "2PPPRzXhPMT0xpZMNr51S1CqSpW8IPEgpDUQ7iqLNnHVM7UHFVWvVTaNqciYDSu5uBm3RFIxn03U\n",
              "G0I0ko3Wye3+nY0tHfCtFU6Cf5vhBXzfyCMcXxCNj1XIVEBpvx3rSrG7EHQ/KseT5wAAA5xBmy5J\n",
              "4Q8mUwIJ//61KoABvJ0gqBfYADmbyBaBqgxaTbhtnVj6LIQcm2uNY3r7Fn+M88fea/qTWH+Raaal\n",
              "hYinRYx8cpP8Lp844pOj96iDSnsCOXPtMLJUO8NOjZImbw1sAn21qSoumXHe+JszTlS5u7zIjeYT\n",
              "xdrMvcx+zjPb9BCIAfQK0F3YvddPb5YCs836flTWQxG4rGqAlqxScwNt6o14UNqmSpZKwALldm0+\n",
              "7gzu9CxPXXsycVoNWtBS7Kd932rNhFxv70PgYAlSZsscMfbp8zNV4vEbv8XrA+eGWIm30ChvRZbE\n",
              "+y5YGuV3ipm2idzElEovlqWSw6WaoJLc82cSbVSzWGPrINFI+dcp9wWC8EntQvWewYkd4cSnRALG\n",
              "W1P/5wHIX8dROKvLfEbKBrRzbud8pRN+GcxdYjo9qMAmPdNsODE9DJhbRqFYXiIW/GT+oMpUHXXk\n",
              "gPfXqd1og7wT3+v2OpT6pEEWFTJWykIzsS+6DOhIk9QzRfM0Qt5TCk6gx/EBuCv/xAPmZoSzie57\n",
              "VmA3/aHB9n60jYDWUFB7YJXZJX5G/JvZduzPQyVCpZ+s0/a3vrYllfem9sFf2ghLWZVjltVbhGLY\n",
              "PQgaih5geW9rDbSd88PHCvHTFo5DDzjaeECMx+u0GwSKrMW02ojl0DAHeGiA33rF++lbH7Ic+EmA\n",
              "uXmiukgw9F1aM47dr4H+PPuRCcYS8m+Ns5NoqerWZ0HDMI38WWh3P/GOou6daJio9mopXZDlWHKk\n",
              "63Sb9eryK/8wbgfxIEXqHvjM8OCUpnO65xstJ8tKvR6hq9MRW/5BUSGEf0PwvtkI3zXw/5/G5k2N\n",
              "VIy+drfvV6vNotvd3vw/a7I+rsc0xpJNQZuctzuL+0ZV9PZIZGNWf2G22jLlv3qOKSQLrPRdnCug\n",
              "OowRIeHiiM8HGYpt+L7yUOIv7Yiic2fTNgJfDsZuvBoBRiiPs/11rKBSw7qPkpkJ1grJpRhXTvaP\n",
              "rSVkyU6voccScpwkW0ti5DVZiOrssVoOmlOGF8OdOnkSNOwn4dtn8Obeg/CJu+9zrr+xKo98erCd\n",
              "NQ99KRaLMWyQGCqXnjokYflbH1ys4rBEUpiXh8zjXi50O0wofXpml7lp8X/PrTVPiRC0h/MtTRTb\n",
              "HFcpu5TxMbqDBB7ygft5o17YUTWFdgEOtZMeZwjj4cOfuu/n4/G5zcfSP4F63o9lUQuUnPQoTkBL\n",
              "lgAD/Q+8hrQAAADHQZ9MRRE8EP8AAkTjV3Ez0iLxPvtfznd18mku0mHs3QGAG7DbGM4BjYR7Ehvn\n",
              "25LiAb5tIlMmN8CQgUFMAagq7EtVM/u4FCgpwDaMqaR8I/1VVSM0S/COfa12Pwf0xXJmVOd+qGty\n",
              "Hk4kZ4jYlIZX9z9a7+EzvuRS42yF/N4zPeB4j0ewpS0j/CMRFGcISBnTPRRm/EJtwgraQs3X024w\n",
              "MBP5qQ2INyhA/VZ9F1HM5iKaW1Cdy5e/l0u5kNC7dbLM4OAku/jMqAAAAG4Bn2t0Q/8ABRxch5kp\n",
              "DaiIq8TYHXwSb1UigAuf5NmWoIMIvqJxceO48prAkKpkzq88akqGhRXSRJriOZovMLWPRFt+Ke4h\n",
              "jFPRFKSaKaGm0UpRMGSQZMbVtG4aD4Ru2iFf+88O98718esw5bx8wQAAAFYBn21qQ/8ABR0f3YZt\n",
              "Zqfr/vUAOBUpvx01eqohf/teQrHvAC2xjXn+K/hHbRtLQOkhG92BStyxV2aiVYLFDT9b8Wf8WPAk\n",
              "I70KVUB38VzNfbZjGre9IQAAAspBm3BJqEFomUwU8E///rUqgAG8m7apy5pyAFiAsMVRevGX9Snc\n",
              "geG02uRDg8WS5Fj8j8QEVeYqjC30psX/fBqOJgtOzghOL0PSXTCl5N3NyqFaJbVezPicGdIQTMwN\n",
              "fm/V5zy0xCdOkkNFW5sC0Fbcc+NvqOqBr+hxYOH51DO5OwGes2ZH9q41s8LuZOBZJUe7g7GIk6sq\n",
              "S/NKuh2D9pDG6dE5fzI57TQiqnSjMGSVh3uAexIM98EgF16h58gOOtlNQ9buWFxtJqB5lJEuIt/s\n",
              "XKy2911oABYd9qG9H48nlFo0e6hz3VhOclFnRmA4iVKjaF/LpwpuLIcCXo7lHEA+8iz8IoUBlANe\n",
              "k5kE/k+QmbyCC2E4VXxvEDtpuME74kYhQFkps90xkUz4K76DK6LWnAoedc9pB4bO+ALCc19YzCNh\n",
              "YIxiqczqbfu2nGJtOKwstHUft7BRTHdQqL92Z5E+0dAZSksWAC7yqzbD+lMnTHNLtfHHRQ8Cp1t3\n",
              "jEn/1EIgwGR9/5qJ/Xy8xZXGVEodLeMSBNOy9h8KLDBqt8zPYGROh8GUs09nUsaKNRJUXrgc0tyM\n",
              "50VV59jonnE4SUsg5ibMyjxp4nfbXfNIZCulx1JJDVVz0Gtv8ugPYDwph5Y7Y5+Z195pzg0asfSc\n",
              "hSEVQ6ui1Ipqn2MCF97ZwwxdzMu9W/jOiRsNkvurez8JFSpxXUW0GC+Oy03fhkCSiLoPieN7akxe\n",
              "5wB4+vp/ERjTcxEDB4ScCWDuKXEl7q7epyUFzyeOPvjTB3ULFLLppKqtqw0LfqcV4fdiwxIolE5Z\n",
              "yez1MXDRi6QdNW2d7Gr6+qYZSPRbaewA7eB84NfmBwo0MsOPAcsPZHXPF5hNxX7Kg/weX3MAbN94\n",
              "knOq/v+uxvqNqgsF/8yAG/3+K5oeu+/npTR0zq9yWG0+ovtQEiE+2qZWe/iVrM0c9IEAAACSAZ+P\n",
              "akP/AAUddOwXhUlnhvXbdyyu9NhC8AI7ZlipoyLUItLucmTr6/HCZ+1YsoedQ0/FJK6HqNipiaBl\n",
              "M4BmphbvuujfIqVrbhpzWGvpnXiYtET1rqiZWCsDfXGeqLCB8LsjksixcrbMSAjP/5jrzpVgaAv7\n",
              "FwYKYC1qILxIm3rfZgqBQucBgqHim2arhmZcR8AAAANcQZuSSeEKUmUwUsE//rUqgAN9uP9CEogH\n",
              "aGJvU4lQXyFrzlu6Q9lYxBI8HS2wcfiKu6WN4Kuh77tB0vj26E2/vFScl/QFqoI7iqYmPn01YxHj\n",
              "yIreMqcu9PCzjTO4bGGWrWQoW0o44Dn+MgwnbFNt6TJnIAYsjEdZe5NMt60cqSQtXVJEY65uL9Q5\n",
              "fLfpqH2Fa5/BVdruql+FJ82agYA9wQfW2Uv1r/ihdvyf7XXPVYG7bYpNoKZK/XUbHFKQ5uSbic/9\n",
              "a6fzGYq+j2AcweFZghUSkJO/DGizD2/RTiuj2jC6Y5D8rMaEAcDZ7fxuU1Wp1DpNdSBdhA7HgOMg\n",
              "ENKhZA4cqQ3wouNa+OO2m45NGhU2SVXYt/RQdUsBwjYdlhcMei0+pKeiQN/h64KjEqAomHCDGdkE\n",
              "B6wc7GuOW96feEr3tAzLxRZ8bbGw0+QNQXtvjUvXycBshzOyHTSnTJLnf22Sc6USbQXK0l7QY3z+\n",
              "IoVA05RRYSLN8gDMdnSRlTFDGRQnOmDamRmm5DuLAjyY4MVdAggqJ7hfWV4rVacl6GJ+6A17YOC9\n",
              "6lQ4/gbV7KDHuWWXnIb6r3FKw3ypukxyabWLB0m564xwquIhQLCmommqEwiwAwzMn6kD/WElgcKR\n",
              "iXIW7WohNEOWMJlXYizJhAPxXiJbFVtAt++vqqc34IOYE5ZwDG/YKCmLegmeAy/MuHlRGSnohy6i\n",
              "O/goIrMfQCw/wiiUTmx4WbB2XcU4gTvOpTnWeSukvy6igd2FGo3jID2wczXYhVGh2KINbpXeL6Bb\n",
              "eCJfj433rz0RCpdexykRkX5XWDaV4tafXq6LwDQhJpyjkoVwYCJrSY5kFc7rWw7AtEnjZkRAdHR+\n",
              "QWfxRTIc84rgSXE9e1upDy32KEbHTmQ8p6kXRZ2KFjL3H6WQfFtIklXfmot0XBlAjC2EN0eYylBd\n",
              "AyQlFdngElJuxZwASxaqEYx6Hs2GjH49b2rEZanWKKNd8lzODFLOyyCCjneRka95dUee4OeRepmB\n",
              "J0kp/h3umTQyS3TvAJNfDrXrjUj5OzBOtjp/xPW2nHnyF06IUazB9uWhWMMquHoVLO0kyh7N1FrP\n",
              "tgjCQM2mZMuqRM1EnZWVwqZtCIRajMoCKb6EVlO9f6DKVir6VcAAAACbAZ+xakP/AAmsG2QZY8Op\n",
              "JeMJoASfN6LyyQAibG9+CZos7qrDjTmAB0IQveqH8g8hJTVNM7F7kXpC5DqP/g/wXrZmuGokOUIM\n",
              "vkH7mQTgAuvfYvKBboKsBMBMG6hkrdgEP25EkL8X4hfca/fRkWBIBpGTA7rLu7aeRgX3WqA5ZtLX\n",
              "P1PppJTAaD1TXoXdIiQQUR893rCIZLBwk4EAAALpQZu0SeEOiZTBRMFP/taMsADjoirMvI3AAlbs\n",
              "wfvhQKFKtzS9hkL1Bs3pzPd7BkRI9+1bmO+d3PbROnDf2oULrrgQgNt3dtkxqD+5triyUDgzmBFk\n",
              "2GibY7wovJkqQiRCAOO1gFrGlHssES/gbRatf0Ie62C+snZw8/maJeVjJxholv5ALVNht6vxSY7N\n",
              "MBMTf67o1TjZkAREvX4/33WIlB69GWJ/gGY8Ep5v3gtEn2z8G85gt/2vGYnbD5JtDHKjotv6HJY0\n",
              "lu8oamJGqfV+qQ4DBop8roGp61x+myLeIRjqEAnhksgpNbmCa+tbpMpqdtOa1G2i+oO5n4O8608A\n",
              "a+P66VSCyGJwwLR94hfEmtsuzMjEU9GqFJou4SaBs1TUYO+UZc8o7CIdKcZIGLYCAs4k+KIV3oxt\n",
              "lvKfz+vCdCE9ey2Nk+CAHJBS64ZdmwWb6jIYTQUchtXo7gOVVc3mEjwzh9Tp/fsI8Div8jAW5zak\n",
              "Lb02+EdE6KDyO00fxTM9TI+lS1xBzPX62AQyIWHjoHBoZbQ97eoZjlgVIcSNYMcb9dAC3VQBrxZO\n",
              "EN0gGS26z+TCym5JMMlkL4a9CtD7aFl62epXNA25pcggWkO/1p1tuGzvGrbyLsSVwFVKmL/bhrDR\n",
              "E4ydXXuOUceAQbATY4rxxJdj5DfwK6cG0lrXVrIlj0Lz8gMuNJ06C15TuQzzCw3Gs3V7F1R5h+u5\n",
              "bkd5aeXof2nYeVPN19oFZL/JRKBXabOMsYLVo9W93ZJBbp6xllVm/3YsfZ/FLLresvrlykUz2CI3\n",
              "smpFY1kmFG06RgJOp3qN5tEhX4WXnYSDYCfEpdaEFV1IFAKjucsJD1wmopisBjCXwc514kakyHe0\n",
              "vgc1x5Mi1afy6+la1NFMWKZboFBFBus+B1w+xuzMp3zClWnkdgfCdeyLD44WLiiXfjboh8r75YPx\n",
              "fae/hM9YgBxsz9mfy9Exva15yqnTdS19EM1IyuuSC+3NogAAAF0Bn9NqQ/8ACae/csHAAUpwEjz/\n",
              "iQ7ES1PzYKPGhambT/LjIXe43xoCSBdze0ixPNmXK83KIbGG/chDhwfTDBBzXSqZAdWE6Uk8WXQH\n",
              "60QkmnA+qyf+fpeXusNgR8AAAAOeQZvYSeEPJlMCCn/+1oywAOOjGlHt91AFP8GgQa7Youmau69q\n",
              "Kt66G2CrYm5LJd9gkrpT1Y/g5fW4ZOoRICRMuOrxiInuT9xnp58QIbnYk6iwDOWPh4fm0x50LSnG\n",
              "Zkvcga/MtLxVDP4IagipSpeYdyMH5dKw95nFlJ0C4nco4jkw0PBZtX3FQ3REsAds/Snl3y2qrV7S\n",
              "9toWUPpgdz3ZohgTbWDyYQQc6RRNklQLZmo4tCuNMoCq/Yh6ustULc7/zLpZKUkXhe9HwX/99cqe\n",
              "QIxdQCBQ4Jaferv9vsrOB8xFt41bDvHjCYyPRycRjMmPM3oTdJP9xhRIr8u+vuHNsKrwh1E75nbG\n",
              "WMNusBidw2g/GyFQVPyKM90eiZKafs2FraXL9k/in0Qb8QbVYHGwjKjFctEMMY4CJrgZizFMC32L\n",
              "3NpQlsL+bjof27rBMDtLXPU+frvtVAe/EC1GkV2MjzUHaBJPnqnyTpo64WX19oEpq/HkmHiAAPC8\n",
              "AdTwGdzNm+aEjY45BhPV6rKmuXu0IEqoNEvpEF5WM/KLHinwhc8+giKsq1mRwj86RV7UoY9ePCSi\n",
              "QCStmhRYR88Gw7uURkhqNolw6W+dw5/hShzYwk3L08ETmYsSLQyRsORVfA1mWqhPFzOwkq2RTBTx\n",
              "KkGa8IdxLCmKxbr30+5okjOS+xautotw8ochS9Hwc3Vbc7yEoFYmKYXhaUvAXwBo/keJlJU19csq\n",
              "iDDC6+WMKTdYiyWMQs2+Ncc3+XANrX7AsK6O12Mxob2q5DIgcNfLggeV8gvGbge++Qf1bZZbuVCZ\n",
              "Xwmx38j3t1MZR6BSPfAnKeifo46wP2TicFiYft26GnPiySnXOcG+8QGGiSPFfS5MLclGgJK9DaBE\n",
              "WL5bj2AxW0nICMeFzHhvEZ8B8Ld8m4OKXVHgTa9mcruHa1BVdcTRssFvOncCuENuPf6E6CV7hNt/\n",
              "BBSRQDYe412aDdGS+MbuEoyCDVcJtsgv75fx8nYGDE+O7fsHa1FE6+clJqUnFGVcpDgzVEl9u22I\n",
              "clBAKWGp/1p10ZypoHSSp5sfZRM6WtJRWCLSn/FfJasIo2vCoCd1yefLNQ/Ffa3rJSPcnIv/PsJc\n",
              "qLmfOczQQoQCOG/ZV9a1rwcnSDnquPLS4CsE5dqixor+SqvYQjodaCxarYnUNWy3+qVV0J3LX0z7\n",
              "pQBIuuZQFJui1fD7LC+4QfAlSovbSamJ6cHdbhCo2P7rk6cAAACIQZ/2RRE8EP8ABEcojaShgAtG\n",
              "3GbePP98IvOG+YjjueWveP5psuDI2pUL71RFoXSiRvBfKog8OWR0ENY+LWV++4iNg/36S+QB4ueg\n",
              "vg5zKKBeF/uRLSgnOaZ6NOJX3cvf0wHLT3E54Wn98R/xdKous+xZVxpP+7D/NxzqwC9gevteVjew\n",
              "CKkz+AAAAFQBnhV0Q/8ACjqXu6Mm2UAGk3vgRu1Kf60YePL/Jl9VmfAvozQgvsiZf9B6K7UWbOJY\n",
              "CEjdJpG2PkWgXjBw9so6GHf8S/HnmgRTgiBF8sAZkP2wXEEAAABLAZ4XakP/AAo5PgJMQquH/boA\n",
              "Y9zlLleIjKc9bbkxhIOmKCBdGZGIRGzZNVnvMYcCN77zhpPPPS3soAUNKBb5JStmhmAAG1Zci2qR\n",
              "AAADB0GaHEmoQWiZTAgn//61KoADeTTm5tFflgCPNKlnzLbe6AD9TuWFSt4VnNjxBwKS+3qUxqC8\n",
              "98liXD4xVb60RpjwkkB7Tj65SzPe7Of+b5iSkISX31KkixWBbOQyiWvzRzrQUvBTwy7j19z/DU9m\n",
              "nKUjjc/TX42HB+DxNlh7hNLG/vNemjhhki0YBRnXuL7UIAGCId+iGrV3Yef9/WB6+qKE1QVLHtU0\n",
              "1IEA69Ka1ykBrXME6e8qcZNbI4hl1WDZS/W0gE5SMCWEcu0/NHn0T/uKUkaduR5X/rXoY4w3ilTt\n",
              "uQfL5KsIbNwIHBWAN9rlT2zWA5SWIjm4u0M4+dJnKDjCE9JIDuuEL4zacMknwBP/Mp+dSjL5faxN\n",
              "W8LMP7qdkO9KFVkI58v3c+D6/omz/YHqoIw1vy+cizAEdvmA/nYUUTcB7WijN4hy90K0BU47O26y\n",
              "YfggadtmtJuBGk9dZtadpwut3xi36U2uRhwH4LO36ZsUg3M1DAQSL049U5qKwzxzttVyzfFuwykC\n",
              "cP3ZnnxczBN2YSosudbr9sXxPevy1K5ckHq7h1YKFL8S1K0NOx2PDqsurdK39EFyE3fnNJD1ZGeh\n",
              "boOY5Hx71lgv5BsZDm6X5hkywVu8i6IzNBj8uPy0nK7RuXUlXaMMoquiMIdpn7PLVID/+U1es6Wd\n",
              "cMwc0PPGj6aBzDfNqIVYH5zDDlgV/Y3qKM2rT6hiSMOo0GfNjSWYjmDGEELR6+aTxTUwp9qMwAt8\n",
              "JpslMIkxBEEEcuc+oSvF9K4yIQAmKrGw4cbkCv4NG/GN2qWGmXuskiulFuQUG9xtR5lN5YlpP/GM\n",
              "b9o6fOrpkxQkWhW0p+rCnhwBg5VZ2J/CR5AXvvLn3R7kCkOiG1XG6qIul5dKxQMGweJ27A+4Ll3r\n",
              "2cWVH8lBKyBTmSO6RAlQ6OJWfRPg5yRu+M6sP6jIvE5vAhlU3/trHMGvkb/Lw9OGrGh9XvGUnf0b\n",
              "5d/ngi/m61ZQW8EWIbORaARRzpYypihX+Rw6qbcPjN5Uw2kAfMAAAADjQZ46RREsEP8ABFQ/1v4A\n",
              "AgcbEm3xmXquj9EoybpkgW/OCrr/Lp9i0JKiD2zmRB+GteMJf0NhrLBIEVd47xPG+3f3QO03Pz6p\n",
              "yZ8hYZRVSZfT9c4HttpRsabgE/EzSEwCfECbtLv4uPVCgRf5gmBg2lyR32Yo2X+TVc8gvgu7lpXX\n",
              "Swwtoj1ZgZ+Qdftj0SLWTyQDKsHJmFa0B7MLlXIvyjjWaTn2EGvMBg5gZR0w3W6zsDFplbx19niV\n",
              "UrOdj5V8DIDkO1c8p2Bomt+xGujE+w4W8Ki/N9O8Jc7pSRUVav86gREAAAAvAZ5ZdEP/AAo6l6IV\n",
              "OjCxMs0zUO/CxQCC3jhDhqFChmyG/jufZbwZZ/3aKtDln8AAAABSAZ5bakP/AAo5PgRMtXQAVsa+\n",
              "tjNtQ/X6RwJ9dvusKmCVoiIafrUAkoMV/BleHi5KFv8R2BYtnsFgBozo/qB55ij+O/xMrHyBeTp9\n",
              "9T3oB1qSwQAAAzdBmkBJqEFsmUwIJ//+tSqAA3k05vy0x8kAB0rYKlGwEMTSN7FhSSwvB7XuktdF\n",
              "8WGsZHNGNAcClPB6bA1kvphLZZ8uKtvMQvRvh4nGb9daAwr+mOnaHv+VcP2Tm51Gm0DvafsCYWFf\n",
              "EtaL5eBDSTU0+fBXnDqCTr+irPsi5bsCxFGBokvseOBTNrJjFnR5o3d2TGEqLDzHYnXfsOUtQIUd\n",
              "sFlq24TQqkUcoQg2BuQNskheMbwBZf3ZcexdJYizQTBPM1Q2gLQobQYIvHMJBGuV1AiHTY6fR1Pk\n",
              "+Kk6uMD3UNWK7O78uGZqkyggnuf4XAnurKjmn79nSxFg8L+uqFWMzxBX0jORRRqoVQZiWs9JHxZB\n",
              "I8U86z8uKbiCUVHhSVQumiiLGc3kentsEWUVVwVLRooa0gRWSdjoSy1tGq+z+d/lY32DRo4cX7q1\n",
              "saoH3u2ae1ijOhq1Ie7OhqyzUhopIUbRbOF5W2D7nQGKAgTl4oR7GztHs4TFSIAvuZ+hlXH97TXn\n",
              "bnik1ldB4tBnH2yjYmR6kDVbRnJOI7XcgHLUmYjVG3r/oKIz2+mu7ufji6fVe2qp739V4uu+YHbP\n",
              "61qJkWqpgOWnu/2slt3ZkHurJH1MEqOMSDVrJsPrQ+p46b95UyJFam+UQTqU3IcAmrbV3sJKlMj4\n",
              "5oGCijP72Xj8NGQ/4WJ+LyX5RJyj8ydpENRNH8nvx0JGxnrM1Zg1SaP9rynEtyMQKlEUF8JLUdC5\n",
              "LnJi02hIokKOQRlKEARakReNOWz8uIYqhZkUS5dt1eDmC4EBjB5xEVpwzXs7rrVbtLoIM/+P3HS9\n",
              "da1yNRzL4xyrBMFGRaYV0t6sYt6E0o+/Yu0yQGSwS+7CQKE59UZffWeZaKx/KMqLg++uxsAuLoDM\n",
              "xyAh1pjXjzs/ExRkx5SStVTNcRSkiXBwlGWNh5xZ6kpjXabOeEm9FkO76HKOke/onoRIIvgA0moe\n",
              "b/2RZVvcNkoVfk2ybhYKBJj8trU/GwJOha/Do4jlpts3mgpTucqEmKR60rV1rV7bId5Q65oRqr80\n",
              "Llc2cvVYtgr6n5b74lfNtdlaby6fX5fd2HHA0F8PoHcg+1gRAAAAd0GefkUVLBD/AARHCqvREFMA\n",
              "AG3YhWXoItenwKdknEg/lP4VDAeqh8NFeDW5g80yarO70gm6nTLxDnsOVMeZ0hWTehEIC205HhKz\n",
              "Kv5hh/bNpUgKusmWQFoP4iCeFgMmW1e8JWItsgFJ9eZTW9R5B4NCWokdMqQgAAAAQgGenXRD/wAK\n",
              "Ope80jJugAjIS6JFJhQgEy4/itP+Uz/yhekqb5IBBH7M02uCHu9P1zh4KHPkyWaU84j8X8SzBVOm\n",
              "sAAAADkBnp9qQ/8ACjk+BFcnsaCTZdecZxWSYDkBV4eGXXVrSiaLc05DVWbemILusSCCAhkmtXxY\n",
              "ctvnJY8AAALuQZqESahBbJlMCCf//rUqgAb6wjyS4An2Byx8p/s0iDVHq52KuOC90P6SCq5DDQyx\n",
              "0zZVQ00yVkA8t26GcacY/OD5XqG3NMWpsEJ4jQfoVTy1liXs9EvS1XFFbNIt4AtLK8u+T3A/xOf6\n",
              "6AyjnbZgP/sUviYixCKBqPBoT3GycXZlwS9rPXDQMfT7nFFFRq+72X1RrPgbWTbbjf1V5PDv5OAR\n",
              "n7bn7E6LKFb/J5MZUM8eBHY6b/Gengc8itk7KGwnipGbVtySW1MJ/Y99sv3pUEZMn1sg3o8XALqg\n",
              "v4k8qxBKmS79qYHmkQpK+JLZLRcabv52pke9MpqkO0yub2FzhXH2Etqc95N3VYwaPD2cPAjhRoyX\n",
              "S7HjCYqcOIkvRx4kRzmHv5lOWs1DawUOVtL2s6KQaS8z3aB/a2DVlzQ9SgHXGH87BGuiW4uDSTBl\n",
              "s9+034BvtIJhUwK+mcf3fyv+3NQxwQvqzWKZowEw0OSYjy3os99430E3s+XomXlgJGVG7b8HWMxx\n",
              "KFVFD90uNgvj9U5nrDrDPb6Dzy8Rut8WBffiftFjXTh+XJLvt7l5sOV70huQAls8JP9ck7EReXuo\n",
              "SJOtllS5dSrsmBrJuCCT67jlE9OUDlrn8vrFI+bY6teHurCHRe/8K1SwYSsKwDeCL7ROHe4kMAgX\n",
              "oBlDZf+esYOp0YUpEDURct7fWzTLaKsB10LX34zgurBZyvLbsomaRhR7EohwwgPR2qdd1+wWnZqW\n",
              "A9YmLAfZtecwhGoR0NNGLHEoaPJcYvO5gKCHSW4GFyRek2f1XrQefRLfsCzz24gEdzVl3MXYsD9D\n",
              "aFhXY8k9nI4WOBxyTU76XjkqrxoY9XzXEVAdCZ4i62CQB6YJbwtzy3qy4VZGDL2vRHLpofV1cjUJ\n",
              "iM8lsBTEfeXlENxz7ioRZXRQHRP7x5tnMp7P3ua+m6I2fLQ/ICytk05nVX75bFh1jk2hTPOCS8JU\n",
              "7DzXkOjER+4b2xZ18rS7QbZgAAAAZkGeokUVLBD/AAirAlZHB4XCqWtIrhPn+0wyxADYWeiB3PRW\n",
              "G/wWZUwnsjn8fx0Focf/0aTr7KnEwkpiyyEhI/M0HWSMmwPmy5E9vQ70tAJtZH0RlVqz6xcpC+HT\n",
              "88RbLQj4qm6p0wAAACgBnsF0Q/8AE1lutkVk5Kwpyo9riCXvJ3uF2sia50DRYOTkcBLtvu4wAAAA\n",
              "QAGew2pD/wATV4V/kI0AQUWqsCvn1u7t78uYPRr2UsZ8U6ofjw/NfLD7/g5O/sHZ7SVeHk4uAkDK\n",
              "QARShJlck2MAAAG2QZrFSahBbJlMCCn//taMsAOT5RwAeyswYOX46GTaj67nbPI4oEDtSl+9z3Q1\n",
              "u1JmJgn/Bxp37WDErzpnGxOTxg+7Z94MvOvcSoh1s3reNKEHM9t+d10CjpMdzYxassNt9HWejy3C\n",
              "ka0KSsW2805VxtxD7y5bp0EInXWgy9wRdfJzSMaNK0b93JU38qU0ZrD2dI2B1C2LltjOt8XG5NIM\n",
              "2jZBrCR7SD9CSorf7QgeKbfsO5pulWoQV53cQEP96Q4nzAbFWTJsta1LJlCBev1u3S05zLycqYLc\n",
              "1RpoKtUQmdy0REeDFYu7mTocjOH7fMPVh1anFJSXS58ppqcKAOaN3uv/WAnSP2SEkCLogm9IkBgK\n",
              "Bv2aPlcVRT6vzbdx6QKhKzAqI6ufoM6X1I+RZjqUZHgZUP8RuPcZkAPPSRdt4dpAK/I0QSCa/IaD\n",
              "867myH1nCvO5yX5UfqgsynALO/koCRV/VfpVjDGtYK90yGkvTjGor5NSrmPlF0QnmmysIRZpGhhE\n",
              "DzAdwfqeXUosn3vA7uWDvQ7iZHhuqVQe/dHis+Rya8olUYWAArymTy3kABE9nlkQsc3BAAACb0Ga\n",
              "6UnhClJlMCCf//61KoAN5tHwAWbhpJu6jjV1spViANCMCHKw2k+rAK7mSKaYTLDlQyIw1TBUsrEQ\n",
              "UJU0mnLOOCQj7aleFhPxvcOFVimIy9B7YhJNG/lKH3j91OjwjwRGf8Zd8kGeAMS7A9/MARvDGZKR\n",
              "24g1NxvIVb+s61sIUxAfQVO2MO5QjY0zV3yMfho2OQC52dfG2V0Ypo9Dyb403XONQQzXTcXOmfi7\n",
              "3FZRBteD1QA1MMPQGv6DLk9VcIjbETMwYy/npS9w0t4QA91oKHrihPbub4JDD0whx88So4+WJe/A\n",
              "FEpsTnP2FUe+7S2HcZTBTwTQn5LiWd4X1SVaDXMKZBQtxZfad6E+NTJzp+rSVG3DPsCjqvh/hLRA\n",
              "Td0RM6G/JkfxqUIVqVfuZHx93vORO4qiFflwvDaEKdE0sWX/Pz+V8oCgI/2GzgrEJyiGlDOgxSWv\n",
              "UdUlpfQ/xEfbhq2afONQlG/YyIVz+aXerJ33TAeuUCuHxMADfOgjkiQUKQkHY+gJHZXv2mSHFUvr\n",
              "ylo16kx9ckykYqVpH847Rmzf8hmojq7FysSiTC3YiE7JkAc2I6AsEi31QGbtgr+rsHzv/74JK52d\n",
              "K0LPGwZZD2Y/bYDKooR1n+DyOMjzQLMYZG3qB7cImUppiV/Yd8TfOunJIrDmD508kTXdGwDNVL/R\n",
              "XSGCeikuMiqQRXkTktjaFN73eTd31I7pJFMD3GmUkYZ4eBEcpRP8olqmT9F+MWDBXqadzcT9g0KD\n",
              "XVcx4QkjtP7OuILPG9+Rx3lUs2kN9nPsXWxmgZnruFRboIYEMoX102C7pLc/1vmiRwPTAAAAkkGf\n",
              "B0U0TBD/AAirAlXSuFkizQe9I03JAG1/HGRWktj/geQsqE/HE1ysDk67Y3kagBmfp5bJ5wqQPhNw\n",
              "FH8juyarqLyxf9ktS/x/0rGD2KOUnXI/if1yGE5xl0WU7HhdozstFtZM0t+BWw/xMAMaFFDqRCs0\n",
              "px+nT1pT07TsifFtafSR/1SPFkLwYYXp4tsQU49hAAAAQQGfJnRD/wATWW62RcN00GwpdmFBBZuL\n",
              "7q9q3mzlpdj9IyEKkB35N6le0SGEgcPDM/tqo/8GgBLYABFu1yqRiEFgAAAAPQGfKGpD/wAJbBtO\n",
              "A+wxKCZwAnL08/WMvR27oQ6hkVABZ1Of1QaYnKNBT+crOD7RyKjvYSCA4ZDPWce4CGAAAAMEQZst\n",
              "SahBaJlMCCf//rUqgA3m0fACVVPboikNVyxLhYCvFYN+9NwSINw4513c+aWmUv0fnzjbjDCDl7xu\n",
              "eq0D+hPLiMx8dbhqoN11BfzRjUcOIhmwBUAiph3I0ZvpOpWeqhiNdJi1FYGX/2hgTrHDsF/4FkHl\n",
              "BbMK2Sv/J4HdSxzHIWsRRxtjZuY3UBa2c4+Wsazh1dT1kkrMfkDOpZFjQfasd/HWGNxZir+4as0F\n",
              "l3hJf9bDaAi93QQs2GM304P9l2NIEEfFtN0W+bTfxnWbgUS3Txjxj9xlObSdi9VLnojkopu6byGQ\n",
              "+5PgacYgBgJ33fO9nr9op6DPlftP71vnSo/dOuiF+ZeDackWDf0Ql82ZP4Lp1GhAPNHlL/nMkUDa\n",
              "fEaGg6WpNX8KOyzT8NPNgtrOHK882eU5qEz/uh1Nnyn83dlhX5Nou7tuyTs4oigI6dQR0c7t/NZH\n",
              "jEebVruf5IES/Q+7EupXb71FlPdNIgH/69rIpJ8EsK4Zj9j0HPsXmHjkyDVhuPp8Xj3arjYGhjgT\n",
              "2biRgZwh9LLzE8z4qYEQEWroisu20HQ5Q5gvfBwHtDu0o6le2BcFS6T67clsWcWsNr2YLO+o9M+g\n",
              "c+u596dpqZlsY+QYjEfxXFF9HrXKHg5jrBRhHINe6bYunSS8OFr/DN/BfI3KqELQSGb05JZx8WTx\n",
              "pR7W42HgVwvnsaMd1TyPW4l6NoDytdsU3czyCXUM0S1iIQf+vAm3FsCx4WzzN/y/NyJ6OOwZGh3E\n",
              "xspB6BBMRyRYX4vp3U8wPmpNz3L6lRacJWSlWY1N/0e8vV0nRyblyq2i+t/sAvuyi5TjSw9biQI4\n",
              "JZFujveSTVy7/W55UTVNT17IjbxoR3GmdHDfIH9T61OrAABIBOoKN45dwQMWWl/nQKMpDbFDoHXy\n",
              "yHxmHFttC3b17mPew5M3cmz6KSgs1b7WIcYnwFvw6K0b+YFTaDMJbpI16GqD+N2ZCjkeno7t0Zdf\n",
              "IfzBj91U9rlKcwBvhm1LIbYy9EPdM0svVKpPhQAAAGRBn0tFESwQ/wAIa2yczYqpOJuniBMcW0lZ\n",
              "eqYoYAHD0O6zPBZektHGTUX7pMOteZdozHjUPtYlumI0uCdquEv8XF1GN+4MJ0sOD2sWo7kCisVJ\n",
              "vS67aJB1wELaLWJ2KAPPOa7AAAAAYQGfanRD/wATWM2Qiudw4wLwa6bfMhKkJi7j7HQAlsABOJt8\n",
              "PimWxIzS/fWMXh8FHo3TJoFBTfaKomOmX9qReoqEtrk9XdoH7J9CkkvTfqUAU6kObLOUROX2NXJe\n",
              "CNqf/SAAAAAxAZ9sakP/ABNZfF4tRNQcTZW5Ocz3wAlUFVFlPYw7GVrkKAhZS05LjDc6gr/A2jgk\n",
              "0QAAAghBm29JqEFsmUwUTBT//taMsAOPBEQAlo+1wAQhcyIc6725xpcMYJz2nmawzsz/Tzgxge5A\n",
              "KV0Kgdz7S5KgMrGFqUd/5R3rUi8lWmZXncbk19ZrIRi41YLSc8sPbw4L1XSJ7VIGL1vHY2JFuUk8\n",
              "QBpi4GsM8pwDtkVEkRnPaG7z2SEH8o/Hi+9LZ7BFJMgfIbazykbzS1LpfSxur7Q4rwINb5BcDT0l\n",
              "Qfr1JXHmqg9tkkHmAv7zoCzxdENaLNZyHMiDewxRK8txhdMnPlT46sJnoOW/6laY4M/1J6IOpD9T\n",
              "HooiPl2sBr58npiviKh2882PysCjoKOs/I1iQ4eVQ1ZG4J8bzHVeAE64aEhM+gkE+plFE8TYQ3KO\n",
              "R/RTPcRBxWcgSaQQuql2sgwpv6UOUtMGrtacNTBbT4MMuaM8IvxLqh+/csw81iZ/vs4HWJulV/OW\n",
              "c51JAtlZjfiriRyrw+rjZ167GJPWKhQnSd6YVCu5DLQd3cJyWuoVUmF2w6zDz41EsMK0C9I6ThtB\n",
              "O40vhjea1S03y6rdAuxaELGXxY+r4cmrS9K9hHTQIJgKAdXXEcpsKQtcLLv25o87WgyZPlGZwsA6\n",
              "TNkHgMCsQoomM0mAdxdv1CZbR1UmSrAiRtVrgDXttMnIex50JAqJM9/b7GwrH6BZ8YsBBOraw6xw\n",
              "R0tJf/8x1d2N7W0xAAAANwGfjmpD/wATGxofAR955NnD48F2r2DuGXhSCFc9gORACVilezeoEZRD\n",
              "UCFHF5JXsMsdQ0jJ24sAAALQQZuTSeEKUmUwIJ///rUqgA3m0fABZqnuH24HyCsJYlYgsb4oedbi\n",
              "o0bT4Hv3tMevC0hbZSTpPEIq5cDk5+4CvAbTOEeRA5wcSnj12AQWEZz2cHjo8GQ952qIxXPv858P\n",
              "8g306Ekf4UgZwEyR7aRYachTNwuFh6jTw1cad0HRoueBCVjFq3omTtw4H9i8ThXaeUAiLcnox/Dt\n",
              "em6zkwAwLJGDdfK3NCDpyMu7DA1UzPtPcTZHhQw43SkfFztV+loBRwpPTSOqd9MZ04pvCH1zgL7s\n",
              "V5LQNpgn4Ra7THrVxT6iE6JtoQIx7SdnRDUyqy6MvGk8OA3ebEpCW4iZsu9SwyhcpzlHyOH7z1t5\n",
              "PSJ/QYXzFue76QoYBJqQ49aH2XJpatrG3F/xRmQGpWh/WyT3r6QtJplhL6yVeunaK+3rzrvVsotJ\n",
              "5KEwrn2+lQIs8yEtieX9ShWv9owjaRenzSUaG/awmMz5DU0PC7QPF5I+uA+mFcKBz3TJihtxGbiz\n",
              "6JX2u9LO1ZASliCLKw+wzmu3UU6B8MtPdU98e2XcS6afZazWSQpiI1aSy9/WvBAiaOzDxrUbpJiv\n",
              "uvhJljrRuP74hXteEUxhZPKyRHk2nyyXKOgWk8QNapKjF+51lZWySst4qYLPZjw3RKv126Kf/V8I\n",
              "43+g7Q9icwbMvDA7y9GM75OzPA9WyLX2PRdThQhtxyIkdf1HpS3NZPJhsHrAz/iE9Zmjfs+gPdW/\n",
              "eGNNZvdGbkkfFJXIXUeQgrk158QccoGI7gejzfgk7MIBGyJFTyGRXVDfZglKSJ78DqarkgQyJXfE\n",
              "eMlSujd8eeem1ddNY25Dsz/0nVQySh6jkueQINxFQHJlQKCgdZ26edrZp+4+mr23QiR23at2jLm0\n",
              "aHkyumieJCSwl1ccrfR5pC4J1spXJ928epg6JTx9jjo+kT4DxMKZbExv3KJA7u4tzV0OMxPkAAAA\n",
              "c0GfsUU0TBD/AAiqggZleRbDDEgBVGSzHar+lQziDEG+jXAvMNhesxtHbhxalgkUPLT7pTPIdDTf\n",
              "+wgA4xhCZhgi+i5m9FfRGBvdKIkPCDHcb0yseqJzQF4KXRFkcNz9vUydB65gAMTBgxd8ndSTEJrY\n",
              "fMAAAAAvAZ/QdEP/ABNZbq9ESchQb66C5lXvoxUmWjSGiWkqkBTup2VbFQCAyGr+79Q5J/kAAAAs\n",
              "AZ/SakP/ABMgzRr7WyEQzxudWWjUQcmjT3pYYk8k8vIYDIS3GZVrQF2rqcgAAAJvQZvXSahBaJlM\n",
              "CCf//rUqgAb62YkxMmAN678E4zdSHRiK/V+Mm9nQPLT7IayfVvydi7D8hfeH+WK0drxtmkTFUHhL\n",
              "D7L5r6hb3x1ck2wyPy7PzY59uDPIjqnwiKUnUp/sRLn6GYuOlv7FtUcKFr9tQ+W7OBJhxSrDZGR4\n",
              "OdhB7YjmM6KePHWpu3F9FHH9LNO7pslvSbSEysjBl49fJPvbrE9U69PUfB3t8aqkvD0G1KZDh8wj\n",
              "jwJP2tIC6htQQ+YTBP07rgwzcYZc8C70NLivaAX4VjVQ957rffQfR6ZPxMmM7pNgl8kUYLdnqy4k\n",
              "21adeZId3NmGWKS/jRy7oZLQX2cLmt7XTKola2KyKiMf0KVAo+GUJvAToeQkF1sKjfjGfOcYFKuI\n",
              "hA2ffy75m2U3ay+wDqmyy84IuraoMp/m3DU7Pt8xVfz6uevRw+kZkbDAbXgjtOHEPP34MrPC9aei\n",
              "kgbI5BojXPxIe/KNWTn6un7/3ZUQLjE7Px7Ew71dFXmlLZR+4gUJdlzvFQQcLI1c8REEMOPVAOov\n",
              "0mYmdzRYhudnETNcQ1VwiM81ox6vDOPTYSC9ga7FTnZqOL3TI1R7jDoQjrBQM0tGhOH3T0YV+yw0\n",
              "T3LCZeFlK2gT4LsGYD7NqGIkRQ0k0VVj+EsUvLdQNZCi55Cn1NPk4+z1i+SVV6PO1TBhuo6r6zH0\n",
              "DYyktVBnti8pAybaC6kmaD0xwcK1UcE7sfN1UcjbZOTw0a9r90P2F3ao5gLJJR5nfOK465/WQ6Us\n",
              "TGZRgn7uVrlHlOQ86pQ42aYwJd50NCHuthFGFU9joWD076wYmQ2XQowwv8AAAABbQZ/1RREsEP8A\n",
              "CKc7+mGRqFA5mkol+yW3tNr9Yq9vDR81g5DkpiIq1bKzqXvAABnrOdy+5SuQLob/zshEuhBVYALY\n",
              "TWh3p4Wex7lb/fiPjd8FRyALOKJm10Cb0QAAAD0BnhR0Q/8AEtXKe6SAVoaZi2LGvAxYtS8i4KAE\n",
              "hiwGUVbmAfnM4qbMHaFoKL2m18A/Ry6JzTpIlvWw8LnQAAAAaAGeFmpD/wAS2DbOssMBHqyDxBPR\n",
              "sL4/VuhGNH2wgBb11v7Gb9if+Wh5Y37aGXtOIYRXvzQ0C4thjuVYYcPGYa87IHBQLgUaF/ruq3DE\n",
              "GBbJ0vnl76NCuXwUzikR2++0/AhioyEBc8hRAAAC7EGaG0moQWyZTAgn//61KoAN5tbYAzTjsTi8\n",
              "82pKw45QOjmVPWQFCsGN1uPS2LyCTpSqexVnbghZhfUo61ZdYoP1anlLa6BIRTg8NRWhQZgFH4/C\n",
              "h2txK4dnX0eV88+eIYnAVExt5hA9rj+rrfmXVAODQmyJDrlrJczcEUOxrGVyZPMDVLQiMDWcBsmD\n",
              "WwerhnRZ1qmHVjv6KwpWmLFFDMoXqSkWnNv9PorurOFQoAQ6yymrsHdzS4aK3sy0O3/wRSnG4chB\n",
              "g8YZqvz+BXS4ICL3qIHRoYYr8jPWIRjUL7fElrF9PacuzVV04e6kO7HaLYVsrc6V/MNCAmZGrIJM\n",
              "/+TUdexHVOZE43Fhg1+fJ0tRTq+OK4W2xzGZ5f7oeYQ08jcj4eRTYwPewHo120lZSyv4DsQNYzfX\n",
              "7jnzfocMTlbVrJ0WXIlYUEABFzfHhpjc2uy5R63TuTq3o+Wd7HMA+ucQUITMJLbhX0LlBasVfQoN\n",
              "+gAe/JHV40wX3R84vKUovTK92ABPCKyxxvZuBkFjnqsxwS+7Qij1y2ZcsDtpxpPt0yD8se/FR3HV\n",
              "L82huTUjzrAKpYX9EbnMPBSjwh+/V5fZfiUWq/NTD8poZZXQBk+kSxtYrXcV/W1fScxsvc93/4BT\n",
              "svGCvfycmoDwVqDEA7ESmLz0e6UYzDnoppoZPARgsYQJi48XHNqxVDC5cttsuH/I00ZJHoJPMZqs\n",
              "NaO/Gn8bzcrzwtXI3nP/T+kT6mFy2S2A66AeMJTS48K+jE4RVwBDxyuIfSGENKTRmj+8TgNURP4y\n",
              "H2fu0wvgcmZx4dtFSa6rptS0Aax06LIbloc6YqVdu/gdIG/QdSQSyENnGeUkqG+rGByf5nIKXhHU\n",
              "0uqW0jJIjx9vGp7tCKk1ca2TWKRVKMR2WZ44hGN5GMuwPozFj5uUlL+VIkMGOaP0R2FdW9cq/7cg\n",
              "9oShKKKzXqwaXGYRwPDdqpYkSEavbZVbHMp9SDx2mBxY/AuhhL0AAABVQZ45RRUsEP8AEVKcUUKA\n",
              "hMQDxmTwpsV4k31TcSJ+3RzloeuwynQz1e3UytbdCZbFOCXkLweAeF2BfHZmLY5JUuZ3Ul4dpu8N\n",
              "hYkyFM3UbrjfVF/p9wAAAEUBnlh0Q/8AJrGZ5XnHSK9Pvf+NEcoTVNNvSN4LxpuriDtgIAgALo17\n",
              "dkojbOeRUdZjqwUqJVeF5PiZ/kyCMiT9k4tfeDEAAAA8AZ5aakP/ACbBLgCag0PX9BRAABk/aj/W\n",
              "av1K5xgJRwWeqoxe0rarz/gLnwuO+vrU2ZzPO5/7B5vz75i4AAACZkGaXkmoQWyZTAgn//61KoAN\n",
              "75U4wgDbgGZUuJyf2g88el7e7hj37o7CScPxiTV7fw3VifkJFjwdb1+Ln2OfQvlfVrIRcuXn5dJn\n",
              "7KbkhZO0QuGqopA4wb8a85Kst/GrdLMmTSTYzJir0Yv/M3+tPznp9XaWhKG/8YCjCYNNovCv232r\n",
              "2DXnhFcOsAelBifiKgv6QuuVsK3EhjcGVK6do7Zr3MTe4XH2IFWGnHUW9zvLBSHzMVlfS1GmXU6v\n",
              "w9mnz675joWPeSvGykfzZjoueufx1aUJV6gDKI6D8gm1ixOqQoVIV7gEtIVN3nPbL/O/pC22mnMn\n",
              "xWjXz1NKMuvSp6k5VLM8LfSHPxHukl+mVF1kK9t5/2v/3F2TuknNN7pMv/E+Al5UfbVYK97vblrf\n",
              "6aKo3ev8M4yAu/x4JOabNXI0/KbQurpkr3k7BDme/FWr3mZTAO/MKPH5pnL1xXP9jzoThdJXUGXR\n",
              "mcuGsOf4bRn4y60xBjMUcaCpe+3wCGPi4F4BN9xRXW7Sin+wfE3feyZqtdQYmLXIbgv9V/dkTiAT\n",
              "WIEm/crN9YEb1ehH7vKBO+qge49aAcKivFMuqIb+y7SE6AlO66mqVFOS92c6lM0AFJPe2MR8rH5G\n",
              "PfgeRSjfmXdHH9Nc2bdIE7tPg2yeSx4b09UWlEMjEjMF7UEcMumSSj8lpIcy8HMtDe621bi9bcwE\n",
              "PCBISjD0AXd/eLsCXWhMa03PBgHW9FaFlG6t9R0bUztgnlgCHRMkveMeDEYUSZSGR38ApGzbSmB9\n",
              "jEdkdy7npk6xSm295RJYuDKOZGe3kFz1ZepBAAAAVkGefEUVLBD/ABFPqI1gADngHRW3Czz/11Wx\n",
              "clOuNk/+RNEWzSG5XOGvrr7jg1KtKCVAIRn6cgx1XEITVQfeE5GpCvoGEIIMT7nC//5EB1Wj4L6v\n",
              "qonpAAAAJwGenWpD/wAKOTyeprW5yxB7v29AWmd8UWOw554xREFWYAk29ngFgAAAAspBmoBJqEFs\n",
              "mUwUTBP//rUqgA3vmH7wA0CevWFEbeQixUbRFMn20PQD+aJAQ9qCyKOjdejGqIlInphd+GBWSrtt\n",
              "gb/5nTvSz/Z+b8TgZ6dz5vWFKlvgN+mWXp3Z9CUc+CU2L/SKZOI8YppIsWI95u8scCeR/+A5oOZh\n",
              "/yqgdGX8N+bFw9Iik8vWkxyt5diJbOwxrFuUvZ+BWT+NXL4xQATKtWIhgERI35lK2v+L/D/AZ5/+\n",
              "vIS4le8x6PrfWUJ5DH8Qh1CIkFgI+3KoTzb/H9NDi6uJfb9Kj1hhwJU0WzFWXJU8HuBM7ue5+fA/\n",
              "YdP5Lzk6pogMbCu7QYM4J9bBwZcMi7eDXI8PAujXNcGgxMW96FUVnHUym3QpKMKmo5Mg9tTOXFcF\n",
              "O20mR2/osePBn5jyuJlQvN8VqQ4l8rxexBycd4rLx8d3TlRYuQPQvbR1CU9CqejS8vOysnb6Aok/\n",
              "+BgP1AECCYEhGhggtbWpqYxiaWHe0JxbYYnGhL4oEAmgAFCq7mUNk1Wh5DqG4QVw6/R+PUWdYJ/D\n",
              "cISSfZrAclSnBU4Q1ZsUzDdKDu7Tp60/vOezLzONA/tjJ5EVMz+0P8W1tErhBYtzPNQgDOfSzOql\n",
              "h6QHEvmI1VQGbpPpnBsKMBCKrIgwiIDaYLyu73mWuEXrvqT9blzl1zJDQwC9TMK7F4Wjqw3B2TmN\n",
              "5ztcPUaLsZoI45uyyNxFOVjhGFjmrqm+fsoWXVgrgradyqUoVWgqoujafUg64swolu6crbQ2XR20\n",
              "GvfldAvUKAyF7z7Wz/O2wmb7Gh5gEIjBgXnMsTm6BeFWxl9p1kWEa9QkpP8XrJhk6PcVBtjoNi7u\n",
              "W+qfZvGJ+6aU5kLGVKqAoOsSuda/TmgcX7V2e2qM1zahpBZROI18vI1HH9P3BV2V+R1tAiHA4GBV\n",
              "utSw1pfoIVKzNyZCn1M2CdmLCULsNbAAAAAtAZ6/akP/ACWtIEVN3zBl1E7NpieWrzClzXc6jmBO\n",
              "OJvDKvf8zhacIj78coX9AAACc0GaoknhClJlMFLBT/7WjLADka9xrAE6Xajh9gniODT9QSP3diY0\n",
              "wq+Pkjx7/dACNkmodqeBa0T7KXetIA8a/hONLVxwR7kI9L1KPlZobHCc7L7TksOUZ6WKiwpe+nra\n",
              "Yhf+fJpRUx9HrNmugTvjFd/rjdlrrpXclzAd/9+Z/9XvQKgbkR7PEQivU4ojr5GZ3c3nGi9Zf4U+\n",
              "6XhKKprDGJ4A3nosBa167YNOGpAvr+ZxjxjvZIRFS3ctk7z8hGFRhmhOlV6X3tf5iEWTebCNoVg0\n",
              "lA9SbYDsiiir4xEbQiaNkTn8zy1noijo/+Pdg1uzo4kmqj6WdgHE0LeGELDEX09QeX4aoF21r9er\n",
              "9JVyQRKqZtZE+tInySFdGlUHgAILuKObywiSpsWKPYyUxo13wXg00RGEGJvLTleGW6H8f33tLBLL\n",
              "a7e9CKC4nI+Cmxe8xL4N3FopS7LDgNj7lZvalKFMIMwPM/k6sc5LOcd1pQPm0Ix8gDnPQJMwqi35\n",
              "CDTuBpxgak6wzovQJKzfvK9SQW5ZSwiRAPka6kWjyT/2wKNLVmUEKJvVrRTkziSWUyLxg5nhyC8D\n",
              "fFjWfuSDUwkrsT0EvegztQ0X277SPDEvWULDfI3YZ6ibftm4qoJSU9UPlGZjb+uHrOTx8ma+wEcA\n",
              "Q/g+JAdm6mfeD2D+j9MAYubNyxGF4iCCLwmuBbicZv5FGpkhTWP3NFf0I5LfrKbryk4EAdUCyHZu\n",
              "qMckDhiCcodMpO6By6byJe2ITthQDALiU4dOW+Qv8zf3X/xA10XDafEf5YHjVKr3MP7WRxtuTUWG\n",
              "u/mbj/cfTJmekRXHKC3YbphVOAAAAEEBnsFqQ/8ABQ7WhEDcS9z4G5tu9urgMPh/cMAM6/pVTxfz\n",
              "gogWu9Dyf33TChuU/kClS1u3aa7xyLfhL0JX3PpyEQAAAoJBmsZJ4Q6JlMCCn/7WjLAJIsUxAxGL\n",
              "nylfL2I1WpAX/z05vNpo+gkVDwM+AHPMC5wFzgNCCiFvjXRhprZvxU1+FyCIAi5mvIc0R74XHDMH\n",
              "5RKBVlvnbMVymuZFSZAHbUi2e1MNB143Os2U6erMsTyhn7qV/FlAbgsbILmairRdizUXsSsqN6Rr\n",
              "NvSd0kRIlPODTCopErVJbPYI95mgd/+gQe8ipUYIrEn/zopzqX3pf6r+8zicZ+4OUZCQwa0mPVUb\n",
              "J1IQSPin2trTc/e6UwJFotIXRvuSD48wM47eZjqiIgcwCoa2IW9kSQFOmKSIKq8/YSCk/4Y6utNb\n",
              "64fAj+ctv7V6dMJuep/G7OVw3q0X7ikagtbzZHeBjjXr707eONTcYK/h4Z+yhlD+OMJBodM2XB1t\n",
              "DYoSjvRjDpfwEyRC2gMJ0E74hmrIrbwK6A+TBz8E2IHNx9G0sEKsxQ9WpkI3CY6Uvq1kK0xBVuEs\n",
              "9SXOX2vkzS1IjwN/lVNPy/P1UwSTqgqPGXvTMWtvkjc+Q3l2FbPTjtcVvy0R1zn2XuPL1vP/8DSR\n",
              "PWOUkkVYGOAhdKd3ZQnbkqn+DEwojf8cqvlFwRPQvgfbfaT/zdVhph+WDXtdOLkI4Q2BtgbAYI8C\n",
              "x+glWGcvpGdPRftTgae7iIIO1xRdGycatVdt68eZoqddhuq2qh2b6FeCOE3vrO0YrQzvMLlMBpaz\n",
              "Zk4Zkz8T1PGc8p5KIQ6Zwf1xSjkh5lhzd68HYeDsDtUsiOr5+9ymRdPfkUErPa46x1HRao9E/AT0\n",
              "yxtme1Oe0MP2K+At+P08HWDTZV/N1kWzZJKMf1ozV5DykEh4tcq1wXDzbAHgPwiG44AAAACUQZ7k\n",
              "RRU8EP8AEU+oVXgAHDNtF9upKgp86/3m6DO3SlsyguIsiBB/KHvCfY4rVGm/mWXTV7ph3Qv+6OmH\n",
              "mMWx5d4Ggz/eHxKbjFSURg3F+Sj1njPMv2VR/ezeQWr5hIbsIYtgOntF6dDknrR8ANV5XjFGZmwb\n",
              "StnDgl/2C76jhEPRIQumcK09px+/GWLAK8e0qwmRZQAAAEgBnwN0Q/8AJsEuAELVUuifTf/hcK1W\n",
              "viYgmvbTP/5m7M8vOevKk5Pf2R0HaaDlHT7KAQiVblJ4JJaz1myi/0+JMORnyFJamzEAAABgAZ8F\n",
              "akP/ACajSoexlZLh5eZtOTfjhfKQ91NrI6c9c0N6QAtIgy0yRMhGYW3Rk4QaHyHXprCrx54dmVTL\n",
              "PcuhgxcxQXNCBghfrKbPsQp3DyhvXbPNJEX9SgXWhxaAzzUhAAADAEGbCkmoQWiZTAgp//7WjLAD\n",
              "ka7QdlAHItcGaMHWE45Uern4w88hnkrCDk6HnEAQkaBgaNHEdsLJy4VJ0kYdaTcMQTuaP/Q8/g7c\n",
              "Bq6qMyzhjDkHyUIkUHa48bMLd3BxnZwQ7wUJRYE4iSTt3qY42JI7aAIQDYB+Iia7AkhQhr3CVriF\n",
              "ZvmD1l7l8i/DwZCX8WZaqLu18kGtOlpESd2w0a3o4ZjxhzJsuuRpJAn2V38BG+UlasSN069zkDz/\n",
              "4YUjHfbVaN5n/Il7EVg0zIYamNNWWbtC0hJFucxn2kg+g34frwfnASrEbgKUyUlTpYgTbOhpw1Wn\n",
              "2S1CtuBoevf4e/CMv39/lgfXrrQUWhuo6RS6L/+5OBkPpnvI5mKTBzqTL00ax6bAJDA1qaYRwwuH\n",
              "ECdMH+6FP4StD8xH758h7QDJzuD+1LgMkdA4AXxcbKKTdGn5kPDjiFNIcfKEPUl2vpLV6yJEWZAk\n",
              "CbgT/fIRlyLx/fRUm67P0BhyTP9ev6nykdgi2V0LM8uZnpD36/kSRRZKgqgb/EjQ0pNzxKdaegtW\n",
              "zfnstLX/apsC5iQbdoeTpCFh/S9bK8AsbxS2bbwdScVVwqv4/alCrHNYGHrL5QPiD68hR2rHzjeK\n",
              "oI4b1OwrjYHwpN86IVOxoBeNEC9e8BWQbGpFMvklwWeaMO5N1Hb9Q78vtXR/hv5/z+Tls6R+yZr9\n",
              "SeWx4Oy59pqO7qLiRRbRuaxHBFJbH/YNmZlAXWMIm8tGHXoy2Kd4Cr9u4jWl57e+fOw2L47wZhxr\n",
              "bat5C/rhtVaD/8VifeExObZgElPiGOCpHiqui6vsibYAe9az+XWOqPHx/soFQ3h+CF+o1ZfFL5ON\n",
              "YEqT+ujZZMDmYMyatGlEcMN9qJNDCWjiey52r8jrQru8rkT9p0vl/lF1ljGE6okm7B9q32wEuby4\n",
              "KEI2XSrPhyiISyLp9JQ/NZB9ara8NjpfpCq8fWW4d0b1xZI7ylrt5KIEh7hdqyWVzA49R0hCCvJM\n",
              "WxCqJP+xYdyW6QAAAFNBnyhFESwQ/wARRzamP+iRs9ZgANlc9ptkDLf+398Nhp/sKAlG2BDj1dKk\n",
              "P77oCNmrS8Zj3066QXQEqMxhqeDRKW6LEI3nCd0QPTpQ5KLq35k28AAAAC8Bn0d0Q/8AJsEuADY0\n",
              "r8sr3osSLMetDykTP9ZyEbFt7I0HPZKV9yOwN8OvwCkGfAAAACkBn0lqQ/8AGwqNADnF2P9nL79s\n",
              "ZOQP/LJaWv9Bu9Ve9W6ksuEZtUiggQAAAsxBm05JqEFsmUwIKf/+1oywA5GuwRSACtpspU59mJqR\n",
              "KoL1lToIOhujH1gr2tlJFrdBc/K6fE9ZdqUmSQpSwSNsTqeQhvxky3mwag6BYfQ/Wxs1wm7kmq13\n",
              "iiafspRAecKJeQidH0ODb5uIYAELtZFz05ydngDh9JOcsQ3TSrCC6wPBlgvyc5k/UZOnxYMxcM1v\n",
              "ZESFgD6oOlADuC2VrieVQS6K3h9Luzm+dohFUunIqik+kSwEPKV1xAvQE0pjqLB0+/I+ec7Skb/0\n",
              "r7wYTEaoVxSdughDuOd1yOAHS1GkvzByJ4qYqDUW4ohombfpi1Fh1oeIMKFIGEHh+iESSTzkUUu2\n",
              "YN/a4Y+4JNjuMuTf1NvpUyICOS0SkR4ife0ucx9a/wJC9mEQQDba1fr9GHM0xPWf9lkvs16eFcCJ\n",
              "HUPet6XMd+EXCtRzSeivV7afk1vi3VlnXQUKr4dJK5xluLaA/gItiG0j+98DXVN9VFph377EfJFQ\n",
              "yICWWNjOmf158TDPKyyLUJrYtUi+cJlSSC3X8mAwk4a3afEC4JH6+HLdYVTwXaxB7z84LoQ20dMh\n",
              "/+NB8TQLTxgy4mz/BT82OJKztRNBFX+CJY5pjSjY0cNLdNfUDid06xi3Co6dSQccKMDFKDyV0+AK\n",
              "v/aCJbChJPhCe+9j2yQv0khWKLhKnx8n9+tj46HBuowO6tcMW8qxYAaeMoJTjo81u8I1P+FA9qxv\n",
              "EzJ70ZJQ5D78zTXt7V8pO6AQS8tNr4IfSOh2pmYNPjaGkc4IxvC5sykZgE/nSRp8C5Nmvm/VVHyM\n",
              "ldVbFdwucb0ZzbF0lR+lnmlrAGYwgzVCaAmB3g1ciH5/0MraqtFh/SJCrNXKqqjx02Pv9VgBeSaI\n",
              "5Ttxi7RtfTYJUE35Tl3HLdce0hL+H275YecbWkHBAQD2VrpPCDdReAllM4qN12cG5YSqxgVq3ubt\n",
              "gAAAAD9Bn2xFFSwQ/wARGtwfoFsd8wb6AAc2AmLvR/rY6fzonJIxAimXzEX+8fYBTesbTgeKhdf1\n",
              "U9LYwgCU/BK7deIAAAAqAZ+LdEP/AAo6lkADamaMCTatAkvbEOVMS0cmOeRcEk7V1OtNZnfpX16H\n",
              "AAAAHQGfjWpD/wAKOTuQo5XpX/0LaZcBxFPXPR7AcOV5AAACIEGbkkmoQWyZTAgn//61KoAN75Zy\n",
              "iABySVQr36pW0uP4D0DHw1/w5CcomfL6GblqDM0Qd8B45oX/TQjyder1oj2ecPVbNYlms29ofAcA\n",
              "QTsUJeameb5llbBWNPFxSa1hPGcjDsPDcSwSGAaIHfy9PtVPR41wTOUvy4+4DkN4BVEEKuYW1jrm\n",
              "ORycGuDStcrGNa8yhVlsxnVIdo+2h8w3VZX9ccpK2EzC3FVAjA7RYj0hZabddhRil3/FbI4n5atD\n",
              "1RHog10RqumHlexys38M6rnsLVa9mGRccur7NNq/N1yabbLVDyToMh7zPv5oFcSeZEU7pfAoP59b\n",
              "M2SxL23wALeki6g5pgy2JlvXNUTlkF6ynbxJq1xapthZuc733J3dAZyX9+VMoRgLl27/1pdxpRrU\n",
              "MsYp0eOQ6EgFivGu5ZQKWegGJmZetn97gzRkhaZI2QzDu6PmLI4QnBTnn2h4u+HwjEe9epMY2eGE\n",
              "sMyv9Ht8icifOaZryXQZWtGzyUjXB9zJUryUVp21z4OmiJY/pmpUil+KDTCphgh4sj7HQlXPEduW\n",
              "GqGwiEaPexh1NvMdVHnraYE8DugwGBzWccIIvS8zlbfgdyKRablSY3x1/aN9IC/WrvnVlE2ZWJ4E\n",
              "1iOKjDh5c5ZkkooTv/wBc57jR92LXM8qYagfmO9YLIRwhRWUxPNjoBlTRgCv0yhSh69EFh+2rBJM\n",
              "UXgW+g8IgDH6aS8AAABGQZ+wRRUsEP8AER/c+3tCD2a3nxmWscf4xoEUYnyBkLKKn02rmW9s3l7H\n",
              "IAIu5zGVjzkNkJtjhcYude1FO9rE6k+m5evqVwAAAC4Bn890Q/8AGv/8+fFMsO2l3FGzBSJd1QSJ\n",
              "g60FI0fiBFGzOBdVuGHg8Jov/5qQAAAAIwGf0WpD/wAa/NMg3FJ7z6ejMyW01LmBj/hA0wHepz+s\n",
              "wLKBAAAB5kGb1kmoQWyZTAgn//61KoAN5Ok9PyF1AEdVtNA6PxS0O6JeCZ3RKIliSNzWsjx1adg4\n",
              "1ytdXCzALdgtKLxdqYeS6EMsB8dU8p7PCVXnXj+J9LPMTZUrr/Hhu+7VaoM2xAeqm01POwGBN7Df\n",
              "6Q+WIBCpuaGZV0HpevWGc88BlUQBxyIDYIzq/klD4cPcDAAbMvkTcqp5zTF2hiAoia+LYQVUrZ2P\n",
              "wmrurNG4IdvEsxCS1u2Q6301O23zSqR47UTXXYCc1LsoUBCOiNQKF6SZQ/gGHHJw26zVoTM/JHSq\n",
              "7DU2SrgaD1OBijrWhHgtghU1PuwFZl0yHJe/BDm3XNEjq4gpYN3NcbjfLLnU3YT9zF5ptJfdehLV\n",
              "8h6lL9nYAN/ePdgDg/8cUcs4YU4JdBCjrSJUU7bbz0l/S84xGOss5BzDdpSupGqWzeBiFxWi1ami\n",
              "NEyMZLr7ywaHY77+Lm2xpQE+Sv7GvN6Ddbdvlx2OVwo0L7Ndf69bE9V7ZwjD6sfi2ZaAef741Bn3\n",
              "zxkFTd51jCRsLD254x+tgY48xx19NzPH9lxs3IF+QyJHs9QP7QOD7xUo8ylWb5AVf5Gt2ruyx9Q0\n",
              "F4AP6GHYyLkR7Ew3VH7ZiP9ytewGKs0xPzpFIPhwLiZtzZLUgAAAADRBn/RFFSwQ/wACWtsaI2PB\n",
              "MbB9MonOiJ+rLhdiUh2Gr4XFStjFQKb0WTGBPeSAM9fVM6TYAAAAOAGeE3RD/wAmsZsfJKYz2S0z\n",
              "LGoZhN9jb81SH6NsVopWnWGkWuMAOGLWC9SkBmkXZscmpf5FbC85AAAAJQGeFWpD/wAS1pA2KWc3\n",
              "5yzt3qBU5nmpgNSukojqFYW9jTFfaWAAAAFuQZoaSahBbJlMCCf//rUqgA3vlyH0ADiEuwTz+8f+\n",
              "wrd40rXqdD8sh8Adl1bfikGd5UEOCSN9CFZuRuIJLHGPCJbdkfhnVzoxC6sZxGVSlXSyk2E4Ta/u\n",
              "6VxhHOTs7JV9gof7q6m2iI5Vzz2TKYg4jeZQz16e0U2GYTS8NBqJPl9vgrVIVnvDpLLOa76mcZsc\n",
              "m8f7Th9/Q1iiIFaph8ECNH2C/e5b6Hc1j23/RtEBGFSCQPoA5hcb7JDf1+tt8QXU/VQqo+6a3K2+\n",
              "9vZyJokIH3bNokkKsk9ySeH8jvgcbGlD1/8z9C0zAo7Q+WN3bg/q2zTf2uPE6fSMhrBqHsygsZPq\n",
              "bm+gwR5GtjcBMb3Vm4Kd8H7pWVFEDDb2LN1OiIjTMFIU7HRxS7S/629K2WZkLUTj0XkA4QbM3N4s\n",
              "YQ7Zr1BjPDP5zjDcQtzjgmV1yMfayp929EfxfEEt04CPQ9k2U2WuaTph3ftgJri2hAQRAAAAQUGe\n",
              "OEUVLBD/AAX3VNsPuJiFdX9h9peGDQE/a/w7ypPNGzcWeqqA/41uzFZd11IP7XdFHjSIC5HpEFdZ\n",
              "EVzT2/VJAAAAHwGeV3RD/wAml6FhXgThwOgX3pHDcUztADNV5zzIMWAAAAApAZ5ZakP/ACawbY9e\n",
              "wcVapC5rvVR8DCOr4KM/T2JcVfGYepRAQNvP1AcAAAE9QZpeSahBbJlMCCX//rUqgA3tlnY6AEXk\n",
              "s/kHbnOngfM2oP+IiVclLMSoONSA/OFhkUv6cPPEHOFg+LK+8Klnh9rFnjgGLsARdzpXfAE/QUgw\n",
              "PIwVpBtavEmXcoCj0utiVoCXt5mPW5KJbA+bDVD97kbxno3gJg8IVOXbS8cyqiJ/LoqRNhPTBLIn\n",
              "IIIAjuX1rEi1FnbPigQx8UL3CiiDLPIDBFHTzG8xyE5BKzLK9tYu2piZQOFxe7Nt9CNNkKlON5hb\n",
              "EmGKN83z7A/I3d1f/W2qP+WzDqw/R1UAkAZpJLWlzFWxW6X32x57hhDXMzTeyWum2gtFEVt5CTC8\n",
              "8WC3CuBdsNPR4gFWUE6dgYgiy7vBe8C4daiF8T2MMdwtQyCYk5Fq9CIq/15AbHyU64zeq2H7Euqb\n",
              "suhdRGTcvggAAAA0QZ58RRUsEP8ACGofJP893Q4+FR7aB4wQbjcPMP/WAm8RRaMFybqoV0D8khB0\n",
              "b5YdTArhCQAAAC0Bnpt0Q/8ACWrlWhAyhXd16LJHyjy0bpwPHRvKGT2vGYiuHAYf8EGTIwB/mfEA\n",
              "AAAUAZ6dakP/AAUdH4Isvhn84wajYL4AAADTQZqCSahBbJlMCCH//qpVABvG2zHkfAwAcLiP2XDy\n",
              "CAGJuJGSEle3B7wyLzwovDacf0FrKj1ppEgRb0AZovkmrWbi6vu/3iWWxUvNDby9e47BVr6vmeye\n",
              "Rba9JfgSmFi+dvlvmwsKYFViO97v7moG16ZdM4OLR7qHV2z2kN/r//A4AHxvVFC/VjTL3JuAGkHB\n",
              "FHQa+S6Fz2VmckTWEsNLBq6gXVaokvc/Ju4fvrsqXnranhnxs7sg2nKNY31PKwjzp8K2xq3eukpI\n",
              "8+7OU1vOjDz2CAAAADJBnqBFFSwQ/wAF91TUWsk6UYdOiSEwQJwALaEbFATI3Pl0kjIl3ghSC8/0\n",
              "igzBcmjCUwAAACkBnt90Q/8AEtXKrCBYlioT3fEy31ygAfSE8VWCnw121byhZMQE0dfh0wAAACQB\n",
              "nsFqQ/8AEtg2l74jyefxQ9FpLdOsgxvUXX3Axb1RZXuHUysAAAAwQZrDSahBbJlMCH///qmWAAmN\n",
              "HqsXeZ5MlNuNLZ4pDit6363GCG/ieVoWHDWn9RwYAAAHrm1vb3YAAABsbXZoZAAAAAAAAAAAAAAA\n",
              "AAAAA+gAAE4gAAEAAAEAAAAAAAAAAAAAAAABAAAAAAAAAAAAAAAAAAAAAQAAAAAAAAAAAAAAAAAA\n",
              "QAAAAAAAAAAAAAAAAAAAAAAAAAAAAAAAAAAAAAAAAAIAAAbYdHJhawAAAFx0a2hkAAAAAwAAAAAA\n",
              "AAAAAAAAAQAAAAAAAE4gAAAAAAAAAAAAAAAAAAAAAAABAAAAAAAAAAAAAAAAAAAAAQAAAAAAAAAA\n",
              "AAAAAAAAQAAAAAGwAAABIAAAAAAAJGVkdHMAAAAcZWxzdAAAAAAAAAABAABOIAAAEAAAAQAAAAAG\n",
              "UG1kaWEAAAAgbWRoZAAAAAAAAAAAAAAAAAAAKAAAAyAAVcQAAAAAAC1oZGxyAAAAAAAAAAB2aWRl\n",
              "AAAAAAAAAAAAAAAAVmlkZW9IYW5kbGVyAAAABfttaW5mAAAAFHZtaGQAAAABAAAAAAAAAAAAAAAk\n",
              "ZGluZgAAABxkcmVmAAAAAAAAAAEAAAAMdXJsIAAAAAEAAAW7c3RibAAAALNzdHNkAAAAAAAAAAEA\n",
              "AACjYXZjMQAAAAAAAAABAAAAAAAAAAAAAAAAAAAAAAGwASAASAAAAEgAAAAAAAAAAQAAAAAAAAAA\n",
              "AAAAAAAAAAAAAAAAAAAAAAAAAAAAAAAAABj//wAAADFhdmNDAWQAFf/hABhnZAAVrNlBsJaEAAAD\n",
              "AAQAAAMAKDxYtlgBAAZo6+PLIsAAAAAcdXVpZGtoQPJfJE/FujmlG88DI/MAAAAAAAAAGHN0dHMA\n",
              "AAAAAAAAAQAAAGQAAAgAAAAAFHN0c3MAAAAAAAAAAQAAAAEAAAMAY3R0cwAAAAAAAABeAAAABgAA\n",
              "EAAAAAABAAAYAAAAAAEAAAgAAAAAAQAAGAAAAAABAAAIAAAAAAEAABAAAAAAAQAAKAAAAAABAAAQ\n",
              "AAAAAAEAAAAAAAAAAQAACAAAAAABAAAYAAAAAAEAAAgAAAAAAQAAGAAAAAABAAAIAAAAAAEAABgA\n",
              "AAAAAQAACAAAAAABAAAoAAAAAAEAABAAAAAAAQAAAAAAAAABAAAIAAAAAAEAACgAAAAAAQAAEAAA\n",
              "AAABAAAAAAAAAAEAAAgAAAAAAQAAKAAAAAABAAAQAAAAAAEAAAAAAAAAAQAACAAAAAABAAAoAAAA\n",
              "AAEAABAAAAAAAQAAAAAAAAABAAAIAAAAAAEAABAAAAAAAQAAKAAAAAABAAAQAAAAAAEAAAAAAAAA\n",
              "AQAACAAAAAABAAAoAAAAAAEAABAAAAAAAQAAAAAAAAABAAAIAAAAAAEAABgAAAAAAQAACAAAAAAB\n",
              "AAAoAAAAAAEAABAAAAAAAQAAAAAAAAABAAAIAAAAAAEAACgAAAAAAQAAEAAAAAABAAAAAAAAAAEA\n",
              "AAgAAAAAAQAAKAAAAAABAAAQAAAAAAEAAAAAAAAAAQAACAAAAAABAAAgAAAAAAIAAAgAAAAAAQAA\n",
              "GAAAAAABAAAIAAAAAAEAABgAAAAAAQAACAAAAAABAAAoAAAAAAEAABAAAAAAAQAAAAAAAAABAAAI\n",
              "AAAAAAEAACgAAAAAAQAAEAAAAAABAAAAAAAAAAEAAAgAAAAAAQAAKAAAAAABAAAQAAAAAAEAAAAA\n",
              "AAAAAQAACAAAAAABAAAoAAAAAAEAABAAAAAAAQAAAAAAAAABAAAIAAAAAAEAACgAAAAAAQAAEAAA\n",
              "AAABAAAAAAAAAAEAAAgAAAAAAQAAKAAAAAABAAAQAAAAAAEAAAAAAAAAAQAACAAAAAABAAAoAAAA\n",
              "AAEAABAAAAAAAQAAAAAAAAABAAAIAAAAAAEAACgAAAAAAQAAEAAAAAABAAAAAAAAAAEAAAgAAAAA\n",
              "AQAAEAAAAAAcc3RzYwAAAAAAAAABAAAAAQAAAGQAAAABAAABpHN0c3oAAAAAAAAAAAAAAGQAABRc\n",
              "AAAE7gAAA6IAAAOyAAADDgAAAuYAAAOOAAAAgAAAAscAAAByAAACtgAAA6AAAADLAAAAcgAAAFoA\n",
              "AALOAAAAlgAAA2AAAACfAAAC7QAAAGEAAAOiAAAAjAAAAFgAAABPAAADCwAAAOcAAAAzAAAAVgAA\n",
              "AzsAAAB7AAAARgAAAD0AAALyAAAAagAAACwAAABEAAABugAAAnMAAACWAAAARQAAAEEAAAMIAAAA\n",
              "aAAAAGUAAAA1AAACDAAAADsAAALUAAAAdwAAADMAAAAwAAACcwAAAF8AAABBAAAAbAAAAvAAAABZ\n",
              "AAAASQAAAEAAAAJqAAAAWgAAACsAAALOAAAAMQAAAncAAABFAAAChgAAAJgAAABMAAAAZAAAAwQA\n",
              "AABXAAAAMwAAAC0AAALQAAAAQwAAAC4AAAAhAAACJAAAAEoAAAAyAAAAJwAAAeoAAAA4AAAAPAAA\n",
              "ACkAAAFyAAAARQAAACMAAAAtAAABQQAAADgAAAAxAAAAGAAAANcAAAA2AAAALQAAACgAAAA0AAAA\n",
              "FHN0Y28AAAAAAAAAAQAAACwAAABidWR0YQAAAFptZXRhAAAAAAAAACFoZGxyAAAAAAAAAABtZGly\n",
              "YXBwbAAAAAAAAAAAAAAAAC1pbHN0AAAAJal0b28AAAAdZGF0YQAAAAEAAAAATGF2ZjU3LjgzLjEw\n",
              "MA==\n",
              "\">\n",
              "  Your browser does not support the video tag.\n",
              "</video>"
            ],
            "text/plain": [
              "<IPython.core.display.HTML object>"
            ]
          },
          "metadata": {
            "tags": []
          },
          "execution_count": 100
        }
      ]
    },
    {
      "cell_type": "code",
      "metadata": {
        "id": "UTWYs_hnhbHf",
        "colab_type": "code",
        "colab": {}
      },
      "source": [
        ""
      ],
      "execution_count": 0,
      "outputs": []
    }
  ]
}