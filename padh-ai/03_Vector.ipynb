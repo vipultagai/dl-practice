{
  "nbformat": 4,
  "nbformat_minor": 0,
  "metadata": {
    "colab": {
      "name": "03_Vector.ipynb",
      "version": "0.3.2",
      "provenance": [],
      "collapsed_sections": [],
      "include_colab_link": true
    },
    "kernelspec": {
      "name": "python3",
      "display_name": "Python 3"
    }
  },
  "cells": [
    {
      "cell_type": "markdown",
      "metadata": {
        "id": "view-in-github",
        "colab_type": "text"
      },
      "source": [
        "<a href=\"https://colab.research.google.com/github/satyajitghana/PadhAI-Course/blob/master/03_Vector.ipynb\" target=\"_parent\"><img src=\"https://colab.research.google.com/assets/colab-badge.svg\" alt=\"Open In Colab\"/></a>"
      ]
    },
    {
      "cell_type": "code",
      "metadata": {
        "id": "udhY69A6NYXh",
        "colab_type": "code",
        "colab": {}
      },
      "source": [
        "import numpy as np\n",
        "import matplotlib.pyplot as plt\n",
        "import seaborn as sns\n",
        "sns.set()"
      ],
      "execution_count": 0,
      "outputs": []
    },
    {
      "cell_type": "markdown",
      "metadata": {
        "id": "4x5NM5WKV8qY",
        "colab_type": "text"
      },
      "source": [
        "# Vector Plotting"
      ]
    },
    {
      "cell_type": "code",
      "metadata": {
        "id": "VOh6jrjFNjec",
        "colab_type": "code",
        "outputId": "b577ef30-2b94-4416-a9ce-043e2711d9b6",
        "colab": {
          "base_uri": "https://localhost:8080/",
          "height": 291
        }
      },
      "source": [
        "plt.quiver(0, 0, 3, 4)\n",
        "plt.plot()"
      ],
      "execution_count": 0,
      "outputs": [
        {
          "output_type": "execute_result",
          "data": {
            "text/plain": [
              "[]"
            ]
          },
          "metadata": {
            "tags": []
          },
          "execution_count": 2
        },
        {
          "output_type": "display_data",
          "data": {
            "image/png": "[encoded data removed]",
            "text/plain": [
              "<Figure size 432x288 with 1 Axes>"
            ]
          },
          "metadata": {
            "tags": []
          }
        }
      ]
    },
    {
      "cell_type": "code",
      "metadata": {
        "id": "0SpUd07tNm2P",
        "colab_type": "code",
        "outputId": "9fd61366-6a4f-4daa-918d-0651e56d1862",
        "colab": {
          "base_uri": "https://localhost:8080/",
          "height": 291
        }
      },
      "source": [
        "plt.quiver(0, 0, 3, 4, scale_units='xy', angles='xy', scale=1)\n",
        "plt.plot()"
      ],
      "execution_count": 0,
      "outputs": [
        {
          "output_type": "execute_result",
          "data": {
            "text/plain": [
              "[]"
            ]
          },
          "metadata": {
            "tags": []
          },
          "execution_count": 3
        },
        {
          "output_type": "display_data",
          "data": {
            "image/png": "[encoded data removed]",
            "text/plain": [
              "<Figure size 432x288 with 1 Axes>"
            ]
          },
          "metadata": {
            "tags": []
          }
        }
      ]
    },
    {
      "cell_type": "code",
      "metadata": {
        "id": "PwAdcRAkN45O",
        "colab_type": "code",
        "outputId": "99501a2f-d606-4782-f3a7-8de8af1ae615",
        "colab": {
          "base_uri": "https://localhost:8080/",
          "height": 291
        }
      },
      "source": [
        "plt.quiver(0, 0, 3, 4, scale_units='xy', angles='xy', scale=1)\n",
        "plt.xlim(-10, 10)\n",
        "plt.ylim(-10, 10)\n",
        "plt.plot()"
      ],
      "execution_count": 0,
      "outputs": [
        {
          "output_type": "execute_result",
          "data": {
            "text/plain": [
              "[]"
            ]
          },
          "metadata": {
            "tags": []
          },
          "execution_count": 4
        },
        {
          "output_type": "display_data",
          "data": {
            "image/png": "[encoded data removed]",
            "text/plain": [
              "<Figure size 432x288 with 1 Axes>"
            ]
          },
          "metadata": {
            "tags": []
          }
        }
      ]
    },
    {
      "cell_type": "code",
      "metadata": {
        "id": "f9wULQsJOM9L",
        "colab_type": "code",
        "outputId": "9abce632-0d02-4e03-c134-f993b5561966",
        "colab": {
          "base_uri": "https://localhost:8080/",
          "height": 291
        }
      },
      "source": [
        "plt.quiver(0, 0, 3, 4, scale_units='xy', angles='xy', scale=1, color='r')\n",
        "plt.quiver(0, 0, -3, 4, scale_units='xy', angles='xy', scale=1, color='g')\n",
        "plt.xlim(-10, 10)\n",
        "plt.ylim(-10, 10)\n",
        "plt.plot()"
      ],
      "execution_count": 0,
      "outputs": [
        {
          "output_type": "execute_result",
          "data": {
            "text/plain": [
              "[]"
            ]
          },
          "metadata": {
            "tags": []
          },
          "execution_count": 5
        },
        {
          "output_type": "display_data",
          "data": {
            "image/png": "[encoded data removed]",
            "text/plain": [
              "<Figure size 432x288 with 1 Axes>"
            ]
          },
          "metadata": {
            "tags": []
          }
        }
      ]
    },
    {
      "cell_type": "code",
      "metadata": {
        "id": "try9smhbORxe",
        "colab_type": "code",
        "colab": {}
      },
      "source": [
        "def plot_vectors(vecs):\n",
        "    colors = ['r', 'b', 'g', 'y']\n",
        "    i = 0\n",
        "    for vec in vecs:\n",
        "        plt.quiver(vec[0], vec[1], vec[2], vec[3], scale_units='xy', angles='xy', scale=1, color=colors[i%len(colors)])\n",
        "        i += 1\n",
        "    plt.xlim(-10, 10)\n",
        "    plt.ylim(-10, 10)\n",
        "    plt.show()"
      ],
      "execution_count": 0,
      "outputs": []
    },
    {
      "cell_type": "code",
      "metadata": {
        "id": "wBbjghIBOsN7",
        "colab_type": "code",
        "outputId": "1958bec4-0dfa-4858-cf6f-77fbdea334c4",
        "colab": {
          "base_uri": "https://localhost:8080/",
          "height": 274
        }
      },
      "source": [
        "plot_vectors([(0, 0, 3, 4), (0, 0, -3, 4), (0, 0, -3, -2), (0, 0, 4, -1)])"
      ],
      "execution_count": 0,
      "outputs": [
        {
          "output_type": "display_data",
          "data": {
            "image/png": "[encoded data removed]",
            "text/plain": [
              "<Figure size 432x288 with 1 Axes>"
            ]
          },
          "metadata": {
            "tags": []
          }
        }
      ]
    },
    {
      "cell_type": "code",
      "metadata": {
        "id": "xKVCKe6zPMLx",
        "colab_type": "code",
        "colab": {}
      },
      "source": [
        "vecs = [(0, 0, 3, 4), (0, 0, -3, 4), (0, 0, -3, -2), (0, 0, 4, -1)]"
      ],
      "execution_count": 0,
      "outputs": []
    },
    {
      "cell_type": "code",
      "metadata": {
        "id": "wBqgLDsQOx8d",
        "colab_type": "code",
        "outputId": "4ce26b58-96a7-40bd-b3eb-4f17ee8ad3e2",
        "colab": {
          "base_uri": "https://localhost:8080/",
          "height": 274
        }
      },
      "source": [
        "plot_vectors([vecs[0], vecs[3]])"
      ],
      "execution_count": 0,
      "outputs": [
        {
          "output_type": "display_data",
          "data": {
            "image/png": "[encoded data removed]",
            "text/plain": [
              "<Figure size 432x288 with 1 Axes>"
            ]
          },
          "metadata": {
            "tags": []
          }
        }
      ]
    },
    {
      "cell_type": "code",
      "metadata": {
        "id": "kITrDEmmPRqB",
        "colab_type": "code",
        "outputId": "27c9da8e-ae76-40f0-e2cd-779cb56c88dc",
        "colab": {
          "base_uri": "https://localhost:8080/",
          "height": 34
        }
      },
      "source": [
        "vecs[0] + vecs[1]"
      ],
      "execution_count": 0,
      "outputs": [
        {
          "output_type": "execute_result",
          "data": {
            "text/plain": [
              "(0, 0, 3, 4, 0, 0, -3, 4)"
            ]
          },
          "metadata": {
            "tags": []
          },
          "execution_count": 10
        }
      ]
    },
    {
      "cell_type": "code",
      "metadata": {
        "id": "4PuSq9f3PV3T",
        "colab_type": "code",
        "colab": {}
      },
      "source": [
        "vecs = [np.asarray([0, 0, 3, 4]), np.asarray([0, 0, -3, 4]), np.asarray([0, 0, -3, -2]), np.asarray([0, 0, 4, -1])]"
      ],
      "execution_count": 0,
      "outputs": []
    },
    {
      "cell_type": "code",
      "metadata": {
        "id": "QvP5Iq1hP62Z",
        "colab_type": "code",
        "outputId": "52e6542b-8652-4f22-ab1a-30b538c82dbb",
        "colab": {
          "base_uri": "https://localhost:8080/",
          "height": 86
        }
      },
      "source": [
        "vecs"
      ],
      "execution_count": 0,
      "outputs": [
        {
          "output_type": "execute_result",
          "data": {
            "text/plain": [
              "[array([0, 0, 3, 4]),\n",
              " array([ 0,  0, -3,  4]),\n",
              " array([ 0,  0, -3, -2]),\n",
              " array([ 0,  0,  4, -1])]"
            ]
          },
          "metadata": {
            "tags": []
          },
          "execution_count": 12
        }
      ]
    },
    {
      "cell_type": "code",
      "metadata": {
        "id": "v8flqxxtQKdL",
        "colab_type": "code",
        "outputId": "3cad5fc9-b5f6-48ef-eef4-6d2c9799656f",
        "colab": {
          "base_uri": "https://localhost:8080/",
          "height": 274
        }
      },
      "source": [
        "plot_vectors([vecs[0], vecs[3]])"
      ],
      "execution_count": 0,
      "outputs": [
        {
          "output_type": "display_data",
          "data": {
            "image/png": "[encoded data removed]",
            "text/plain": [
              "<Figure size 432x288 with 1 Axes>"
            ]
          },
          "metadata": {
            "tags": []
          }
        }
      ]
    },
    {
      "cell_type": "code",
      "metadata": {
        "id": "w997ellOQP2u",
        "colab_type": "code",
        "outputId": "009378d3-83e3-4aa6-a21a-d83721a528fb",
        "colab": {
          "base_uri": "https://localhost:8080/",
          "height": 34
        }
      },
      "source": [
        "vecs[0] + vecs[3]"
      ],
      "execution_count": 0,
      "outputs": [
        {
          "output_type": "execute_result",
          "data": {
            "text/plain": [
              "array([0, 0, 7, 3])"
            ]
          },
          "metadata": {
            "tags": []
          },
          "execution_count": 14
        }
      ]
    },
    {
      "cell_type": "code",
      "metadata": {
        "id": "g0TgwNtDQUXR",
        "colab_type": "code",
        "outputId": "5eb32462-51de-4c0a-c610-ae31c2bcef40",
        "colab": {
          "base_uri": "https://localhost:8080/",
          "height": 274
        }
      },
      "source": [
        "plot_vectors([vecs[0], vecs[3], vecs[0] + vecs[3]])"
      ],
      "execution_count": 0,
      "outputs": [
        {
          "output_type": "display_data",
          "data": {
            "image/png": "[encoded data removed]",
            "text/plain": [
              "<Figure size 432x288 with 1 Axes>"
            ]
          },
          "metadata": {
            "tags": []
          }
        }
      ]
    },
    {
      "cell_type": "code",
      "metadata": {
        "id": "pvO3QpB8QYkB",
        "colab_type": "code",
        "colab": {}
      },
      "source": [
        ""
      ],
      "execution_count": 0,
      "outputs": []
    },
    {
      "cell_type": "markdown",
      "metadata": {
        "id": "37tQesUsV10R",
        "colab_type": "text"
      },
      "source": [
        "# Vector Dot Product"
      ]
    },
    {
      "cell_type": "code",
      "metadata": {
        "id": "PvemQGXkV3d5",
        "colab_type": "code",
        "colab": {}
      },
      "source": [
        "vecs = [np.asarray([0, 0, 3, 4]), np.asarray([0, 0, -3, 4]), np.asarray([0, 0, -3, -2]), np.asarray([0, 0, 4, -1])]"
      ],
      "execution_count": 0,
      "outputs": []
    },
    {
      "cell_type": "code",
      "metadata": {
        "id": "rbzfI-fbV5Bj",
        "colab_type": "code",
        "outputId": "b3eed4ab-e33f-4227-9513-e722ae94a7f3",
        "colab": {
          "base_uri": "https://localhost:8080/",
          "height": 274
        }
      },
      "source": [
        "plot_vectors(vecs)"
      ],
      "execution_count": 0,
      "outputs": [
        {
          "output_type": "display_data",
          "data": {
            "image/png": "[encoded data removed]",
            "text/plain": [
              "<Figure size 432x288 with 1 Axes>"
            ]
          },
          "metadata": {
            "tags": []
          }
        }
      ]
    },
    {
      "cell_type": "code",
      "metadata": {
        "id": "zlTdQ4aAYSSS",
        "colab_type": "code",
        "colab": {}
      },
      "source": [
        "a = np.asarray([3, 4])\n",
        "b = np.asarray([4, -1])"
      ],
      "execution_count": 0,
      "outputs": []
    },
    {
      "cell_type": "markdown",
      "metadata": {
        "id": "EdGpKpPgYbne",
        "colab_type": "text"
      },
      "source": [
        "$\\vec{a}\\cdot\\vec{b} = |\\vec{a}||\\vec{b}|\\cos{\\theta} = a_xb_x+a_yb_y$"
      ]
    },
    {
      "cell_type": "code",
      "metadata": {
        "id": "OmM0uT7iYaVK",
        "colab_type": "code",
        "colab": {}
      },
      "source": [
        "a_dot_b = np.dot(a, b)"
      ],
      "execution_count": 0,
      "outputs": []
    },
    {
      "cell_type": "code",
      "metadata": {
        "id": "pBF2vL4AYwDX",
        "colab_type": "code",
        "outputId": "1a5955a7-d527-45df-d875-285f83089676",
        "colab": {
          "base_uri": "https://localhost:8080/",
          "height": 34
        }
      },
      "source": [
        "a_dot_b"
      ],
      "execution_count": 0,
      "outputs": [
        {
          "output_type": "execute_result",
          "data": {
            "text/plain": [
              "8"
            ]
          },
          "metadata": {
            "tags": []
          },
          "execution_count": 20
        }
      ]
    },
    {
      "cell_type": "markdown",
      "metadata": {
        "id": "jLZRzhE-Y4t8",
        "colab_type": "text"
      },
      "source": [
        "$a_b = |\\vec{a}|\\cos{\\theta} = |\\vec{a}|\\frac{\\vec{a}\\cdot\\vec{b}}{|\\vec{a}||\\vec{b}|} = \\frac{\\vec{a}\\cdot\\vec{b}}{|\\vec{b}|}$"
      ]
    },
    {
      "cell_type": "code",
      "metadata": {
        "id": "4cEmEpsrYxAa",
        "colab_type": "code",
        "colab": {}
      },
      "source": [
        "a_b = np.dot(a, b)/np.linalg.norm(b)"
      ],
      "execution_count": 0,
      "outputs": []
    },
    {
      "cell_type": "code",
      "metadata": {
        "id": "5n-OFucyZjFu",
        "colab_type": "code",
        "outputId": "d386a7bd-0be1-424e-f184-a6b47d36537d",
        "colab": {
          "base_uri": "https://localhost:8080/",
          "height": 34
        }
      },
      "source": [
        "a_b"
      ],
      "execution_count": 0,
      "outputs": [
        {
          "output_type": "execute_result",
          "data": {
            "text/plain": [
              "1.9402850002906638"
            ]
          },
          "metadata": {
            "tags": []
          },
          "execution_count": 22
        }
      ]
    },
    {
      "cell_type": "markdown",
      "metadata": {
        "id": "ftjeKtDMZpIC",
        "colab_type": "text"
      },
      "source": [
        "$\\vec{a_b} = a_b \\hat{b} = a_b \\frac{\\vec{b}}{|\\vec{b}|}$"
      ]
    },
    {
      "cell_type": "code",
      "metadata": {
        "id": "Zkocku-bZj5q",
        "colab_type": "code",
        "colab": {}
      },
      "source": [
        "vec_a_b = (a_b/np.linalg.norm(b)) * b"
      ],
      "execution_count": 0,
      "outputs": []
    },
    {
      "cell_type": "code",
      "metadata": {
        "id": "YTYGWffyZ3N_",
        "colab_type": "code",
        "outputId": "6d9ebb1d-545e-4f19-b934-e20513ceaea0",
        "colab": {
          "base_uri": "https://localhost:8080/",
          "height": 34
        }
      },
      "source": [
        "vec_a_b"
      ],
      "execution_count": 0,
      "outputs": [
        {
          "output_type": "execute_result",
          "data": {
            "text/plain": [
              "array([ 1.88235294, -0.47058824])"
            ]
          },
          "metadata": {
            "tags": []
          },
          "execution_count": 24
        }
      ]
    },
    {
      "cell_type": "code",
      "metadata": {
        "id": "1-bXQp1yZ4Ah",
        "colab_type": "code",
        "outputId": "0d8a6d5a-756c-4ec0-b8c5-45ec9f1c57ef",
        "colab": {
          "base_uri": "https://localhost:8080/",
          "height": 274
        }
      },
      "source": [
        "plot_vectors([np.asarray([0, 0, 3, 4]), np.asarray([0, 0, 4, -1]), np.asarray([0, 0, 1.88235294, -0.47058824])])"
      ],
      "execution_count": 0,
      "outputs": [
        {
          "output_type": "display_data",
          "data": {
            "image/png": "[encoded data removed]",
            "text/plain": [
              "<Figure size 432x288 with 1 Axes>"
            ]
          },
          "metadata": {
            "tags": []
          }
        }
      ]
    },
    {
      "cell_type": "code",
      "metadata": {
        "id": "ZDoIkPagaMZR",
        "colab_type": "code",
        "colab": {}
      },
      "source": [
        ""
      ],
      "execution_count": 0,
      "outputs": []
    }
  ]
}